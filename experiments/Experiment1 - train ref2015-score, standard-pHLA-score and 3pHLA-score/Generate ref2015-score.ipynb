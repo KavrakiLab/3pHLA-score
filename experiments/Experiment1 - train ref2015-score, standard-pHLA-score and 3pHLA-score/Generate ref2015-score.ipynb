{
 "cells": [
  {
   "cell_type": "markdown",
   "metadata": {},
   "source": [
    "# Generate ref2015 binding energy for the test set\n",
    "\n",
    "ref2015-score does not need training. We are using default ref2015 terms for getting the energies of the complex, the ligand and the receptor. Finally we calculate the binding energy as:\n",
    "\n",
    "$E_{binding} = E_{complex} - (E_{receptor}+E_{ligand})$"
   ]
  },
  {
   "cell_type": "code",
   "execution_count": 3,
   "metadata": {},
   "outputs": [],
   "source": [
    "import pandas as pd\n",
    "import numpy as np\n",
    "import plotly.express as px\n",
    "import pyrosetta"
   ]
  },
  {
   "cell_type": "code",
   "execution_count": 11,
   "metadata": {},
   "outputs": [],
   "source": [
    "#load the test set\n",
    "test_set = pd.read_csv(\"../Datasets/test_set.csv\")\n",
    "test_set[\"path\"] = test_set[\"fileloc\"]\n",
    "test_set = test_set[[\"allele\", \"peptide\", \"ba\", \"binder\", \"path\", \"allele_type\"]]"
   ]
  },
  {
   "cell_type": "code",
   "execution_count": 7,
   "metadata": {},
   "outputs": [],
   "source": [
    "from modeller import *\n",
    "from modeller.automodel import *\n",
    "from modeller.scripts import complete_pdb\n",
    "import subprocess\n",
    "\n",
    "\n",
    "def reformat_path(path):\n",
    "    prefix = \"/home/anja/Documents/\"\n",
    "    new = \"../../\"\n",
    "    if not prefix in path: return path\n",
    "    res = path[len(prefix):]\n",
    "    return new+res\n",
    "\n",
    "\n",
    "#extract  receptor and ligand from given PDB\n",
    "def extract_receptor_ligand(filename):\n",
    "    env = environ()\n",
    "    env.libs.topology.read(file='$(LIB)/top_heav.lib')\n",
    "    env.libs.parameters.read(file='$(LIB)/par.lib')\n",
    "    mdl = complete_pdb(env, filename)\n",
    "    \n",
    "    atmsel_lig = selection(mdl.chains[2])\n",
    "    atmsel_rec = selection(mdl.chains[0], mdl.chains[1])\n",
    "    \n",
    "    lig_name = filename[:filename.find(\".pdb\")]+\"_ligand.pdb\"\n",
    "    rec_name = filename[:filename.find(\".pdb\")]+\"_receptor.pdb\"\n",
    "    atmsel_lig.write(lig_name)\n",
    "    atmsel_rec.write(rec_name)\n",
    "    \n",
    "    return (lig_name, rec_name)"
   ]
  },
  {
   "cell_type": "code",
   "execution_count": 8,
   "metadata": {},
   "outputs": [],
   "source": [
    "def get_ref2015_binding_energy(fileloc):  \n",
    "    #extract ligand and receptor\n",
    "    (lfname, rfname) = extract_receptor_ligand(fileloc)\n",
    "    \n",
    "    #score\n",
    "    scorefxn = pyrosetta.get_fa_scorefxn()\n",
    "    pose = pyrosetta.pose_from_pdb(lfname)\n",
    "    l_ene = scorefxn(pose)\n",
    "    pose = pyrosetta.pose_from_pdb(rfname)\n",
    "    r_ene = scorefxn(pose)\n",
    "    pose = pyrosetta.pose_from_pdb(fileloc)\n",
    "    complex_ene = scorefxn(pose)\n",
    "    \n",
    "    #remove_extra files\n",
    "    command = \"rm \"+lfname\n",
    "    process = subprocess.Popen(command, shell=True, stdout=subprocess.PIPE)\n",
    "    process.wait()\n",
    "    command = \"rm \"+rfname\n",
    "    process = subprocess.Popen(command, shell=True, stdout=subprocess.PIPE)\n",
    "    process.wait()\n",
    "    \n",
    "    return (complex_ene-(r_ene+l_ene))"
   ]
  },
  {
   "cell_type": "code",
   "execution_count": null,
   "metadata": {},
   "outputs": [],
   "source": [
    "import pyrosetta\n",
    "pyrosetta.init()\n",
    "test_set[\"path\"] = test_set[\"path\"].apply(reformat_path)\n",
    "test_set[\"ref2015-score\"] = test_set[\"path\"].apply(get_ref2015_binding_energy)"
   ]
  },
  {
   "cell_type": "code",
   "execution_count": null,
   "metadata": {},
   "outputs": [],
   "source": [
    "test_set.to_csv(\"ref2015-score_testset_results.csv\")"
   ]
  }
 ],
 "metadata": {
  "kernelspec": {
   "display_name": "Python 3",
   "language": "python",
   "name": "python3"
  },
  "language_info": {
   "codemirror_mode": {
    "name": "ipython",
    "version": 3
   },
   "file_extension": ".py",
   "mimetype": "text/x-python",
   "name": "python",
   "nbconvert_exporter": "python",
   "pygments_lexer": "ipython3",
   "version": "3.8.5"
  }
 },
 "nbformat": 4,
 "nbformat_minor": 2
}
