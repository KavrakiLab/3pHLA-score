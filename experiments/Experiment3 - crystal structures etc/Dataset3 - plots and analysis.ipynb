{
 "cells": [
  {
   "cell_type": "code",
   "execution_count": 163,
   "metadata": {},
   "outputs": [],
   "source": [
    "import pandas as pd\n",
    "import seaborn as sns\n",
    "import matplotlib.pyplot as plt"
   ]
  },
  {
   "cell_type": "code",
   "execution_count": 164,
   "metadata": {},
   "outputs": [],
   "source": [
    "dataset = pd.read_csv(\"dataset3_results.csv\")"
   ]
  },
  {
   "cell_type": "code",
   "execution_count": 165,
   "metadata": {},
   "outputs": [],
   "source": [
    "def convert_to_float(x):\n",
    "    if not x[0] == \">\":\n",
    "        return float(x)\n",
    "    else:\n",
    "        return 70000\n",
    "import math\n",
    "\n",
    "def log_convertion(x):\n",
    "    res = 1 - math.log(x)/math.log(50000)\n",
    "    if res < 0: return 0\n",
    "    return res\n",
    "\n",
    "def get_from_array(x):\n",
    "    tmp = x.strip(\"[]\")\n",
    "    return float(tmp)\n",
    "\n",
    "def get_from_tuple(x):\n",
    "    tmp = x.strip(\"()\")\n",
    "    tmp = tmp.split(\",\")\n",
    "    return float(tmp[1])\n",
    "\n",
    "dataset[\"3pHLA-score\"] = dataset[\"3pHLA-score\"].apply(get_from_array)\n",
    "dataset[\"GD_score\"] = dataset[\"GD_score\"].apply(get_from_tuple)\n",
    "dataset[\"dope_score\"] = dataset[\"dope_score\"].apply(get_from_tuple)\n",
    "dataset[\"ba_float\"] = dataset[\"BA\"].apply(convert_to_float)\n",
    "dataset[\"ba_log\"] = dataset[\"ba_float\"].apply(log_convertion)\n",
    "dataset = dataset.sort_values(by=['ba_float', 'resolution'])  "
   ]
  },
  {
   "cell_type": "code",
   "execution_count": 166,
   "metadata": {},
   "outputs": [
    {
     "data": {
      "text/html": [
       "<div>\n",
       "<style scoped>\n",
       "    .dataframe tbody tr th:only-of-type {\n",
       "        vertical-align: middle;\n",
       "    }\n",
       "\n",
       "    .dataframe tbody tr th {\n",
       "        vertical-align: top;\n",
       "    }\n",
       "\n",
       "    .dataframe thead th {\n",
       "        text-align: right;\n",
       "    }\n",
       "</style>\n",
       "<table border=\"1\" class=\"dataframe\">\n",
       "  <thead>\n",
       "    <tr style=\"text-align: right;\">\n",
       "      <th></th>\n",
       "      <th>Unnamed: 0</th>\n",
       "      <th>peptide</th>\n",
       "      <th>pdb_code</th>\n",
       "      <th>BA</th>\n",
       "      <th>fname</th>\n",
       "      <th>complex_number</th>\n",
       "      <th>alt_conf</th>\n",
       "      <th>resolution</th>\n",
       "      <th>3pHLA-score</th>\n",
       "      <th>vina-score</th>\n",
       "      <th>vinardo-score</th>\n",
       "      <th>ad4_scoring-score</th>\n",
       "      <th>dope_score</th>\n",
       "      <th>path</th>\n",
       "      <th>foldx_score</th>\n",
       "      <th>GD_score</th>\n",
       "      <th>ba_float</th>\n",
       "      <th>ba_log</th>\n",
       "    </tr>\n",
       "  </thead>\n",
       "  <tbody>\n",
       "    <tr>\n",
       "      <th>74</th>\n",
       "      <td>74</td>\n",
       "      <td>FLPSDFFPSV</td>\n",
       "      <td>3OXR</td>\n",
       "      <td>0.57</td>\n",
       "      <td>3OXR-1_complex.pdb</td>\n",
       "      <td>1</td>\n",
       "      <td>a</td>\n",
       "      <td>1.7</td>\n",
       "      <td>0.546826</td>\n",
       "      <td>-9.85172</td>\n",
       "      <td>-13.66995</td>\n",
       "      <td>-79.88352</td>\n",
       "      <td>1998.301758</td>\n",
       "      <td>/data/COMP590P/energy_analysis/Fixed_PDBs/3OXR...</td>\n",
       "      <td>-16.075900</td>\n",
       "      <td>-55.469</td>\n",
       "      <td>0.57</td>\n",
       "      <td>1.051953</td>\n",
       "    </tr>\n",
       "    <tr>\n",
       "      <th>42</th>\n",
       "      <td>42</td>\n",
       "      <td>FLPSDFFPSV</td>\n",
       "      <td>3OXS</td>\n",
       "      <td>0.57</td>\n",
       "      <td>3OXS-1_complex.pdb</td>\n",
       "      <td>1</td>\n",
       "      <td>a</td>\n",
       "      <td>1.75</td>\n",
       "      <td>0.538958</td>\n",
       "      <td>-10.20710</td>\n",
       "      <td>-14.40988</td>\n",
       "      <td>-79.75857</td>\n",
       "      <td>2031.212402</td>\n",
       "      <td>/data/COMP590P/energy_analysis/Fixed_PDBs/3OXS...</td>\n",
       "      <td>-19.925900</td>\n",
       "      <td>791.450</td>\n",
       "      <td>0.57</td>\n",
       "      <td>1.051953</td>\n",
       "    </tr>\n",
       "    <tr>\n",
       "      <th>19</th>\n",
       "      <td>19</td>\n",
       "      <td>FLPSDFFPSV</td>\n",
       "      <td>3OX8</td>\n",
       "      <td>0.57</td>\n",
       "      <td>3OX8-1_complex.pdb</td>\n",
       "      <td>1</td>\n",
       "      <td>a</td>\n",
       "      <td>2.16</td>\n",
       "      <td>0.536212</td>\n",
       "      <td>-9.50435</td>\n",
       "      <td>-13.38436</td>\n",
       "      <td>-74.94506</td>\n",
       "      <td>1937.515381</td>\n",
       "      <td>/data/COMP590P/energy_analysis/Fixed_PDBs/3OX8...</td>\n",
       "      <td>-13.381200</td>\n",
       "      <td>405.423</td>\n",
       "      <td>0.57</td>\n",
       "      <td>1.051953</td>\n",
       "    </tr>\n",
       "    <tr>\n",
       "      <th>57</th>\n",
       "      <td>57</td>\n",
       "      <td>FLPSDFFPSV</td>\n",
       "      <td>3OX8</td>\n",
       "      <td>0.57</td>\n",
       "      <td>3OX8-2_complex.pdb</td>\n",
       "      <td>2</td>\n",
       "      <td>a</td>\n",
       "      <td>2.16</td>\n",
       "      <td>0.541799</td>\n",
       "      <td>-10.00845</td>\n",
       "      <td>-14.26960</td>\n",
       "      <td>-79.57320</td>\n",
       "      <td>1939.263428</td>\n",
       "      <td>/data/COMP590P/energy_analysis/Fixed_PDBs/3OX8...</td>\n",
       "      <td>-13.403500</td>\n",
       "      <td>61.343</td>\n",
       "      <td>0.57</td>\n",
       "      <td>1.051953</td>\n",
       "    </tr>\n",
       "    <tr>\n",
       "      <th>21</th>\n",
       "      <td>21</td>\n",
       "      <td>FLPSDFFPSV</td>\n",
       "      <td>1HHH</td>\n",
       "      <td>0.57</td>\n",
       "      <td>1HHH-1_complex.pdb</td>\n",
       "      <td>1</td>\n",
       "      <td>a</td>\n",
       "      <td>3</td>\n",
       "      <td>0.541521</td>\n",
       "      <td>-9.38964</td>\n",
       "      <td>-12.63875</td>\n",
       "      <td>-79.03743</td>\n",
       "      <td>2011.900635</td>\n",
       "      <td>/data/COMP590P/energy_analysis/Fixed_PDBs/1HHH...</td>\n",
       "      <td>-15.436600</td>\n",
       "      <td>-128.731</td>\n",
       "      <td>0.57</td>\n",
       "      <td>1.051953</td>\n",
       "    </tr>\n",
       "    <tr>\n",
       "      <th>...</th>\n",
       "      <td>...</td>\n",
       "      <td>...</td>\n",
       "      <td>...</td>\n",
       "      <td>...</td>\n",
       "      <td>...</td>\n",
       "      <td>...</td>\n",
       "      <td>...</td>\n",
       "      <td>...</td>\n",
       "      <td>...</td>\n",
       "      <td>...</td>\n",
       "      <td>...</td>\n",
       "      <td>...</td>\n",
       "      <td>...</td>\n",
       "      <td>...</td>\n",
       "      <td>...</td>\n",
       "      <td>...</td>\n",
       "      <td>...</td>\n",
       "      <td>...</td>\n",
       "    </tr>\n",
       "    <tr>\n",
       "      <th>5</th>\n",
       "      <td>5</td>\n",
       "      <td>ETLNEYKQL</td>\n",
       "      <td>NA6P</td>\n",
       "      <td>&gt;70000</td>\n",
       "      <td>NA6P_complex.pdb</td>\n",
       "      <td>1</td>\n",
       "      <td>a</td>\n",
       "      <td>-</td>\n",
       "      <td>0.178695</td>\n",
       "      <td>-7.00214</td>\n",
       "      <td>-10.10812</td>\n",
       "      <td>-54.72781</td>\n",
       "      <td>1327.173584</td>\n",
       "      <td>/data/COMP590P/energy_analysis/Fixed_PDBs/NA6P...</td>\n",
       "      <td>-9.523360</td>\n",
       "      <td>-141.145</td>\n",
       "      <td>70000.00</td>\n",
       "      <td>0.000000</td>\n",
       "    </tr>\n",
       "    <tr>\n",
       "      <th>23</th>\n",
       "      <td>23</td>\n",
       "      <td>AAEQRRSTI</td>\n",
       "      <td>NG7L</td>\n",
       "      <td>&gt;70000</td>\n",
       "      <td>NG7L_complex.pdb</td>\n",
       "      <td>1</td>\n",
       "      <td>a</td>\n",
       "      <td>-</td>\n",
       "      <td>0.146312</td>\n",
       "      <td>-5.66904</td>\n",
       "      <td>-7.56517</td>\n",
       "      <td>-50.11811</td>\n",
       "      <td>902.734131</td>\n",
       "      <td>/data/COMP590P/energy_analysis/Fixed_PDBs/NG7L...</td>\n",
       "      <td>-2.920080</td>\n",
       "      <td>-92.335</td>\n",
       "      <td>70000.00</td>\n",
       "      <td>0.000000</td>\n",
       "    </tr>\n",
       "    <tr>\n",
       "      <th>60</th>\n",
       "      <td>60</td>\n",
       "      <td>ATKRYPGVM</td>\n",
       "      <td>NIMV</td>\n",
       "      <td>&gt;70000</td>\n",
       "      <td>NIMV_complex.pdb</td>\n",
       "      <td>1</td>\n",
       "      <td>a</td>\n",
       "      <td>-</td>\n",
       "      <td>0.095861</td>\n",
       "      <td>-6.25694</td>\n",
       "      <td>-7.11619</td>\n",
       "      <td>-44.67985</td>\n",
       "      <td>944.853149</td>\n",
       "      <td>/data/COMP590P/energy_analysis/Fixed_PDBs/NIMV...</td>\n",
       "      <td>-3.588400</td>\n",
       "      <td>-69.757</td>\n",
       "      <td>70000.00</td>\n",
       "      <td>0.000000</td>\n",
       "    </tr>\n",
       "    <tr>\n",
       "      <th>63</th>\n",
       "      <td>63</td>\n",
       "      <td>EIDVSEVKT</td>\n",
       "      <td>NG5R</td>\n",
       "      <td>&gt;70000</td>\n",
       "      <td>NG5R_complex.pdb</td>\n",
       "      <td>1</td>\n",
       "      <td>a</td>\n",
       "      <td>-</td>\n",
       "      <td>0.087439</td>\n",
       "      <td>-6.37471</td>\n",
       "      <td>-8.89797</td>\n",
       "      <td>-45.51508</td>\n",
       "      <td>1093.936035</td>\n",
       "      <td>/data/COMP590P/energy_analysis/Fixed_PDBs/NG5R...</td>\n",
       "      <td>-11.419300</td>\n",
       "      <td>-120.118</td>\n",
       "      <td>70000.00</td>\n",
       "      <td>0.000000</td>\n",
       "    </tr>\n",
       "    <tr>\n",
       "      <th>68</th>\n",
       "      <td>68</td>\n",
       "      <td>DAKRNSKSL</td>\n",
       "      <td>NEEV</td>\n",
       "      <td>&gt;70000</td>\n",
       "      <td>NEEV_complex.pdb</td>\n",
       "      <td>1</td>\n",
       "      <td>a</td>\n",
       "      <td>-</td>\n",
       "      <td>0.090260</td>\n",
       "      <td>-6.24325</td>\n",
       "      <td>-8.11275</td>\n",
       "      <td>-43.58962</td>\n",
       "      <td>719.652161</td>\n",
       "      <td>/data/COMP590P/energy_analysis/Fixed_PDBs/NEEV...</td>\n",
       "      <td>-0.484432</td>\n",
       "      <td>-91.415</td>\n",
       "      <td>70000.00</td>\n",
       "      <td>0.000000</td>\n",
       "    </tr>\n",
       "  </tbody>\n",
       "</table>\n",
       "<p>82 rows × 18 columns</p>\n",
       "</div>"
      ],
      "text/plain": [
       "    Unnamed: 0     peptide pdb_code      BA               fname  \\\n",
       "74          74  FLPSDFFPSV     3OXR    0.57  3OXR-1_complex.pdb   \n",
       "42          42  FLPSDFFPSV     3OXS    0.57  3OXS-1_complex.pdb   \n",
       "19          19  FLPSDFFPSV     3OX8    0.57  3OX8-1_complex.pdb   \n",
       "57          57  FLPSDFFPSV     3OX8    0.57  3OX8-2_complex.pdb   \n",
       "21          21  FLPSDFFPSV     1HHH    0.57  1HHH-1_complex.pdb   \n",
       "..         ...         ...      ...     ...                 ...   \n",
       "5            5   ETLNEYKQL     NA6P  >70000    NA6P_complex.pdb   \n",
       "23          23   AAEQRRSTI     NG7L  >70000    NG7L_complex.pdb   \n",
       "60          60   ATKRYPGVM     NIMV  >70000    NIMV_complex.pdb   \n",
       "63          63   EIDVSEVKT     NG5R  >70000    NG5R_complex.pdb   \n",
       "68          68   DAKRNSKSL     NEEV  >70000    NEEV_complex.pdb   \n",
       "\n",
       "    complex_number alt_conf resolution  3pHLA-score  vina-score  \\\n",
       "74               1        a        1.7     0.546826    -9.85172   \n",
       "42               1        a       1.75     0.538958   -10.20710   \n",
       "19               1        a       2.16     0.536212    -9.50435   \n",
       "57               2        a       2.16     0.541799   -10.00845   \n",
       "21               1        a          3     0.541521    -9.38964   \n",
       "..             ...      ...        ...          ...         ...   \n",
       "5                1        a          -     0.178695    -7.00214   \n",
       "23               1        a          -     0.146312    -5.66904   \n",
       "60               1        a          -     0.095861    -6.25694   \n",
       "63               1        a          -     0.087439    -6.37471   \n",
       "68               1        a          -     0.090260    -6.24325   \n",
       "\n",
       "    vinardo-score  ad4_scoring-score   dope_score  \\\n",
       "74      -13.66995          -79.88352  1998.301758   \n",
       "42      -14.40988          -79.75857  2031.212402   \n",
       "19      -13.38436          -74.94506  1937.515381   \n",
       "57      -14.26960          -79.57320  1939.263428   \n",
       "21      -12.63875          -79.03743  2011.900635   \n",
       "..            ...                ...          ...   \n",
       "5       -10.10812          -54.72781  1327.173584   \n",
       "23       -7.56517          -50.11811   902.734131   \n",
       "60       -7.11619          -44.67985   944.853149   \n",
       "63       -8.89797          -45.51508  1093.936035   \n",
       "68       -8.11275          -43.58962   719.652161   \n",
       "\n",
       "                                                 path  foldx_score  GD_score  \\\n",
       "74  /data/COMP590P/energy_analysis/Fixed_PDBs/3OXR...   -16.075900   -55.469   \n",
       "42  /data/COMP590P/energy_analysis/Fixed_PDBs/3OXS...   -19.925900   791.450   \n",
       "19  /data/COMP590P/energy_analysis/Fixed_PDBs/3OX8...   -13.381200   405.423   \n",
       "57  /data/COMP590P/energy_analysis/Fixed_PDBs/3OX8...   -13.403500    61.343   \n",
       "21  /data/COMP590P/energy_analysis/Fixed_PDBs/1HHH...   -15.436600  -128.731   \n",
       "..                                                ...          ...       ...   \n",
       "5   /data/COMP590P/energy_analysis/Fixed_PDBs/NA6P...    -9.523360  -141.145   \n",
       "23  /data/COMP590P/energy_analysis/Fixed_PDBs/NG7L...    -2.920080   -92.335   \n",
       "60  /data/COMP590P/energy_analysis/Fixed_PDBs/NIMV...    -3.588400   -69.757   \n",
       "63  /data/COMP590P/energy_analysis/Fixed_PDBs/NG5R...   -11.419300  -120.118   \n",
       "68  /data/COMP590P/energy_analysis/Fixed_PDBs/NEEV...    -0.484432   -91.415   \n",
       "\n",
       "    ba_float    ba_log  \n",
       "74      0.57  1.051953  \n",
       "42      0.57  1.051953  \n",
       "19      0.57  1.051953  \n",
       "57      0.57  1.051953  \n",
       "21      0.57  1.051953  \n",
       "..       ...       ...  \n",
       "5   70000.00  0.000000  \n",
       "23  70000.00  0.000000  \n",
       "60  70000.00  0.000000  \n",
       "63  70000.00  0.000000  \n",
       "68  70000.00  0.000000  \n",
       "\n",
       "[82 rows x 18 columns]"
      ]
     },
     "execution_count": 166,
     "metadata": {},
     "output_type": "execute_result"
    }
   ],
   "source": [
    "dataset"
   ]
  },
  {
   "cell_type": "code",
   "execution_count": 167,
   "metadata": {},
   "outputs": [],
   "source": [
    "scorings = ['vina-score', 'vinardo-score', 'ad4_scoring-score', 'foldx_score', 'GD_score', 'dope_score',  '3pHLA-score']"
   ]
  },
  {
   "cell_type": "code",
   "execution_count": 168,
   "metadata": {},
   "outputs": [
    {
     "name": "stdout",
     "output_type": "stream",
     "text": [
      "vina-score\n",
      "vinardo-score\n",
      "ad4_scoring-score\n",
      "foldx_score\n",
      "GD_score\n",
      "dope_score\n",
      "3pHLA-score\n"
     ]
    }
   ],
   "source": [
    "from scipy import stats\n",
    "\n",
    "results={\"function\": [], \"pearsons\":[], \"spearmans\":[]}\n",
    "for f in scorings:\n",
    "    print(f)\n",
    "    spear = stats.spearmanr(dataset[\"ba_float\"], dataset[f])\n",
    "    pear = stats.pearsonr(dataset[\"ba_float\"], dataset[f])\n",
    "    results[\"function\"].append(f)\n",
    "    results[\"pearsons\"].append(pear)\n",
    "    results[\"spearmans\"].append(spear)\n",
    "    "
   ]
  },
  {
   "cell_type": "markdown",
   "metadata": {},
   "source": [
    "## Correlations"
   ]
  },
  {
   "cell_type": "code",
   "execution_count": 169,
   "metadata": {},
   "outputs": [
    {
     "data": {
      "text/html": [
       "<div>\n",
       "<style scoped>\n",
       "    .dataframe tbody tr th:only-of-type {\n",
       "        vertical-align: middle;\n",
       "    }\n",
       "\n",
       "    .dataframe tbody tr th {\n",
       "        vertical-align: top;\n",
       "    }\n",
       "\n",
       "    .dataframe thead th {\n",
       "        text-align: right;\n",
       "    }\n",
       "</style>\n",
       "<table border=\"1\" class=\"dataframe\">\n",
       "  <thead>\n",
       "    <tr style=\"text-align: right;\">\n",
       "      <th></th>\n",
       "      <th>function</th>\n",
       "      <th>pearsons</th>\n",
       "      <th>spearmans</th>\n",
       "    </tr>\n",
       "  </thead>\n",
       "  <tbody>\n",
       "    <tr>\n",
       "      <th>0</th>\n",
       "      <td>vina-score</td>\n",
       "      <td>(0.4582664211199807, 1.4953794526502665e-05)</td>\n",
       "      <td>(0.7088843317537417, 9.21499165726359e-14)</td>\n",
       "    </tr>\n",
       "    <tr>\n",
       "      <th>1</th>\n",
       "      <td>vinardo-score</td>\n",
       "      <td>(0.42773142485305427, 6.117916048105315e-05)</td>\n",
       "      <td>(0.652946877338611, 2.9750350013108935e-11)</td>\n",
       "    </tr>\n",
       "    <tr>\n",
       "      <th>2</th>\n",
       "      <td>ad4_scoring-score</td>\n",
       "      <td>(0.17633955904166365, 0.1130221621118922)</td>\n",
       "      <td>(0.5062826807466041, 1.2184679030809588e-06)</td>\n",
       "    </tr>\n",
       "    <tr>\n",
       "      <th>3</th>\n",
       "      <td>foldx_score</td>\n",
       "      <td>(0.2465806581145948, 0.025535251291590275)</td>\n",
       "      <td>(0.5640913603787095, 3.4141977345568e-08)</td>\n",
       "    </tr>\n",
       "    <tr>\n",
       "      <th>4</th>\n",
       "      <td>GD_score</td>\n",
       "      <td>(-0.17002808073411818, 0.12671720733365543)</td>\n",
       "      <td>(-0.14752783899984154, 0.1859475757683677)</td>\n",
       "    </tr>\n",
       "    <tr>\n",
       "      <th>5</th>\n",
       "      <td>dope_score</td>\n",
       "      <td>(-0.6151681732698114, 7.785424249550638e-10)</td>\n",
       "      <td>(-0.8349429062819012, 1.8852938768188502e-22)</td>\n",
       "    </tr>\n",
       "    <tr>\n",
       "      <th>6</th>\n",
       "      <td>3pHLA-score</td>\n",
       "      <td>(-0.5571831801136314, 5.4264910515722026e-08)</td>\n",
       "      <td>(-0.3704361589296531, 0.0006132711806223601)</td>\n",
       "    </tr>\n",
       "  </tbody>\n",
       "</table>\n",
       "</div>"
      ],
      "text/plain": [
       "            function                                       pearsons  \\\n",
       "0         vina-score   (0.4582664211199807, 1.4953794526502665e-05)   \n",
       "1      vinardo-score   (0.42773142485305427, 6.117916048105315e-05)   \n",
       "2  ad4_scoring-score      (0.17633955904166365, 0.1130221621118922)   \n",
       "3        foldx_score     (0.2465806581145948, 0.025535251291590275)   \n",
       "4           GD_score    (-0.17002808073411818, 0.12671720733365543)   \n",
       "5         dope_score   (-0.6151681732698114, 7.785424249550638e-10)   \n",
       "6        3pHLA-score  (-0.5571831801136314, 5.4264910515722026e-08)   \n",
       "\n",
       "                                       spearmans  \n",
       "0     (0.7088843317537417, 9.21499165726359e-14)  \n",
       "1    (0.652946877338611, 2.9750350013108935e-11)  \n",
       "2   (0.5062826807466041, 1.2184679030809588e-06)  \n",
       "3      (0.5640913603787095, 3.4141977345568e-08)  \n",
       "4     (-0.14752783899984154, 0.1859475757683677)  \n",
       "5  (-0.8349429062819012, 1.8852938768188502e-22)  \n",
       "6   (-0.3704361589296531, 0.0006132711806223601)  "
      ]
     },
     "execution_count": 169,
     "metadata": {},
     "output_type": "execute_result"
    }
   ],
   "source": [
    "pd.DataFrame(results)"
   ]
  },
  {
   "cell_type": "markdown",
   "metadata": {},
   "source": [
    "## AUROC, AUPRC values"
   ]
  },
  {
   "cell_type": "code",
   "execution_count": 170,
   "metadata": {},
   "outputs": [],
   "source": [
    "thrs = [50, 500, 22000]\n",
    "\n",
    "for i, thr in enumerate(thrs):\n",
    "    dataset[\"binder_thr_\"+str(thr)] = dataset[\"ba_float\"].apply(lambda x: int(x<thr))"
   ]
  },
  {
   "cell_type": "code",
   "execution_count": 171,
   "metadata": {},
   "outputs": [
    {
     "name": "stdout",
     "output_type": "stream",
     "text": [
      "vina-score\n",
      "vinardo-score\n",
      "ad4_scoring-score\n",
      "foldx_score\n",
      "GD_score\n",
      "dope_score\n",
      "3pHLA-score\n"
     ]
    }
   ],
   "source": [
    "from scipy import stats\n",
    "from sklearn.metrics import roc_curve, auc\n",
    "from scipy import interp\n",
    "from sklearn.metrics import roc_auc_score\n",
    "from sklearn.metrics import average_precision_score\n",
    "\n",
    "results={\"function\": [], \"pearsons\":[], \"spearmans\":[], \"auroc_50\":[]\n",
    "        , \"auroc_500\":[], \"auroc_22000\":[], \"ap_50\":[]\n",
    "        , \"ap_500\":[], \"ap_22000\":[]}\n",
    "for f in scorings:\n",
    "    print(f)\n",
    "    spear = stats.spearmanr(dataset[\"ba_float\"], dataset[f])\n",
    "    pear = stats.pearsonr(dataset[\"ba_float\"], dataset[f])\n",
    "    for thr in thrs:\n",
    "        y_true = [1-x for x in list(dataset[\"binder_thr_\"+str(thr)] )]\n",
    "        pred = list(dataset[f])\n",
    "        if f in ['dope_score',  '3pHLA-score']:\n",
    "            pred = [-x for x in pred]\n",
    "            \n",
    "        fpr, tpr, _ =roc_curve(y_true, pred)\n",
    "        roc_auc = auc(fpr, tpr)\n",
    "        results[\"auroc_\"+str(thr)].append(roc_auc)\n",
    "        ap = average_precision_score(y_true, pred)\n",
    "        results[\"ap_\"+str(thr)].append(ap)\n",
    "        \n",
    "        \n",
    "    results[\"function\"].append(f)\n",
    "    results[\"pearsons\"].append(pear)\n",
    "    results[\"spearmans\"].append(spear)"
   ]
  },
  {
   "cell_type": "code",
   "execution_count": 172,
   "metadata": {},
   "outputs": [
    {
     "data": {
      "text/html": [
       "<div>\n",
       "<style scoped>\n",
       "    .dataframe tbody tr th:only-of-type {\n",
       "        vertical-align: middle;\n",
       "    }\n",
       "\n",
       "    .dataframe tbody tr th {\n",
       "        vertical-align: top;\n",
       "    }\n",
       "\n",
       "    .dataframe thead th {\n",
       "        text-align: right;\n",
       "    }\n",
       "</style>\n",
       "<table border=\"1\" class=\"dataframe\">\n",
       "  <thead>\n",
       "    <tr style=\"text-align: right;\">\n",
       "      <th></th>\n",
       "      <th>function</th>\n",
       "      <th>pearsons</th>\n",
       "      <th>spearmans</th>\n",
       "      <th>auroc_50</th>\n",
       "      <th>auroc_500</th>\n",
       "      <th>auroc_22000</th>\n",
       "      <th>ap_50</th>\n",
       "      <th>ap_500</th>\n",
       "      <th>ap_22000</th>\n",
       "    </tr>\n",
       "  </thead>\n",
       "  <tbody>\n",
       "    <tr>\n",
       "      <th>0</th>\n",
       "      <td>vina-score</td>\n",
       "      <td>(0.4582664211199807, 1.4953794526502665e-05)</td>\n",
       "      <td>(0.7088843317537417, 9.21499165726359e-14)</td>\n",
       "      <td>0.840476</td>\n",
       "      <td>0.813218</td>\n",
       "      <td>0.898701</td>\n",
       "      <td>0.711597</td>\n",
       "      <td>0.522727</td>\n",
       "      <td>0.269803</td>\n",
       "    </tr>\n",
       "    <tr>\n",
       "      <th>1</th>\n",
       "      <td>vinardo-score</td>\n",
       "      <td>(0.42773142485305427, 6.117916048105315e-05)</td>\n",
       "      <td>(0.652946877338611, 2.9750350013108935e-11)</td>\n",
       "      <td>0.850000</td>\n",
       "      <td>0.782328</td>\n",
       "      <td>0.867532</td>\n",
       "      <td>0.733925</td>\n",
       "      <td>0.494090</td>\n",
       "      <td>0.237879</td>\n",
       "    </tr>\n",
       "    <tr>\n",
       "      <th>2</th>\n",
       "      <td>ad4_scoring-score</td>\n",
       "      <td>(0.17633955904166365, 0.1130221621118922)</td>\n",
       "      <td>(0.5062826807466041, 1.2184679030809588e-06)</td>\n",
       "      <td>0.732143</td>\n",
       "      <td>0.632902</td>\n",
       "      <td>0.823377</td>\n",
       "      <td>0.633108</td>\n",
       "      <td>0.354330</td>\n",
       "      <td>0.175489</td>\n",
       "    </tr>\n",
       "    <tr>\n",
       "      <th>3</th>\n",
       "      <td>foldx_score</td>\n",
       "      <td>(0.2465806581145948, 0.025535251291590275)</td>\n",
       "      <td>(0.5640913603787095, 3.4141977345568e-08)</td>\n",
       "      <td>0.833929</td>\n",
       "      <td>0.704741</td>\n",
       "      <td>0.828571</td>\n",
       "      <td>0.740481</td>\n",
       "      <td>0.409356</td>\n",
       "      <td>0.196277</td>\n",
       "    </tr>\n",
       "    <tr>\n",
       "      <th>4</th>\n",
       "      <td>GD_score</td>\n",
       "      <td>(-0.17002808073411818, 0.12671720733365543)</td>\n",
       "      <td>(-0.14752783899984154, 0.1859475757683677)</td>\n",
       "      <td>0.426786</td>\n",
       "      <td>0.478448</td>\n",
       "      <td>0.163636</td>\n",
       "      <td>0.481602</td>\n",
       "      <td>0.334261</td>\n",
       "      <td>0.042875</td>\n",
       "    </tr>\n",
       "    <tr>\n",
       "      <th>5</th>\n",
       "      <td>dope_score</td>\n",
       "      <td>(-0.6151681732698114, 7.785424249550638e-10)</td>\n",
       "      <td>(-0.8349429062819012, 1.8852938768188502e-22)</td>\n",
       "      <td>1.000000</td>\n",
       "      <td>0.843391</td>\n",
       "      <td>0.997403</td>\n",
       "      <td>1.000000</td>\n",
       "      <td>0.688148</td>\n",
       "      <td>0.966667</td>\n",
       "    </tr>\n",
       "    <tr>\n",
       "      <th>6</th>\n",
       "      <td>3pHLA-score</td>\n",
       "      <td>(-0.5571831801136314, 5.4264910515722026e-08)</td>\n",
       "      <td>(-0.3704361589296531, 0.0006132711806223601)</td>\n",
       "      <td>0.764881</td>\n",
       "      <td>0.755747</td>\n",
       "      <td>0.989610</td>\n",
       "      <td>0.846894</td>\n",
       "      <td>0.716470</td>\n",
       "      <td>0.911111</td>\n",
       "    </tr>\n",
       "  </tbody>\n",
       "</table>\n",
       "</div>"
      ],
      "text/plain": [
       "            function                                       pearsons  \\\n",
       "0         vina-score   (0.4582664211199807, 1.4953794526502665e-05)   \n",
       "1      vinardo-score   (0.42773142485305427, 6.117916048105315e-05)   \n",
       "2  ad4_scoring-score      (0.17633955904166365, 0.1130221621118922)   \n",
       "3        foldx_score     (0.2465806581145948, 0.025535251291590275)   \n",
       "4           GD_score    (-0.17002808073411818, 0.12671720733365543)   \n",
       "5         dope_score   (-0.6151681732698114, 7.785424249550638e-10)   \n",
       "6        3pHLA-score  (-0.5571831801136314, 5.4264910515722026e-08)   \n",
       "\n",
       "                                       spearmans  auroc_50  auroc_500  \\\n",
       "0     (0.7088843317537417, 9.21499165726359e-14)  0.840476   0.813218   \n",
       "1    (0.652946877338611, 2.9750350013108935e-11)  0.850000   0.782328   \n",
       "2   (0.5062826807466041, 1.2184679030809588e-06)  0.732143   0.632902   \n",
       "3      (0.5640913603787095, 3.4141977345568e-08)  0.833929   0.704741   \n",
       "4     (-0.14752783899984154, 0.1859475757683677)  0.426786   0.478448   \n",
       "5  (-0.8349429062819012, 1.8852938768188502e-22)  1.000000   0.843391   \n",
       "6   (-0.3704361589296531, 0.0006132711806223601)  0.764881   0.755747   \n",
       "\n",
       "   auroc_22000     ap_50    ap_500  ap_22000  \n",
       "0     0.898701  0.711597  0.522727  0.269803  \n",
       "1     0.867532  0.733925  0.494090  0.237879  \n",
       "2     0.823377  0.633108  0.354330  0.175489  \n",
       "3     0.828571  0.740481  0.409356  0.196277  \n",
       "4     0.163636  0.481602  0.334261  0.042875  \n",
       "5     0.997403  1.000000  0.688148  0.966667  \n",
       "6     0.989610  0.846894  0.716470  0.911111  "
      ]
     },
     "execution_count": 172,
     "metadata": {},
     "output_type": "execute_result"
    }
   ],
   "source": [
    "results_df = pd.DataFrame(results)\n",
    "results_df"
   ]
  },
  {
   "cell_type": "markdown",
   "metadata": {},
   "source": [
    "## All in one plot"
   ]
  },
  {
   "cell_type": "code",
   "execution_count": 198,
   "metadata": {},
   "outputs": [
    {
     "data": {
      "text/html": [
       "<div>\n",
       "<style scoped>\n",
       "    .dataframe tbody tr th:only-of-type {\n",
       "        vertical-align: middle;\n",
       "    }\n",
       "\n",
       "    .dataframe tbody tr th {\n",
       "        vertical-align: top;\n",
       "    }\n",
       "\n",
       "    .dataframe thead th {\n",
       "        text-align: right;\n",
       "    }\n",
       "</style>\n",
       "<table border=\"1\" class=\"dataframe\">\n",
       "  <thead>\n",
       "    <tr style=\"text-align: right;\">\n",
       "      <th></th>\n",
       "      <th>score</th>\n",
       "      <th>type</th>\n",
       "      <th>ba</th>\n",
       "      <th>binder_lab</th>\n",
       "      <th>name</th>\n",
       "    </tr>\n",
       "  </thead>\n",
       "  <tbody>\n",
       "    <tr>\n",
       "      <th>0</th>\n",
       "      <td>0.870139</td>\n",
       "      <td>vina-score</td>\n",
       "      <td>0.57</td>\n",
       "      <td>strong</td>\n",
       "      <td>Vina</td>\n",
       "    </tr>\n",
       "    <tr>\n",
       "      <th>1</th>\n",
       "      <td>0.791632</td>\n",
       "      <td>vinardo-score</td>\n",
       "      <td>0.57</td>\n",
       "      <td>strong</td>\n",
       "      <td>Vinardo</td>\n",
       "    </tr>\n",
       "    <tr>\n",
       "      <th>2</th>\n",
       "      <td>1.000000</td>\n",
       "      <td>ad4_scoring-score</td>\n",
       "      <td>0.57</td>\n",
       "      <td>strong</td>\n",
       "      <td>AutoDock4</td>\n",
       "    </tr>\n",
       "    <tr>\n",
       "      <th>3</th>\n",
       "      <td>0.844741</td>\n",
       "      <td>foldx_score</td>\n",
       "      <td>0.57</td>\n",
       "      <td>strong</td>\n",
       "      <td>FoldX</td>\n",
       "    </tr>\n",
       "    <tr>\n",
       "      <th>4</th>\n",
       "      <td>0.900103</td>\n",
       "      <td>GD_score</td>\n",
       "      <td>0.57</td>\n",
       "      <td>strong</td>\n",
       "      <td>GradDock</td>\n",
       "    </tr>\n",
       "    <tr>\n",
       "      <th>...</th>\n",
       "      <td>...</td>\n",
       "      <td>...</td>\n",
       "      <td>...</td>\n",
       "      <td>...</td>\n",
       "      <td>...</td>\n",
       "    </tr>\n",
       "    <tr>\n",
       "      <th>569</th>\n",
       "      <td>0.426325</td>\n",
       "      <td>ad4_scoring-score</td>\n",
       "      <td>70000.00</td>\n",
       "      <td>non-binder</td>\n",
       "      <td>AutoDock4</td>\n",
       "    </tr>\n",
       "    <tr>\n",
       "      <th>570</th>\n",
       "      <td>0.367875</td>\n",
       "      <td>foldx_score</td>\n",
       "      <td>70000.00</td>\n",
       "      <td>non-binder</td>\n",
       "      <td>FoldX</td>\n",
       "    </tr>\n",
       "    <tr>\n",
       "      <th>571</th>\n",
       "      <td>0.923736</td>\n",
       "      <td>GD_score</td>\n",
       "      <td>70000.00</td>\n",
       "      <td>non-binder</td>\n",
       "      <td>GradDock</td>\n",
       "    </tr>\n",
       "    <tr>\n",
       "      <th>572</th>\n",
       "      <td>0.000000</td>\n",
       "      <td>dope_score</td>\n",
       "      <td>70000.00</td>\n",
       "      <td>non-binder</td>\n",
       "      <td>Dope</td>\n",
       "    </tr>\n",
       "    <tr>\n",
       "      <th>573</th>\n",
       "      <td>0.005852</td>\n",
       "      <td>3pHLA-score</td>\n",
       "      <td>70000.00</td>\n",
       "      <td>non-binder</td>\n",
       "      <td>3pHLA-score</td>\n",
       "    </tr>\n",
       "  </tbody>\n",
       "</table>\n",
       "<p>574 rows × 5 columns</p>\n",
       "</div>"
      ],
      "text/plain": [
       "        score               type        ba  binder_lab         name\n",
       "0    0.870139         vina-score      0.57      strong         Vina\n",
       "1    0.791632      vinardo-score      0.57      strong      Vinardo\n",
       "2    1.000000  ad4_scoring-score      0.57      strong    AutoDock4\n",
       "3    0.844741        foldx_score      0.57      strong        FoldX\n",
       "4    0.900103           GD_score      0.57      strong     GradDock\n",
       "..        ...                ...       ...         ...          ...\n",
       "569  0.426325  ad4_scoring-score  70000.00  non-binder    AutoDock4\n",
       "570  0.367875        foldx_score  70000.00  non-binder        FoldX\n",
       "571  0.923736           GD_score  70000.00  non-binder     GradDock\n",
       "572  0.000000         dope_score  70000.00  non-binder         Dope\n",
       "573  0.005852        3pHLA-score  70000.00  non-binder  3pHLA-score\n",
       "\n",
       "[574 rows x 5 columns]"
      ]
     },
     "execution_count": 198,
     "metadata": {},
     "output_type": "execute_result"
    }
   ],
   "source": [
    "thrs = [50, 500, 22000]\n",
    "\n",
    "for i, thr in enumerate(thrs):\n",
    "    dataset[\"binder_thr_\"+str(thr)] = dataset[\"ba_float\"].apply(lambda x: int(x<thr))\n",
    "\n",
    "name_mapping = {\"vina-score\":\"Vina\",\n",
    "               \"vinardo-score\": \"Vinardo\",\n",
    "               \"ad4_scoring-score\": \"AutoDock4\",\n",
    "               \"foldx_score\": \"FoldX\",\n",
    "               \"GD_score\": \"GradDock\",\n",
    "               \"dope_score\": \"Dope\",\n",
    "               \"3pHLA-score\":\"3pHLA-score\"}\n",
    "for f in scorings:\n",
    "    scores = list(dataset[f])\n",
    "    min_s = min(scores)\n",
    "    max_s = max(scores)\n",
    "    dataset[f+\"_scaled\"] = dataset[f].apply(lambda x: (x-min_s)/(max_s-min_s)) \n",
    "    if not f in ['dope_score',  '3pHLA-score']:\n",
    "        dataset[f+\"_scaled\"] = 1-dataset[f+\"_scaled\"]\n",
    "    \n",
    "#reformat and scale\n",
    "ref_res = {\"score\":[], \"type\":[], \"ba\":[]}\n",
    "for i, row in dataset.iterrows():\n",
    "\n",
    "    for f in scorings:\n",
    "        ref_res[\"score\"].append(row[f+\"_scaled\"])\n",
    "        ref_res[\"type\"].append(f)\n",
    "        ref_res[\"ba\"].append(row[\"ba_float\"])\n",
    "        \n",
    "def label_ba_lvl(x):\n",
    "    if x <50: return \"strong\"\n",
    "    if x <500: return \"medium\"\n",
    "    if x <22000: return \"weak\"\n",
    "    return \"non-binder\"       \n",
    "\n",
    "ref_res_df = pd.DataFrame(ref_res)\n",
    "\n",
    "ref_res_df[\"binder_lab\"] = ref_res_df[\"ba\"].apply(label_ba_lvl)\n",
    "\n",
    "ref_res_df[\"name\"] = ref_res_df[\"type\"].apply(lambda x: name_mapping[x])\n",
    "ref_res_df"
   ]
  },
  {
   "cell_type": "code",
   "execution_count": 199,
   "metadata": {},
   "outputs": [],
   "source": [
    "order = [\"Dope\", \"3pHLA-score\", \"Vina\", \"Vinardo\", \"FoldX\", \"AutoDock4\", \"GradDock\"]"
   ]
  },
  {
   "cell_type": "code",
   "execution_count": 288,
   "metadata": {},
   "outputs": [
    {
     "data": {
      "image/png": "[encoded data removed]",
      "text/plain": [
       "<Figure size 1080x504 with 1 Axes>"
      ]
     },
     "metadata": {},
     "output_type": "display_data"
    }
   ],
   "source": [
    "sns.set(rc={\"figure.figsize\": (15,7)})\n",
    "sns.set_style(\"whitegrid\")\n",
    "palette = {\"strong\": \"#018571\", \"medium\": \"#80cdc1\", \"weak\": \"#dfc27d\", \"non-binder\":\"#a6611a\"} \n",
    "ax = sns.swarmplot(x=\"name\", y=\"score\", data=ref_res_df, hue=\"binder_lab\", palette=palette, order=order)\n",
    "ax.grid(False)\n",
    "plt.legend(bbox_to_anchor=(1.05, 1), loc=2, borderaxespad=0.)\n",
    "plt.savefig(\"./figures/fig3-2.pdf\")"
   ]
  },
  {
   "cell_type": "markdown",
   "metadata": {},
   "source": [
    "## Correlation plots"
   ]
  },
  {
   "cell_type": "code",
   "execution_count": 281,
   "metadata": {},
   "outputs": [],
   "source": [
    "def label_ba_lvl(x):\n",
    "    if x <50: return \"strong\"\n",
    "    if x <500: return \"medium\"\n",
    "    if x <22000: return \"weak\"\n",
    "    return \"non-binder\" \n",
    "\n",
    "palette2 = {\"strong\": \"#052f29\", \"medium\": \"#365b55\", \"weak\": \"#756438\", \"non-binder\":\"#59340e\"} \n",
    "dataset['binder_lab'] = dataset['ba_float'].apply(lambda x: label_ba_lvl(x))\n",
    "dataset['color'] = dataset['binder_lab'].apply(lambda x: palette[x])\n",
    "dataset['linecolor'] = dataset['binder_lab'].apply(lambda x: palette2[x])"
   ]
  },
  {
   "cell_type": "code",
   "execution_count": 282,
   "metadata": {},
   "outputs": [
    {
     "data": {
      "text/html": [
       "        <script type=\"text/javascript\">\n",
       "        window.PlotlyConfig = {MathJaxConfig: 'local'};\n",
       "        if (window.MathJax) {MathJax.Hub.Config({SVG: {font: \"STIX-Web\"}});}\n",
       "        if (typeof require !== 'undefined') {\n",
       "        require.undef(\"plotly\");\n",
       "        requirejs.config({\n",
       "            paths: {\n",
       "                'plotly': ['https://cdn.plot.ly/plotly-2.2.0.min']\n",
       "            }\n",
       "        });\n",
       "        require(['plotly'], function(Plotly) {\n",
       "            window._Plotly = Plotly;\n",
       "        });\n",
       "        }\n",
       "        </script>\n",
       "        "
      ]
     },
     "metadata": {},
     "output_type": "display_data"
    }
   ],
   "source": [
    "from plotly import __version__\n",
    "from plotly.offline import download_plotlyjs, init_notebook_mode, plot, iplot\n",
    "init_notebook_mode(connected=True)\n",
    "import plotly.graph_objs as go\n",
    "import numpy as np\n",
    "import pandas as pd\n",
    "import matplotlib.pyplot as plt\n",
    "import matplotlib\n",
    "\n",
    "def make_boxplot(dataset, f):\n",
    "    traces =[]\n",
    "    for pep in dataset[\"peptide\"].iloc[::-1].unique():\n",
    "        box = go.Box(name=pep,\n",
    "                x=list(dataset[dataset[\"peptide\"]==pep][f+'_scaled']),\n",
    "                boxpoints=False,\n",
    "                jitter=0.5,\n",
    "                whiskerwidth=0.2,\n",
    "                fillcolor=dataset[dataset[\"peptide\"]==pep]['color'].iloc[0],\n",
    "                line=dict(color=dataset[dataset[\"peptide\"]==pep]['linecolor'].iloc[0], width=1),\n",
    "                marker=dict(\n",
    "                    size=2,\n",
    "                    color='rgb(0, 0, 0)'\n",
    "                ),\n",
    "            )\n",
    "        traces.append(box)    \n",
    "    fig = go.Figure(data=traces)\n",
    "    fig.update_layout({\n",
    "        'plot_bgcolor': 'rgba(0, 0, 0, 0)',\n",
    "        'paper_bgcolor' : 'rgba(0, 0, 0, 0)',\n",
    "        'paper_bgcolor' : 'rgba(0, 0, 0, 0)',\n",
    "        'font_family': \"Times New Roman\",\n",
    "        'boxgap':0.15,\n",
    "        'showlegend':False,\n",
    "        'boxgroupgap':0.15, 'width':350, 'height':450,\n",
    "        'xaxis':{'title': name_mapping[f],\n",
    "                'autorange':'reversed',\n",
    "                'linecolor' : 'Black',\n",
    "                 'zeroline': True,\n",
    "                 \"showline\": True},\n",
    "        'yaxis':{'tickfont': {'size':10}, \n",
    "                 'dtick':0.1,\n",
    "                 'linecolor' : 'Black',\n",
    "                 'zeroline': True,\n",
    "                 'title': \"Peptide\",\n",
    "                  \"showline\": True}\n",
    "        })\n",
    "    return fig"
   ]
  },
  {
   "cell_type": "code",
   "execution_count": 287,
   "metadata": {},
   "outputs": [
    {
     "data": {
      "application/vnd.plotly.v1+json": {
       "config": {
        "linkText": "Export to plot.ly",
        "plotlyServerURL": "https://plot.ly",
        "showLink": false
       },
       "data": [
        {
         "boxpoints": false,
         "fillcolor": "#a6611a",
         "jitter": 0.5,
         "line": {
          "color": "#59340e",
          "width": 1
         },
         "marker": {
          "color": "rgb(0, 0, 0)",
          "size": 2
         },
         "name": "DAKRNSKSL",
         "type": "box",
         "whiskerwidth": 0.2,
         "x": [
          0.2080431994451447
         ]
        },
        {
         "boxpoints": false,
         "fillcolor": "#a6611a",
         "jitter": 0.5,
         "line": {
          "color": "#59340e",
          "width": 1
         },
         "marker": {
          "color": "rgb(0, 0, 0)",
          "size": 2
         },
         "name": "EIDVSEVKT",
         "type": "box",
         "whiskerwidth": 0.2,
         "x": [
          0.23216399055424952
         ]
        },
        {
         "boxpoints": false,
         "fillcolor": "#a6611a",
         "jitter": 0.5,
         "line": {
          "color": "#59340e",
          "width": 1
         },
         "marker": {
          "color": "rgb(0, 0, 0)",
          "size": 2
         },
         "name": "ATKRYPGVM",
         "type": "box",
         "whiskerwidth": 0.2,
         "x": [
          0.21055509378778625
         ]
        },
        {
         "boxpoints": false,
         "fillcolor": "#a6611a",
         "jitter": 0.5,
         "line": {
          "color": "#59340e",
          "width": 1
         },
         "marker": {
          "color": "rgb(0, 0, 0)",
          "size": 2
         },
         "name": "AAEQRRSTI",
         "type": "box",
         "whiskerwidth": 0.2,
         "x": [
          0.1026849196432339
         ]
        },
        {
         "boxpoints": false,
         "fillcolor": "#a6611a",
         "jitter": 0.5,
         "line": {
          "color": "#59340e",
          "width": 1
         },
         "marker": {
          "color": "rgb(0, 0, 0)",
          "size": 2
         },
         "name": "ETLNEYKQL",
         "type": "box",
         "whiskerwidth": 0.2,
         "x": [
          0.3472872825486645
         ]
        },
        {
         "boxpoints": false,
         "fillcolor": "#dfc27d",
         "jitter": 0.5,
         "line": {
          "color": "#756438",
          "width": 1
         },
         "marker": {
          "color": "rgb(0, 0, 0)",
          "size": 2
         },
         "name": "SLLMWITQC",
         "type": "box",
         "whiskerwidth": 0.2,
         "x": [
          0.32425638569779847,
          0.28757245319784885,
          0.41655978730548415,
          0.4101506953121704,
          0.30424379870350293,
          0.3264802103459219,
          0.2525123530523459,
          0.3250930721990728,
          0.47942870458544573
         ]
        },
        {
         "boxpoints": false,
         "fillcolor": "#dfc27d",
         "jitter": 0.5,
         "line": {
          "color": "#756438",
          "width": 1
         },
         "marker": {
          "color": "rgb(0, 0, 0)",
          "size": 2
         },
         "name": "EAAGIGILTV",
         "type": "box",
         "whiskerwidth": 0.2,
         "x": [
          0.453353810134549,
          0.5868071419266174,
          0.6342634131304739
         ]
        },
        {
         "boxpoints": false,
         "fillcolor": "#dfc27d",
         "jitter": 0.5,
         "line": {
          "color": "#756438",
          "width": 1
         },
         "marker": {
          "color": "rgb(0, 0, 0)",
          "size": 2
         },
         "name": "RGPGRAFVTI",
         "type": "box",
         "whiskerwidth": 0.2,
         "x": [
          0.7308493285407345,
          0.6806059371714492,
          0.508367782432152,
          0.4001838508496225,
          0.08936398982031435,
          0.6283442231017218
         ]
        },
        {
         "boxpoints": false,
         "fillcolor": "#dfc27d",
         "jitter": 0.5,
         "line": {
          "color": "#756438",
          "width": 1
         },
         "marker": {
          "color": "rgb(0, 0, 0)",
          "size": 2
         },
         "name": "RQISQDVKL",
         "type": "box",
         "whiskerwidth": 0.2,
         "x": [
          0.3515753008676956
         ]
        },
        {
         "boxpoints": false,
         "fillcolor": "#80cdc1",
         "jitter": 0.5,
         "line": {
          "color": "#365b55",
          "width": 1
         },
         "marker": {
          "color": "rgb(0, 0, 0)",
          "size": 2
         },
         "name": "AAGIGILTV",
         "type": "box",
         "whiskerwidth": 0.2,
         "x": [
          0.4695224098039109,
          0.5052302080523736,
          0.4750948152959503,
          0.5191107637149615,
          0.5567598214334861,
          0.37303557568985335,
          0.37003010970501293,
          0.42172669341861646
         ]
        },
        {
         "boxpoints": false,
         "fillcolor": "#80cdc1",
         "jitter": 0.5,
         "line": {
          "color": "#365b55",
          "width": 1
         },
         "marker": {
          "color": "rgb(0, 0, 0)",
          "size": 2
         },
         "name": "VLRDDLLEA",
         "type": "box",
         "whiskerwidth": 0.2,
         "x": [
          0.418179949982294
         ]
        },
        {
         "boxpoints": false,
         "fillcolor": "#80cdc1",
         "jitter": 0.5,
         "line": {
          "color": "#365b55",
          "width": 1
         },
         "marker": {
          "color": "rgb(0, 0, 0)",
          "size": 2
         },
         "name": "ILKEPVHGV",
         "type": "box",
         "whiskerwidth": 0.2,
         "x": [
          0.456148269655252,
          0.6155902584737446,
          0.5912823138051438,
          0.5845924914725866,
          0.2598773960701424,
          0.6253350874392438,
          0.5504553152528318
         ]
        },
        {
         "boxpoints": false,
         "fillcolor": "#80cdc1",
         "jitter": 0.5,
         "line": {
          "color": "#365b55",
          "width": 1
         },
         "marker": {
          "color": "rgb(0, 0, 0)",
          "size": 2
         },
         "name": "CINGVCWTV",
         "type": "box",
         "whiskerwidth": 0.2,
         "x": [
          0.6673051905755343,
          0.7980539699490099
         ]
        },
        {
         "boxpoints": false,
         "fillcolor": "#018571",
         "jitter": 0.5,
         "line": {
          "color": "#052f29",
          "width": 1
         },
         "marker": {
          "color": "rgb(0, 0, 0)",
          "size": 2
         },
         "name": "LLFGYPVYV",
         "type": "box",
         "whiskerwidth": 0.2,
         "x": [
          0.5542809541895792,
          0.7876265809429972,
          0.6892003221976966,
          0.7358933004530218,
          0.7475335179181186,
          0.8783850482654354,
          0.7446142893577515,
          0.8448386901452642,
          0.9284486254304993,
          1,
          0.8417690048017734,
          0.8285820182126102,
          0.8417121247983972,
          0.8261967277484511,
          0.7979108525211602,
          0.7732634626711219,
          0,
          0.13876152049423218,
          0.16765105769283695,
          0.14446603438120975,
          0.1012317272989155,
          0.03480138787208242,
          0.8860455003330232,
          0.7447060312986808,
          0.7602012451216222
         ]
        },
        {
         "boxpoints": false,
         "fillcolor": "#018571",
         "jitter": 0.5,
         "line": {
          "color": "#052f29",
          "width": 1
         },
         "marker": {
          "color": "rgb(0, 0, 0)",
          "size": 2
         },
         "name": "ALWGFFPVL",
         "type": "box",
         "whiskerwidth": 0.2,
         "x": [
          0.9370375059402908,
          0.9605142686240729,
          0.9529418888197769,
          0.9510868667741883,
          0.8569981669960202,
          0.8343085501654108,
          0.9232395180245394,
          0.8786988057034131,
          0.8492404684710472,
          0.8464900450819899
         ]
        },
        {
         "boxpoints": false,
         "fillcolor": "#018571",
         "jitter": 0.5,
         "line": {
          "color": "#052f29",
          "width": 1
         },
         "marker": {
          "color": "rgb(0, 0, 0)",
          "size": 2
         },
         "name": "FLPSDFFPSV",
         "type": "box",
         "whiskerwidth": 0.2,
         "x": [
          0.8701392826147188,
          0.9353457845495565,
          0.8064024865735672,
          0.8988967114183856,
          0.7853550504855902
         ]
        }
       ],
       "layout": {
        "boxgap": 0.15,
        "boxgroupgap": 0.15,
        "font": {
         "family": "Times New Roman"
        },
        "height": 450,
        "paper_bgcolor": "rgba(0, 0, 0, 0)",
        "plot_bgcolor": "rgba(0, 0, 0, 0)",
        "showlegend": false,
        "template": {
         "data": {
          "bar": [
           {
            "error_x": {
             "color": "#2a3f5f"
            },
            "error_y": {
             "color": "#2a3f5f"
            },
            "marker": {
             "line": {
              "color": "#E5ECF6",
              "width": 0.5
             },
             "pattern": {
              "fillmode": "overlay",
              "size": 10,
              "solidity": 0.2
             }
            },
            "type": "bar"
           }
          ],
          "barpolar": [
           {
            "marker": {
             "line": {
              "color": "#E5ECF6",
              "width": 0.5
             },
             "pattern": {
              "fillmode": "overlay",
              "size": 10,
              "solidity": 0.2
             }
            },
            "type": "barpolar"
           }
          ],
          "carpet": [
           {
            "aaxis": {
             "endlinecolor": "#2a3f5f",
             "gridcolor": "white",
             "linecolor": "white",
             "minorgridcolor": "white",
             "startlinecolor": "#2a3f5f"
            },
            "baxis": {
             "endlinecolor": "#2a3f5f",
             "gridcolor": "white",
             "linecolor": "white",
             "minorgridcolor": "white",
             "startlinecolor": "#2a3f5f"
            },
            "type": "carpet"
           }
          ],
          "choropleth": [
           {
            "colorbar": {
             "outlinewidth": 0,
             "ticks": ""
            },
            "type": "choropleth"
           }
          ],
          "contour": [
           {
            "colorbar": {
             "outlinewidth": 0,
             "ticks": ""
            },
            "colorscale": [
             [
              0,
              "#0d0887"
             ],
             [
              0.1111111111111111,
              "#46039f"
             ],
             [
              0.2222222222222222,
              "#7201a8"
             ],
             [
              0.3333333333333333,
              "#9c179e"
             ],
             [
              0.4444444444444444,
              "#bd3786"
             ],
             [
              0.5555555555555556,
              "#d8576b"
             ],
             [
              0.6666666666666666,
              "#ed7953"
             ],
             [
              0.7777777777777778,
              "#fb9f3a"
             ],
             [
              0.8888888888888888,
              "#fdca26"
             ],
             [
              1,
              "#f0f921"
             ]
            ],
            "type": "contour"
           }
          ],
          "contourcarpet": [
           {
            "colorbar": {
             "outlinewidth": 0,
             "ticks": ""
            },
            "type": "contourcarpet"
           }
          ],
          "heatmap": [
           {
            "colorbar": {
             "outlinewidth": 0,
             "ticks": ""
            },
            "colorscale": [
             [
              0,
              "#0d0887"
             ],
             [
              0.1111111111111111,
              "#46039f"
             ],
             [
              0.2222222222222222,
              "#7201a8"
             ],
             [
              0.3333333333333333,
              "#9c179e"
             ],
             [
              0.4444444444444444,
              "#bd3786"
             ],
             [
              0.5555555555555556,
              "#d8576b"
             ],
             [
              0.6666666666666666,
              "#ed7953"
             ],
             [
              0.7777777777777778,
              "#fb9f3a"
             ],
             [
              0.8888888888888888,
              "#fdca26"
             ],
             [
              1,
              "#f0f921"
             ]
            ],
            "type": "heatmap"
           }
          ],
          "heatmapgl": [
           {
            "colorbar": {
             "outlinewidth": 0,
             "ticks": ""
            },
            "colorscale": [
             [
              0,
              "#0d0887"
             ],
             [
              0.1111111111111111,
              "#46039f"
             ],
             [
              0.2222222222222222,
              "#7201a8"
             ],
             [
              0.3333333333333333,
              "#9c179e"
             ],
             [
              0.4444444444444444,
              "#bd3786"
             ],
             [
              0.5555555555555556,
              "#d8576b"
             ],
             [
              0.6666666666666666,
              "#ed7953"
             ],
             [
              0.7777777777777778,
              "#fb9f3a"
             ],
             [
              0.8888888888888888,
              "#fdca26"
             ],
             [
              1,
              "#f0f921"
             ]
            ],
            "type": "heatmapgl"
           }
          ],
          "histogram": [
           {
            "marker": {
             "pattern": {
              "fillmode": "overlay",
              "size": 10,
              "solidity": 0.2
             }
            },
            "type": "histogram"
           }
          ],
          "histogram2d": [
           {
            "colorbar": {
             "outlinewidth": 0,
             "ticks": ""
            },
            "colorscale": [
             [
              0,
              "#0d0887"
             ],
             [
              0.1111111111111111,
              "#46039f"
             ],
             [
              0.2222222222222222,
              "#7201a8"
             ],
             [
              0.3333333333333333,
              "#9c179e"
             ],
             [
              0.4444444444444444,
              "#bd3786"
             ],
             [
              0.5555555555555556,
              "#d8576b"
             ],
             [
              0.6666666666666666,
              "#ed7953"
             ],
             [
              0.7777777777777778,
              "#fb9f3a"
             ],
             [
              0.8888888888888888,
              "#fdca26"
             ],
             [
              1,
              "#f0f921"
             ]
            ],
            "type": "histogram2d"
           }
          ],
          "histogram2dcontour": [
           {
            "colorbar": {
             "outlinewidth": 0,
             "ticks": ""
            },
            "colorscale": [
             [
              0,
              "#0d0887"
             ],
             [
              0.1111111111111111,
              "#46039f"
             ],
             [
              0.2222222222222222,
              "#7201a8"
             ],
             [
              0.3333333333333333,
              "#9c179e"
             ],
             [
              0.4444444444444444,
              "#bd3786"
             ],
             [
              0.5555555555555556,
              "#d8576b"
             ],
             [
              0.6666666666666666,
              "#ed7953"
             ],
             [
              0.7777777777777778,
              "#fb9f3a"
             ],
             [
              0.8888888888888888,
              "#fdca26"
             ],
             [
              1,
              "#f0f921"
             ]
            ],
            "type": "histogram2dcontour"
           }
          ],
          "mesh3d": [
           {
            "colorbar": {
             "outlinewidth": 0,
             "ticks": ""
            },
            "type": "mesh3d"
           }
          ],
          "parcoords": [
           {
            "line": {
             "colorbar": {
              "outlinewidth": 0,
              "ticks": ""
             }
            },
            "type": "parcoords"
           }
          ],
          "pie": [
           {
            "automargin": true,
            "type": "pie"
           }
          ],
          "scatter": [
           {
            "marker": {
             "colorbar": {
              "outlinewidth": 0,
              "ticks": ""
             }
            },
            "type": "scatter"
           }
          ],
          "scatter3d": [
           {
            "line": {
             "colorbar": {
              "outlinewidth": 0,
              "ticks": ""
             }
            },
            "marker": {
             "colorbar": {
              "outlinewidth": 0,
              "ticks": ""
             }
            },
            "type": "scatter3d"
           }
          ],
          "scattercarpet": [
           {
            "marker": {
             "colorbar": {
              "outlinewidth": 0,
              "ticks": ""
             }
            },
            "type": "scattercarpet"
           }
          ],
          "scattergeo": [
           {
            "marker": {
             "colorbar": {
              "outlinewidth": 0,
              "ticks": ""
             }
            },
            "type": "scattergeo"
           }
          ],
          "scattergl": [
           {
            "marker": {
             "colorbar": {
              "outlinewidth": 0,
              "ticks": ""
             }
            },
            "type": "scattergl"
           }
          ],
          "scattermapbox": [
           {
            "marker": {
             "colorbar": {
              "outlinewidth": 0,
              "ticks": ""
             }
            },
            "type": "scattermapbox"
           }
          ],
          "scatterpolar": [
           {
            "marker": {
             "colorbar": {
              "outlinewidth": 0,
              "ticks": ""
             }
            },
            "type": "scatterpolar"
           }
          ],
          "scatterpolargl": [
           {
            "marker": {
             "colorbar": {
              "outlinewidth": 0,
              "ticks": ""
             }
            },
            "type": "scatterpolargl"
           }
          ],
          "scatterternary": [
           {
            "marker": {
             "colorbar": {
              "outlinewidth": 0,
              "ticks": ""
             }
            },
            "type": "scatterternary"
           }
          ],
          "surface": [
           {
            "colorbar": {
             "outlinewidth": 0,
             "ticks": ""
            },
            "colorscale": [
             [
              0,
              "#0d0887"
             ],
             [
              0.1111111111111111,
              "#46039f"
             ],
             [
              0.2222222222222222,
              "#7201a8"
             ],
             [
              0.3333333333333333,
              "#9c179e"
             ],
             [
              0.4444444444444444,
              "#bd3786"
             ],
             [
              0.5555555555555556,
              "#d8576b"
             ],
             [
              0.6666666666666666,
              "#ed7953"
             ],
             [
              0.7777777777777778,
              "#fb9f3a"
             ],
             [
              0.8888888888888888,
              "#fdca26"
             ],
             [
              1,
              "#f0f921"
             ]
            ],
            "type": "surface"
           }
          ],
          "table": [
           {
            "cells": {
             "fill": {
              "color": "#EBF0F8"
             },
             "line": {
              "color": "white"
             }
            },
            "header": {
             "fill": {
              "color": "#C8D4E3"
             },
             "line": {
              "color": "white"
             }
            },
            "type": "table"
           }
          ]
         },
         "layout": {
          "annotationdefaults": {
           "arrowcolor": "#2a3f5f",
           "arrowhead": 0,
           "arrowwidth": 1
          },
          "autotypenumbers": "strict",
          "coloraxis": {
           "colorbar": {
            "outlinewidth": 0,
            "ticks": ""
           }
          },
          "colorscale": {
           "diverging": [
            [
             0,
             "#8e0152"
            ],
            [
             0.1,
             "#c51b7d"
            ],
            [
             0.2,
             "#de77ae"
            ],
            [
             0.3,
             "#f1b6da"
            ],
            [
             0.4,
             "#fde0ef"
            ],
            [
             0.5,
             "#f7f7f7"
            ],
            [
             0.6,
             "#e6f5d0"
            ],
            [
             0.7,
             "#b8e186"
            ],
            [
             0.8,
             "#7fbc41"
            ],
            [
             0.9,
             "#4d9221"
            ],
            [
             1,
             "#276419"
            ]
           ],
           "sequential": [
            [
             0,
             "#0d0887"
            ],
            [
             0.1111111111111111,
             "#46039f"
            ],
            [
             0.2222222222222222,
             "#7201a8"
            ],
            [
             0.3333333333333333,
             "#9c179e"
            ],
            [
             0.4444444444444444,
             "#bd3786"
            ],
            [
             0.5555555555555556,
             "#d8576b"
            ],
            [
             0.6666666666666666,
             "#ed7953"
            ],
            [
             0.7777777777777778,
             "#fb9f3a"
            ],
            [
             0.8888888888888888,
             "#fdca26"
            ],
            [
             1,
             "#f0f921"
            ]
           ],
           "sequentialminus": [
            [
             0,
             "#0d0887"
            ],
            [
             0.1111111111111111,
             "#46039f"
            ],
            [
             0.2222222222222222,
             "#7201a8"
            ],
            [
             0.3333333333333333,
             "#9c179e"
            ],
            [
             0.4444444444444444,
             "#bd3786"
            ],
            [
             0.5555555555555556,
             "#d8576b"
            ],
            [
             0.6666666666666666,
             "#ed7953"
            ],
            [
             0.7777777777777778,
             "#fb9f3a"
            ],
            [
             0.8888888888888888,
             "#fdca26"
            ],
            [
             1,
             "#f0f921"
            ]
           ]
          },
          "colorway": [
           "#636efa",
           "#EF553B",
           "#00cc96",
           "#ab63fa",
           "#FFA15A",
           "#19d3f3",
           "#FF6692",
           "#B6E880",
           "#FF97FF",
           "#FECB52"
          ],
          "font": {
           "color": "#2a3f5f"
          },
          "geo": {
           "bgcolor": "white",
           "lakecolor": "white",
           "landcolor": "#E5ECF6",
           "showlakes": true,
           "showland": true,
           "subunitcolor": "white"
          },
          "hoverlabel": {
           "align": "left"
          },
          "hovermode": "closest",
          "mapbox": {
           "style": "light"
          },
          "paper_bgcolor": "white",
          "plot_bgcolor": "#E5ECF6",
          "polar": {
           "angularaxis": {
            "gridcolor": "white",
            "linecolor": "white",
            "ticks": ""
           },
           "bgcolor": "#E5ECF6",
           "radialaxis": {
            "gridcolor": "white",
            "linecolor": "white",
            "ticks": ""
           }
          },
          "scene": {
           "xaxis": {
            "backgroundcolor": "#E5ECF6",
            "gridcolor": "white",
            "gridwidth": 2,
            "linecolor": "white",
            "showbackground": true,
            "ticks": "",
            "zerolinecolor": "white"
           },
           "yaxis": {
            "backgroundcolor": "#E5ECF6",
            "gridcolor": "white",
            "gridwidth": 2,
            "linecolor": "white",
            "showbackground": true,
            "ticks": "",
            "zerolinecolor": "white"
           },
           "zaxis": {
            "backgroundcolor": "#E5ECF6",
            "gridcolor": "white",
            "gridwidth": 2,
            "linecolor": "white",
            "showbackground": true,
            "ticks": "",
            "zerolinecolor": "white"
           }
          },
          "shapedefaults": {
           "line": {
            "color": "#2a3f5f"
           }
          },
          "ternary": {
           "aaxis": {
            "gridcolor": "white",
            "linecolor": "white",
            "ticks": ""
           },
           "baxis": {
            "gridcolor": "white",
            "linecolor": "white",
            "ticks": ""
           },
           "bgcolor": "#E5ECF6",
           "caxis": {
            "gridcolor": "white",
            "linecolor": "white",
            "ticks": ""
           }
          },
          "title": {
           "x": 0.05
          },
          "xaxis": {
           "automargin": true,
           "gridcolor": "white",
           "linecolor": "white",
           "ticks": "",
           "title": {
            "standoff": 15
           },
           "zerolinecolor": "white",
           "zerolinewidth": 2
          },
          "yaxis": {
           "automargin": true,
           "gridcolor": "white",
           "linecolor": "white",
           "ticks": "",
           "title": {
            "standoff": 15
           },
           "zerolinecolor": "white",
           "zerolinewidth": 2
          }
         }
        },
        "width": 350,
        "xaxis": {
         "autorange": "reversed",
         "linecolor": "Black",
         "showline": true,
         "title": {
          "text": "Vina"
         },
         "zeroline": true
        },
        "yaxis": {
         "dtick": 0.1,
         "linecolor": "Black",
         "showline": true,
         "tickfont": {
          "size": 10
         },
         "title": {
          "text": "Peptide"
         },
         "zeroline": true
        }
       }
      },
      "text/html": [
       "<div>                            <div id=\"d188433f-229d-4065-a347-9106ba27845b\" class=\"plotly-graph-div\" style=\"height:450px; width:350px;\"></div>            <script type=\"text/javascript\">                require([\"plotly\"], function(Plotly) {                    window.PLOTLYENV=window.PLOTLYENV || {};                                    if (document.getElementById(\"d188433f-229d-4065-a347-9106ba27845b\")) {                    Plotly.newPlot(                        \"d188433f-229d-4065-a347-9106ba27845b\",                        [{\"boxpoints\":false,\"fillcolor\":\"#a6611a\",\"jitter\":0.5,\"line\":{\"color\":\"#59340e\",\"width\":1},\"marker\":{\"color\":\"rgb(0, 0, 0)\",\"size\":2},\"name\":\"DAKRNSKSL\",\"type\":\"box\",\"whiskerwidth\":0.2,\"x\":[0.2080431994451447]},{\"boxpoints\":false,\"fillcolor\":\"#a6611a\",\"jitter\":0.5,\"line\":{\"color\":\"#59340e\",\"width\":1},\"marker\":{\"color\":\"rgb(0, 0, 0)\",\"size\":2},\"name\":\"EIDVSEVKT\",\"type\":\"box\",\"whiskerwidth\":0.2,\"x\":[0.23216399055424952]},{\"boxpoints\":false,\"fillcolor\":\"#a6611a\",\"jitter\":0.5,\"line\":{\"color\":\"#59340e\",\"width\":1},\"marker\":{\"color\":\"rgb(0, 0, 0)\",\"size\":2},\"name\":\"ATKRYPGVM\",\"type\":\"box\",\"whiskerwidth\":0.2,\"x\":[0.21055509378778625]},{\"boxpoints\":false,\"fillcolor\":\"#a6611a\",\"jitter\":0.5,\"line\":{\"color\":\"#59340e\",\"width\":1},\"marker\":{\"color\":\"rgb(0, 0, 0)\",\"size\":2},\"name\":\"AAEQRRSTI\",\"type\":\"box\",\"whiskerwidth\":0.2,\"x\":[0.1026849196432339]},{\"boxpoints\":false,\"fillcolor\":\"#a6611a\",\"jitter\":0.5,\"line\":{\"color\":\"#59340e\",\"width\":1},\"marker\":{\"color\":\"rgb(0, 0, 0)\",\"size\":2},\"name\":\"ETLNEYKQL\",\"type\":\"box\",\"whiskerwidth\":0.2,\"x\":[0.3472872825486645]},{\"boxpoints\":false,\"fillcolor\":\"#dfc27d\",\"jitter\":0.5,\"line\":{\"color\":\"#756438\",\"width\":1},\"marker\":{\"color\":\"rgb(0, 0, 0)\",\"size\":2},\"name\":\"SLLMWITQC\",\"type\":\"box\",\"whiskerwidth\":0.2,\"x\":[0.32425638569779847,0.28757245319784885,0.41655978730548415,0.4101506953121704,0.30424379870350293,0.3264802103459219,0.2525123530523459,0.3250930721990728,0.47942870458544573]},{\"boxpoints\":false,\"fillcolor\":\"#dfc27d\",\"jitter\":0.5,\"line\":{\"color\":\"#756438\",\"width\":1},\"marker\":{\"color\":\"rgb(0, 0, 0)\",\"size\":2},\"name\":\"EAAGIGILTV\",\"type\":\"box\",\"whiskerwidth\":0.2,\"x\":[0.453353810134549,0.5868071419266174,0.6342634131304739]},{\"boxpoints\":false,\"fillcolor\":\"#dfc27d\",\"jitter\":0.5,\"line\":{\"color\":\"#756438\",\"width\":1},\"marker\":{\"color\":\"rgb(0, 0, 0)\",\"size\":2},\"name\":\"RGPGRAFVTI\",\"type\":\"box\",\"whiskerwidth\":0.2,\"x\":[0.7308493285407345,0.6806059371714492,0.508367782432152,0.4001838508496225,0.08936398982031435,0.6283442231017218]},{\"boxpoints\":false,\"fillcolor\":\"#dfc27d\",\"jitter\":0.5,\"line\":{\"color\":\"#756438\",\"width\":1},\"marker\":{\"color\":\"rgb(0, 0, 0)\",\"size\":2},\"name\":\"RQISQDVKL\",\"type\":\"box\",\"whiskerwidth\":0.2,\"x\":[0.3515753008676956]},{\"boxpoints\":false,\"fillcolor\":\"#80cdc1\",\"jitter\":0.5,\"line\":{\"color\":\"#365b55\",\"width\":1},\"marker\":{\"color\":\"rgb(0, 0, 0)\",\"size\":2},\"name\":\"AAGIGILTV\",\"type\":\"box\",\"whiskerwidth\":0.2,\"x\":[0.4695224098039109,0.5052302080523736,0.4750948152959503,0.5191107637149615,0.5567598214334861,0.37303557568985335,0.37003010970501293,0.42172669341861646]},{\"boxpoints\":false,\"fillcolor\":\"#80cdc1\",\"jitter\":0.5,\"line\":{\"color\":\"#365b55\",\"width\":1},\"marker\":{\"color\":\"rgb(0, 0, 0)\",\"size\":2},\"name\":\"VLRDDLLEA\",\"type\":\"box\",\"whiskerwidth\":0.2,\"x\":[0.418179949982294]},{\"boxpoints\":false,\"fillcolor\":\"#80cdc1\",\"jitter\":0.5,\"line\":{\"color\":\"#365b55\",\"width\":1},\"marker\":{\"color\":\"rgb(0, 0, 0)\",\"size\":2},\"name\":\"ILKEPVHGV\",\"type\":\"box\",\"whiskerwidth\":0.2,\"x\":[0.456148269655252,0.6155902584737446,0.5912823138051438,0.5845924914725866,0.2598773960701424,0.6253350874392438,0.5504553152528318]},{\"boxpoints\":false,\"fillcolor\":\"#80cdc1\",\"jitter\":0.5,\"line\":{\"color\":\"#365b55\",\"width\":1},\"marker\":{\"color\":\"rgb(0, 0, 0)\",\"size\":2},\"name\":\"CINGVCWTV\",\"type\":\"box\",\"whiskerwidth\":0.2,\"x\":[0.6673051905755343,0.7980539699490099]},{\"boxpoints\":false,\"fillcolor\":\"#018571\",\"jitter\":0.5,\"line\":{\"color\":\"#052f29\",\"width\":1},\"marker\":{\"color\":\"rgb(0, 0, 0)\",\"size\":2},\"name\":\"LLFGYPVYV\",\"type\":\"box\",\"whiskerwidth\":0.2,\"x\":[0.5542809541895792,0.7876265809429972,0.6892003221976966,0.7358933004530218,0.7475335179181186,0.8783850482654354,0.7446142893577515,0.8448386901452642,0.9284486254304993,1.0,0.8417690048017734,0.8285820182126102,0.8417121247983972,0.8261967277484511,0.7979108525211602,0.7732634626711219,0.0,0.13876152049423218,0.16765105769283695,0.14446603438120975,0.1012317272989155,0.03480138787208242,0.8860455003330232,0.7447060312986808,0.7602012451216222]},{\"boxpoints\":false,\"fillcolor\":\"#018571\",\"jitter\":0.5,\"line\":{\"color\":\"#052f29\",\"width\":1},\"marker\":{\"color\":\"rgb(0, 0, 0)\",\"size\":2},\"name\":\"ALWGFFPVL\",\"type\":\"box\",\"whiskerwidth\":0.2,\"x\":[0.9370375059402908,0.9605142686240729,0.9529418888197769,0.9510868667741883,0.8569981669960202,0.8343085501654108,0.9232395180245394,0.8786988057034131,0.8492404684710472,0.8464900450819899]},{\"boxpoints\":false,\"fillcolor\":\"#018571\",\"jitter\":0.5,\"line\":{\"color\":\"#052f29\",\"width\":1},\"marker\":{\"color\":\"rgb(0, 0, 0)\",\"size\":2},\"name\":\"FLPSDFFPSV\",\"type\":\"box\",\"whiskerwidth\":0.2,\"x\":[0.8701392826147188,0.9353457845495565,0.8064024865735672,0.8988967114183856,0.7853550504855902]}],                        {\"boxgap\":0.15,\"boxgroupgap\":0.15,\"font\":{\"family\":\"Times New Roman\"},\"height\":450,\"paper_bgcolor\":\"rgba(0, 0, 0, 0)\",\"plot_bgcolor\":\"rgba(0, 0, 0, 0)\",\"showlegend\":false,\"template\":{\"data\":{\"bar\":[{\"error_x\":{\"color\":\"#2a3f5f\"},\"error_y\":{\"color\":\"#2a3f5f\"},\"marker\":{\"line\":{\"color\":\"#E5ECF6\",\"width\":0.5},\"pattern\":{\"fillmode\":\"overlay\",\"size\":10,\"solidity\":0.2}},\"type\":\"bar\"}],\"barpolar\":[{\"marker\":{\"line\":{\"color\":\"#E5ECF6\",\"width\":0.5},\"pattern\":{\"fillmode\":\"overlay\",\"size\":10,\"solidity\":0.2}},\"type\":\"barpolar\"}],\"carpet\":[{\"aaxis\":{\"endlinecolor\":\"#2a3f5f\",\"gridcolor\":\"white\",\"linecolor\":\"white\",\"minorgridcolor\":\"white\",\"startlinecolor\":\"#2a3f5f\"},\"baxis\":{\"endlinecolor\":\"#2a3f5f\",\"gridcolor\":\"white\",\"linecolor\":\"white\",\"minorgridcolor\":\"white\",\"startlinecolor\":\"#2a3f5f\"},\"type\":\"carpet\"}],\"choropleth\":[{\"colorbar\":{\"outlinewidth\":0,\"ticks\":\"\"},\"type\":\"choropleth\"}],\"contour\":[{\"colorbar\":{\"outlinewidth\":0,\"ticks\":\"\"},\"colorscale\":[[0.0,\"#0d0887\"],[0.1111111111111111,\"#46039f\"],[0.2222222222222222,\"#7201a8\"],[0.3333333333333333,\"#9c179e\"],[0.4444444444444444,\"#bd3786\"],[0.5555555555555556,\"#d8576b\"],[0.6666666666666666,\"#ed7953\"],[0.7777777777777778,\"#fb9f3a\"],[0.8888888888888888,\"#fdca26\"],[1.0,\"#f0f921\"]],\"type\":\"contour\"}],\"contourcarpet\":[{\"colorbar\":{\"outlinewidth\":0,\"ticks\":\"\"},\"type\":\"contourcarpet\"}],\"heatmap\":[{\"colorbar\":{\"outlinewidth\":0,\"ticks\":\"\"},\"colorscale\":[[0.0,\"#0d0887\"],[0.1111111111111111,\"#46039f\"],[0.2222222222222222,\"#7201a8\"],[0.3333333333333333,\"#9c179e\"],[0.4444444444444444,\"#bd3786\"],[0.5555555555555556,\"#d8576b\"],[0.6666666666666666,\"#ed7953\"],[0.7777777777777778,\"#fb9f3a\"],[0.8888888888888888,\"#fdca26\"],[1.0,\"#f0f921\"]],\"type\":\"heatmap\"}],\"heatmapgl\":[{\"colorbar\":{\"outlinewidth\":0,\"ticks\":\"\"},\"colorscale\":[[0.0,\"#0d0887\"],[0.1111111111111111,\"#46039f\"],[0.2222222222222222,\"#7201a8\"],[0.3333333333333333,\"#9c179e\"],[0.4444444444444444,\"#bd3786\"],[0.5555555555555556,\"#d8576b\"],[0.6666666666666666,\"#ed7953\"],[0.7777777777777778,\"#fb9f3a\"],[0.8888888888888888,\"#fdca26\"],[1.0,\"#f0f921\"]],\"type\":\"heatmapgl\"}],\"histogram\":[{\"marker\":{\"pattern\":{\"fillmode\":\"overlay\",\"size\":10,\"solidity\":0.2}},\"type\":\"histogram\"}],\"histogram2d\":[{\"colorbar\":{\"outlinewidth\":0,\"ticks\":\"\"},\"colorscale\":[[0.0,\"#0d0887\"],[0.1111111111111111,\"#46039f\"],[0.2222222222222222,\"#7201a8\"],[0.3333333333333333,\"#9c179e\"],[0.4444444444444444,\"#bd3786\"],[0.5555555555555556,\"#d8576b\"],[0.6666666666666666,\"#ed7953\"],[0.7777777777777778,\"#fb9f3a\"],[0.8888888888888888,\"#fdca26\"],[1.0,\"#f0f921\"]],\"type\":\"histogram2d\"}],\"histogram2dcontour\":[{\"colorbar\":{\"outlinewidth\":0,\"ticks\":\"\"},\"colorscale\":[[0.0,\"#0d0887\"],[0.1111111111111111,\"#46039f\"],[0.2222222222222222,\"#7201a8\"],[0.3333333333333333,\"#9c179e\"],[0.4444444444444444,\"#bd3786\"],[0.5555555555555556,\"#d8576b\"],[0.6666666666666666,\"#ed7953\"],[0.7777777777777778,\"#fb9f3a\"],[0.8888888888888888,\"#fdca26\"],[1.0,\"#f0f921\"]],\"type\":\"histogram2dcontour\"}],\"mesh3d\":[{\"colorbar\":{\"outlinewidth\":0,\"ticks\":\"\"},\"type\":\"mesh3d\"}],\"parcoords\":[{\"line\":{\"colorbar\":{\"outlinewidth\":0,\"ticks\":\"\"}},\"type\":\"parcoords\"}],\"pie\":[{\"automargin\":true,\"type\":\"pie\"}],\"scatter\":[{\"marker\":{\"colorbar\":{\"outlinewidth\":0,\"ticks\":\"\"}},\"type\":\"scatter\"}],\"scatter3d\":[{\"line\":{\"colorbar\":{\"outlinewidth\":0,\"ticks\":\"\"}},\"marker\":{\"colorbar\":{\"outlinewidth\":0,\"ticks\":\"\"}},\"type\":\"scatter3d\"}],\"scattercarpet\":[{\"marker\":{\"colorbar\":{\"outlinewidth\":0,\"ticks\":\"\"}},\"type\":\"scattercarpet\"}],\"scattergeo\":[{\"marker\":{\"colorbar\":{\"outlinewidth\":0,\"ticks\":\"\"}},\"type\":\"scattergeo\"}],\"scattergl\":[{\"marker\":{\"colorbar\":{\"outlinewidth\":0,\"ticks\":\"\"}},\"type\":\"scattergl\"}],\"scattermapbox\":[{\"marker\":{\"colorbar\":{\"outlinewidth\":0,\"ticks\":\"\"}},\"type\":\"scattermapbox\"}],\"scatterpolar\":[{\"marker\":{\"colorbar\":{\"outlinewidth\":0,\"ticks\":\"\"}},\"type\":\"scatterpolar\"}],\"scatterpolargl\":[{\"marker\":{\"colorbar\":{\"outlinewidth\":0,\"ticks\":\"\"}},\"type\":\"scatterpolargl\"}],\"scatterternary\":[{\"marker\":{\"colorbar\":{\"outlinewidth\":0,\"ticks\":\"\"}},\"type\":\"scatterternary\"}],\"surface\":[{\"colorbar\":{\"outlinewidth\":0,\"ticks\":\"\"},\"colorscale\":[[0.0,\"#0d0887\"],[0.1111111111111111,\"#46039f\"],[0.2222222222222222,\"#7201a8\"],[0.3333333333333333,\"#9c179e\"],[0.4444444444444444,\"#bd3786\"],[0.5555555555555556,\"#d8576b\"],[0.6666666666666666,\"#ed7953\"],[0.7777777777777778,\"#fb9f3a\"],[0.8888888888888888,\"#fdca26\"],[1.0,\"#f0f921\"]],\"type\":\"surface\"}],\"table\":[{\"cells\":{\"fill\":{\"color\":\"#EBF0F8\"},\"line\":{\"color\":\"white\"}},\"header\":{\"fill\":{\"color\":\"#C8D4E3\"},\"line\":{\"color\":\"white\"}},\"type\":\"table\"}]},\"layout\":{\"annotationdefaults\":{\"arrowcolor\":\"#2a3f5f\",\"arrowhead\":0,\"arrowwidth\":1},\"autotypenumbers\":\"strict\",\"coloraxis\":{\"colorbar\":{\"outlinewidth\":0,\"ticks\":\"\"}},\"colorscale\":{\"diverging\":[[0,\"#8e0152\"],[0.1,\"#c51b7d\"],[0.2,\"#de77ae\"],[0.3,\"#f1b6da\"],[0.4,\"#fde0ef\"],[0.5,\"#f7f7f7\"],[0.6,\"#e6f5d0\"],[0.7,\"#b8e186\"],[0.8,\"#7fbc41\"],[0.9,\"#4d9221\"],[1,\"#276419\"]],\"sequential\":[[0.0,\"#0d0887\"],[0.1111111111111111,\"#46039f\"],[0.2222222222222222,\"#7201a8\"],[0.3333333333333333,\"#9c179e\"],[0.4444444444444444,\"#bd3786\"],[0.5555555555555556,\"#d8576b\"],[0.6666666666666666,\"#ed7953\"],[0.7777777777777778,\"#fb9f3a\"],[0.8888888888888888,\"#fdca26\"],[1.0,\"#f0f921\"]],\"sequentialminus\":[[0.0,\"#0d0887\"],[0.1111111111111111,\"#46039f\"],[0.2222222222222222,\"#7201a8\"],[0.3333333333333333,\"#9c179e\"],[0.4444444444444444,\"#bd3786\"],[0.5555555555555556,\"#d8576b\"],[0.6666666666666666,\"#ed7953\"],[0.7777777777777778,\"#fb9f3a\"],[0.8888888888888888,\"#fdca26\"],[1.0,\"#f0f921\"]]},\"colorway\":[\"#636efa\",\"#EF553B\",\"#00cc96\",\"#ab63fa\",\"#FFA15A\",\"#19d3f3\",\"#FF6692\",\"#B6E880\",\"#FF97FF\",\"#FECB52\"],\"font\":{\"color\":\"#2a3f5f\"},\"geo\":{\"bgcolor\":\"white\",\"lakecolor\":\"white\",\"landcolor\":\"#E5ECF6\",\"showlakes\":true,\"showland\":true,\"subunitcolor\":\"white\"},\"hoverlabel\":{\"align\":\"left\"},\"hovermode\":\"closest\",\"mapbox\":{\"style\":\"light\"},\"paper_bgcolor\":\"white\",\"plot_bgcolor\":\"#E5ECF6\",\"polar\":{\"angularaxis\":{\"gridcolor\":\"white\",\"linecolor\":\"white\",\"ticks\":\"\"},\"bgcolor\":\"#E5ECF6\",\"radialaxis\":{\"gridcolor\":\"white\",\"linecolor\":\"white\",\"ticks\":\"\"}},\"scene\":{\"xaxis\":{\"backgroundcolor\":\"#E5ECF6\",\"gridcolor\":\"white\",\"gridwidth\":2,\"linecolor\":\"white\",\"showbackground\":true,\"ticks\":\"\",\"zerolinecolor\":\"white\"},\"yaxis\":{\"backgroundcolor\":\"#E5ECF6\",\"gridcolor\":\"white\",\"gridwidth\":2,\"linecolor\":\"white\",\"showbackground\":true,\"ticks\":\"\",\"zerolinecolor\":\"white\"},\"zaxis\":{\"backgroundcolor\":\"#E5ECF6\",\"gridcolor\":\"white\",\"gridwidth\":2,\"linecolor\":\"white\",\"showbackground\":true,\"ticks\":\"\",\"zerolinecolor\":\"white\"}},\"shapedefaults\":{\"line\":{\"color\":\"#2a3f5f\"}},\"ternary\":{\"aaxis\":{\"gridcolor\":\"white\",\"linecolor\":\"white\",\"ticks\":\"\"},\"baxis\":{\"gridcolor\":\"white\",\"linecolor\":\"white\",\"ticks\":\"\"},\"bgcolor\":\"#E5ECF6\",\"caxis\":{\"gridcolor\":\"white\",\"linecolor\":\"white\",\"ticks\":\"\"}},\"title\":{\"x\":0.05},\"xaxis\":{\"automargin\":true,\"gridcolor\":\"white\",\"linecolor\":\"white\",\"ticks\":\"\",\"title\":{\"standoff\":15},\"zerolinecolor\":\"white\",\"zerolinewidth\":2},\"yaxis\":{\"automargin\":true,\"gridcolor\":\"white\",\"linecolor\":\"white\",\"ticks\":\"\",\"title\":{\"standoff\":15},\"zerolinecolor\":\"white\",\"zerolinewidth\":2}}},\"width\":350,\"xaxis\":{\"autorange\":\"reversed\",\"linecolor\":\"Black\",\"showline\":true,\"title\":{\"text\":\"Vina\"},\"zeroline\":true},\"yaxis\":{\"dtick\":0.1,\"linecolor\":\"Black\",\"showline\":true,\"tickfont\":{\"size\":10},\"title\":{\"text\":\"Peptide\"},\"zeroline\":true}},                        {\"responsive\": true}                    ).then(function(){\n",
       "                            \n",
       "var gd = document.getElementById('d188433f-229d-4065-a347-9106ba27845b');\n",
       "var x = new MutationObserver(function (mutations, observer) {{\n",
       "        var display = window.getComputedStyle(gd).display;\n",
       "        if (!display || display === 'none') {{\n",
       "            console.log([gd, 'removed!']);\n",
       "            Plotly.purge(gd);\n",
       "            observer.disconnect();\n",
       "        }}\n",
       "}});\n",
       "\n",
       "// Listen for the removal of the full notebook cells\n",
       "var notebookContainer = gd.closest('#notebook-container');\n",
       "if (notebookContainer) {{\n",
       "    x.observe(notebookContainer, {childList: true});\n",
       "}}\n",
       "\n",
       "// Listen for the clearing of the current output cell\n",
       "var outputEl = gd.closest('.output');\n",
       "if (outputEl) {{\n",
       "    x.observe(outputEl, {childList: true});\n",
       "}}\n",
       "\n",
       "                        })                };                });            </script>        </div>"
      ]
     },
     "metadata": {},
     "output_type": "display_data"
    },
    {
     "data": {
      "application/vnd.plotly.v1+json": {
       "config": {
        "linkText": "Export to plot.ly",
        "plotlyServerURL": "https://plot.ly",
        "showLink": false
       },
       "data": [
        {
         "boxpoints": false,
         "fillcolor": "#a6611a",
         "jitter": 0.5,
         "line": {
          "color": "#59340e",
          "width": 1
         },
         "marker": {
          "color": "rgb(0, 0, 0)",
          "size": 2
         },
         "name": "DAKRNSKSL",
         "type": "box",
         "whiskerwidth": 0.2,
         "x": [
          0.1873964345205219
         ]
        },
        {
         "boxpoints": false,
         "fillcolor": "#a6611a",
         "jitter": 0.5,
         "line": {
          "color": "#59340e",
          "width": 1
         },
         "marker": {
          "color": "rgb(0, 0, 0)",
          "size": 2
         },
         "name": "EIDVSEVKT",
         "type": "box",
         "whiskerwidth": 0.2,
         "x": [
          0.2727735324690008
         ]
        },
        {
         "boxpoints": false,
         "fillcolor": "#a6611a",
         "jitter": 0.5,
         "line": {
          "color": "#59340e",
          "width": 1
         },
         "marker": {
          "color": "rgb(0, 0, 0)",
          "size": 2
         },
         "name": "ATKRYPGVM",
         "type": "box",
         "whiskerwidth": 0.2,
         "x": [
          0.07904030409651763
         ]
        },
        {
         "boxpoints": false,
         "fillcolor": "#a6611a",
         "jitter": 0.5,
         "line": {
          "color": "#59340e",
          "width": 1
         },
         "marker": {
          "color": "rgb(0, 0, 0)",
          "size": 2
         },
         "name": "AAEQRRSTI",
         "type": "box",
         "whiskerwidth": 0.2,
         "x": [
          0.12785797231295148
         ]
        },
        {
         "boxpoints": false,
         "fillcolor": "#a6611a",
         "jitter": 0.5,
         "line": {
          "color": "#59340e",
          "width": 1
         },
         "marker": {
          "color": "rgb(0, 0, 0)",
          "size": 2
         },
         "name": "ETLNEYKQL",
         "type": "box",
         "whiskerwidth": 0.2,
         "x": [
          0.40435333823343944
         ]
        },
        {
         "boxpoints": false,
         "fillcolor": "#dfc27d",
         "jitter": 0.5,
         "line": {
          "color": "#756438",
          "width": 1
         },
         "marker": {
          "color": "rgb(0, 0, 0)",
          "size": 2
         },
         "name": "SLLMWITQC",
         "type": "box",
         "whiskerwidth": 0.2,
         "x": [
          0.2770292310168012,
          0.23244551531573077,
          0.43869358535535197,
          0.4075674018275367,
          0.3020643508591859,
          0.27278223088197573,
          0.2401294758771264,
          0.35406128901781897,
          0.4254121960448318
         ]
        },
        {
         "boxpoints": false,
         "fillcolor": "#dfc27d",
         "jitter": 0.5,
         "line": {
          "color": "#756438",
          "width": 1
         },
         "marker": {
          "color": "rgb(0, 0, 0)",
          "size": 2
         },
         "name": "EAAGIGILTV",
         "type": "box",
         "whiskerwidth": 0.2,
         "x": [
          0.40393798901390454,
          0.5453241681055294,
          0.6304348771566629
         ]
        },
        {
         "boxpoints": false,
         "fillcolor": "#dfc27d",
         "jitter": 0.5,
         "line": {
          "color": "#756438",
          "width": 1
         },
         "marker": {
          "color": "rgb(0, 0, 0)",
          "size": 2
         },
         "name": "RGPGRAFVTI",
         "type": "box",
         "whiskerwidth": 0.2,
         "x": [
          0.7654005401714458,
          0.6520700048276193,
          0.4685791577326718,
          0.3203375419154776,
          0.009137682829767901,
          0.612366098805273
         ]
        },
        {
         "boxpoints": false,
         "fillcolor": "#dfc27d",
         "jitter": 0.5,
         "line": {
          "color": "#756438",
          "width": 1
         },
         "marker": {
          "color": "rgb(0, 0, 0)",
          "size": 2
         },
         "name": "RQISQDVKL",
         "type": "box",
         "whiskerwidth": 0.2,
         "x": [
          0.49401657917512964
         ]
        },
        {
         "boxpoints": false,
         "fillcolor": "#80cdc1",
         "jitter": 0.5,
         "line": {
          "color": "#365b55",
          "width": 1
         },
         "marker": {
          "color": "rgb(0, 0, 0)",
          "size": 2
         },
         "name": "AAGIGILTV",
         "type": "box",
         "whiskerwidth": 0.2,
         "x": [
          0.37280419437473644,
          0.406285473215412,
          0.3539449477442842,
          0.3730096943812603,
          0.553908414409791,
          0.3666141862417204,
          0.35319253502198533,
          0.3814786867136093
         ]
        },
        {
         "boxpoints": false,
         "fillcolor": "#80cdc1",
         "jitter": 0.5,
         "line": {
          "color": "#365b55",
          "width": 1
         },
         "marker": {
          "color": "rgb(0, 0, 0)",
          "size": 2
         },
         "name": "VLRDDLLEA",
         "type": "box",
         "whiskerwidth": 0.2,
         "x": [
          0.4340475455253191
         ]
        },
        {
         "boxpoints": false,
         "fillcolor": "#80cdc1",
         "jitter": 0.5,
         "line": {
          "color": "#365b55",
          "width": 1
         },
         "marker": {
          "color": "rgb(0, 0, 0)",
          "size": 2
         },
         "name": "ILKEPVHGV",
         "type": "box",
         "whiskerwidth": 0.2,
         "x": [
          0.36303044009620467,
          0.6193074323589662,
          0.5818488041856765,
          0.523062754700405,
          0.02002918317553004,
          0.6606629495448557,
          0.6061858763868533
         ]
        },
        {
         "boxpoints": false,
         "fillcolor": "#80cdc1",
         "jitter": 0.5,
         "line": {
          "color": "#365b55",
          "width": 1
         },
         "marker": {
          "color": "rgb(0, 0, 0)",
          "size": 2
         },
         "name": "CINGVCWTV",
         "type": "box",
         "whiskerwidth": 0.2,
         "x": [
          0.5060606192400199,
          0.6310285438421761
         ]
        },
        {
         "boxpoints": false,
         "fillcolor": "#018571",
         "jitter": 0.5,
         "line": {
          "color": "#052f29",
          "width": 1
         },
         "marker": {
          "color": "rgb(0, 0, 0)",
          "size": 2
         },
         "name": "LLFGYPVYV",
         "type": "box",
         "whiskerwidth": 0.2,
         "x": [
          0.638272147246735,
          0.7894984060158226,
          0.6770866405424332,
          0.7547449842776187,
          0.7278853723138214,
          0.8633131385178776,
          0.7610230638420021,
          0.871160194322546,
          0.9408790616152085,
          1,
          0.8317911771997202,
          0.818388010107556,
          0.8373233678515355,
          0.8209431689188309,
          0.728152848512789,
          0.74196049180827,
          0.023599881701583558,
          0.13787202024990552,
          0.18679406942203414,
          0.16311155279719236,
          0,
          0.03669208052990769,
          0.8620583924462983,
          0.7966137078290066,
          0.7939672156814991
         ]
        },
        {
         "boxpoints": false,
         "fillcolor": "#018571",
         "jitter": 0.5,
         "line": {
          "color": "#052f29",
          "width": 1
         },
         "marker": {
          "color": "rgb(0, 0, 0)",
          "size": 2
         },
         "name": "ALWGFFPVL",
         "type": "box",
         "whiskerwidth": 0.2,
         "x": [
          0.8724149403941255,
          0.8617659083100289,
          0.8181694624815705,
          0.8409723520943605,
          0.8134125178861118,
          0.7604881114440672,
          0.7501348254011057,
          0.7264240389340967,
          0.7166546338620521,
          0.720891848282281
         ]
        },
        {
         "boxpoints": false,
         "fillcolor": "#018571",
         "jitter": 0.5,
         "line": {
          "color": "#052f29",
          "width": 1
         },
         "marker": {
          "color": "rgb(0, 0, 0)",
          "size": 2
         },
         "name": "FLPSDFFPSV",
         "type": "box",
         "whiskerwidth": 0.2,
         "x": [
          0.7916316917978317,
          0.8720844007010922,
          0.7605794447802999,
          0.856831733550214,
          0.6795091485558462
         ]
        }
       ],
       "layout": {
        "boxgap": 0.15,
        "boxgroupgap": 0.15,
        "font": {
         "family": "Times New Roman"
        },
        "height": 450,
        "paper_bgcolor": "rgba(0, 0, 0, 0)",
        "plot_bgcolor": "rgba(0, 0, 0, 0)",
        "showlegend": false,
        "template": {
         "data": {
          "bar": [
           {
            "error_x": {
             "color": "#2a3f5f"
            },
            "error_y": {
             "color": "#2a3f5f"
            },
            "marker": {
             "line": {
              "color": "#E5ECF6",
              "width": 0.5
             },
             "pattern": {
              "fillmode": "overlay",
              "size": 10,
              "solidity": 0.2
             }
            },
            "type": "bar"
           }
          ],
          "barpolar": [
           {
            "marker": {
             "line": {
              "color": "#E5ECF6",
              "width": 0.5
             },
             "pattern": {
              "fillmode": "overlay",
              "size": 10,
              "solidity": 0.2
             }
            },
            "type": "barpolar"
           }
          ],
          "carpet": [
           {
            "aaxis": {
             "endlinecolor": "#2a3f5f",
             "gridcolor": "white",
             "linecolor": "white",
             "minorgridcolor": "white",
             "startlinecolor": "#2a3f5f"
            },
            "baxis": {
             "endlinecolor": "#2a3f5f",
             "gridcolor": "white",
             "linecolor": "white",
             "minorgridcolor": "white",
             "startlinecolor": "#2a3f5f"
            },
            "type": "carpet"
           }
          ],
          "choropleth": [
           {
            "colorbar": {
             "outlinewidth": 0,
             "ticks": ""
            },
            "type": "choropleth"
           }
          ],
          "contour": [
           {
            "colorbar": {
             "outlinewidth": 0,
             "ticks": ""
            },
            "colorscale": [
             [
              0,
              "#0d0887"
             ],
             [
              0.1111111111111111,
              "#46039f"
             ],
             [
              0.2222222222222222,
              "#7201a8"
             ],
             [
              0.3333333333333333,
              "#9c179e"
             ],
             [
              0.4444444444444444,
              "#bd3786"
             ],
             [
              0.5555555555555556,
              "#d8576b"
             ],
             [
              0.6666666666666666,
              "#ed7953"
             ],
             [
              0.7777777777777778,
              "#fb9f3a"
             ],
             [
              0.8888888888888888,
              "#fdca26"
             ],
             [
              1,
              "#f0f921"
             ]
            ],
            "type": "contour"
           }
          ],
          "contourcarpet": [
           {
            "colorbar": {
             "outlinewidth": 0,
             "ticks": ""
            },
            "type": "contourcarpet"
           }
          ],
          "heatmap": [
           {
            "colorbar": {
             "outlinewidth": 0,
             "ticks": ""
            },
            "colorscale": [
             [
              0,
              "#0d0887"
             ],
             [
              0.1111111111111111,
              "#46039f"
             ],
             [
              0.2222222222222222,
              "#7201a8"
             ],
             [
              0.3333333333333333,
              "#9c179e"
             ],
             [
              0.4444444444444444,
              "#bd3786"
             ],
             [
              0.5555555555555556,
              "#d8576b"
             ],
             [
              0.6666666666666666,
              "#ed7953"
             ],
             [
              0.7777777777777778,
              "#fb9f3a"
             ],
             [
              0.8888888888888888,
              "#fdca26"
             ],
             [
              1,
              "#f0f921"
             ]
            ],
            "type": "heatmap"
           }
          ],
          "heatmapgl": [
           {
            "colorbar": {
             "outlinewidth": 0,
             "ticks": ""
            },
            "colorscale": [
             [
              0,
              "#0d0887"
             ],
             [
              0.1111111111111111,
              "#46039f"
             ],
             [
              0.2222222222222222,
              "#7201a8"
             ],
             [
              0.3333333333333333,
              "#9c179e"
             ],
             [
              0.4444444444444444,
              "#bd3786"
             ],
             [
              0.5555555555555556,
              "#d8576b"
             ],
             [
              0.6666666666666666,
              "#ed7953"
             ],
             [
              0.7777777777777778,
              "#fb9f3a"
             ],
             [
              0.8888888888888888,
              "#fdca26"
             ],
             [
              1,
              "#f0f921"
             ]
            ],
            "type": "heatmapgl"
           }
          ],
          "histogram": [
           {
            "marker": {
             "pattern": {
              "fillmode": "overlay",
              "size": 10,
              "solidity": 0.2
             }
            },
            "type": "histogram"
           }
          ],
          "histogram2d": [
           {
            "colorbar": {
             "outlinewidth": 0,
             "ticks": ""
            },
            "colorscale": [
             [
              0,
              "#0d0887"
             ],
             [
              0.1111111111111111,
              "#46039f"
             ],
             [
              0.2222222222222222,
              "#7201a8"
             ],
             [
              0.3333333333333333,
              "#9c179e"
             ],
             [
              0.4444444444444444,
              "#bd3786"
             ],
             [
              0.5555555555555556,
              "#d8576b"
             ],
             [
              0.6666666666666666,
              "#ed7953"
             ],
             [
              0.7777777777777778,
              "#fb9f3a"
             ],
             [
              0.8888888888888888,
              "#fdca26"
             ],
             [
              1,
              "#f0f921"
             ]
            ],
            "type": "histogram2d"
           }
          ],
          "histogram2dcontour": [
           {
            "colorbar": {
             "outlinewidth": 0,
             "ticks": ""
            },
            "colorscale": [
             [
              0,
              "#0d0887"
             ],
             [
              0.1111111111111111,
              "#46039f"
             ],
             [
              0.2222222222222222,
              "#7201a8"
             ],
             [
              0.3333333333333333,
              "#9c179e"
             ],
             [
              0.4444444444444444,
              "#bd3786"
             ],
             [
              0.5555555555555556,
              "#d8576b"
             ],
             [
              0.6666666666666666,
              "#ed7953"
             ],
             [
              0.7777777777777778,
              "#fb9f3a"
             ],
             [
              0.8888888888888888,
              "#fdca26"
             ],
             [
              1,
              "#f0f921"
             ]
            ],
            "type": "histogram2dcontour"
           }
          ],
          "mesh3d": [
           {
            "colorbar": {
             "outlinewidth": 0,
             "ticks": ""
            },
            "type": "mesh3d"
           }
          ],
          "parcoords": [
           {
            "line": {
             "colorbar": {
              "outlinewidth": 0,
              "ticks": ""
             }
            },
            "type": "parcoords"
           }
          ],
          "pie": [
           {
            "automargin": true,
            "type": "pie"
           }
          ],
          "scatter": [
           {
            "marker": {
             "colorbar": {
              "outlinewidth": 0,
              "ticks": ""
             }
            },
            "type": "scatter"
           }
          ],
          "scatter3d": [
           {
            "line": {
             "colorbar": {
              "outlinewidth": 0,
              "ticks": ""
             }
            },
            "marker": {
             "colorbar": {
              "outlinewidth": 0,
              "ticks": ""
             }
            },
            "type": "scatter3d"
           }
          ],
          "scattercarpet": [
           {
            "marker": {
             "colorbar": {
              "outlinewidth": 0,
              "ticks": ""
             }
            },
            "type": "scattercarpet"
           }
          ],
          "scattergeo": [
           {
            "marker": {
             "colorbar": {
              "outlinewidth": 0,
              "ticks": ""
             }
            },
            "type": "scattergeo"
           }
          ],
          "scattergl": [
           {
            "marker": {
             "colorbar": {
              "outlinewidth": 0,
              "ticks": ""
             }
            },
            "type": "scattergl"
           }
          ],
          "scattermapbox": [
           {
            "marker": {
             "colorbar": {
              "outlinewidth": 0,
              "ticks": ""
             }
            },
            "type": "scattermapbox"
           }
          ],
          "scatterpolar": [
           {
            "marker": {
             "colorbar": {
              "outlinewidth": 0,
              "ticks": ""
             }
            },
            "type": "scatterpolar"
           }
          ],
          "scatterpolargl": [
           {
            "marker": {
             "colorbar": {
              "outlinewidth": 0,
              "ticks": ""
             }
            },
            "type": "scatterpolargl"
           }
          ],
          "scatterternary": [
           {
            "marker": {
             "colorbar": {
              "outlinewidth": 0,
              "ticks": ""
             }
            },
            "type": "scatterternary"
           }
          ],
          "surface": [
           {
            "colorbar": {
             "outlinewidth": 0,
             "ticks": ""
            },
            "colorscale": [
             [
              0,
              "#0d0887"
             ],
             [
              0.1111111111111111,
              "#46039f"
             ],
             [
              0.2222222222222222,
              "#7201a8"
             ],
             [
              0.3333333333333333,
              "#9c179e"
             ],
             [
              0.4444444444444444,
              "#bd3786"
             ],
             [
              0.5555555555555556,
              "#d8576b"
             ],
             [
              0.6666666666666666,
              "#ed7953"
             ],
             [
              0.7777777777777778,
              "#fb9f3a"
             ],
             [
              0.8888888888888888,
              "#fdca26"
             ],
             [
              1,
              "#f0f921"
             ]
            ],
            "type": "surface"
           }
          ],
          "table": [
           {
            "cells": {
             "fill": {
              "color": "#EBF0F8"
             },
             "line": {
              "color": "white"
             }
            },
            "header": {
             "fill": {
              "color": "#C8D4E3"
             },
             "line": {
              "color": "white"
             }
            },
            "type": "table"
           }
          ]
         },
         "layout": {
          "annotationdefaults": {
           "arrowcolor": "#2a3f5f",
           "arrowhead": 0,
           "arrowwidth": 1
          },
          "autotypenumbers": "strict",
          "coloraxis": {
           "colorbar": {
            "outlinewidth": 0,
            "ticks": ""
           }
          },
          "colorscale": {
           "diverging": [
            [
             0,
             "#8e0152"
            ],
            [
             0.1,
             "#c51b7d"
            ],
            [
             0.2,
             "#de77ae"
            ],
            [
             0.3,
             "#f1b6da"
            ],
            [
             0.4,
             "#fde0ef"
            ],
            [
             0.5,
             "#f7f7f7"
            ],
            [
             0.6,
             "#e6f5d0"
            ],
            [
             0.7,
             "#b8e186"
            ],
            [
             0.8,
             "#7fbc41"
            ],
            [
             0.9,
             "#4d9221"
            ],
            [
             1,
             "#276419"
            ]
           ],
           "sequential": [
            [
             0,
             "#0d0887"
            ],
            [
             0.1111111111111111,
             "#46039f"
            ],
            [
             0.2222222222222222,
             "#7201a8"
            ],
            [
             0.3333333333333333,
             "#9c179e"
            ],
            [
             0.4444444444444444,
             "#bd3786"
            ],
            [
             0.5555555555555556,
             "#d8576b"
            ],
            [
             0.6666666666666666,
             "#ed7953"
            ],
            [
             0.7777777777777778,
             "#fb9f3a"
            ],
            [
             0.8888888888888888,
             "#fdca26"
            ],
            [
             1,
             "#f0f921"
            ]
           ],
           "sequentialminus": [
            [
             0,
             "#0d0887"
            ],
            [
             0.1111111111111111,
             "#46039f"
            ],
            [
             0.2222222222222222,
             "#7201a8"
            ],
            [
             0.3333333333333333,
             "#9c179e"
            ],
            [
             0.4444444444444444,
             "#bd3786"
            ],
            [
             0.5555555555555556,
             "#d8576b"
            ],
            [
             0.6666666666666666,
             "#ed7953"
            ],
            [
             0.7777777777777778,
             "#fb9f3a"
            ],
            [
             0.8888888888888888,
             "#fdca26"
            ],
            [
             1,
             "#f0f921"
            ]
           ]
          },
          "colorway": [
           "#636efa",
           "#EF553B",
           "#00cc96",
           "#ab63fa",
           "#FFA15A",
           "#19d3f3",
           "#FF6692",
           "#B6E880",
           "#FF97FF",
           "#FECB52"
          ],
          "font": {
           "color": "#2a3f5f"
          },
          "geo": {
           "bgcolor": "white",
           "lakecolor": "white",
           "landcolor": "#E5ECF6",
           "showlakes": true,
           "showland": true,
           "subunitcolor": "white"
          },
          "hoverlabel": {
           "align": "left"
          },
          "hovermode": "closest",
          "mapbox": {
           "style": "light"
          },
          "paper_bgcolor": "white",
          "plot_bgcolor": "#E5ECF6",
          "polar": {
           "angularaxis": {
            "gridcolor": "white",
            "linecolor": "white",
            "ticks": ""
           },
           "bgcolor": "#E5ECF6",
           "radialaxis": {
            "gridcolor": "white",
            "linecolor": "white",
            "ticks": ""
           }
          },
          "scene": {
           "xaxis": {
            "backgroundcolor": "#E5ECF6",
            "gridcolor": "white",
            "gridwidth": 2,
            "linecolor": "white",
            "showbackground": true,
            "ticks": "",
            "zerolinecolor": "white"
           },
           "yaxis": {
            "backgroundcolor": "#E5ECF6",
            "gridcolor": "white",
            "gridwidth": 2,
            "linecolor": "white",
            "showbackground": true,
            "ticks": "",
            "zerolinecolor": "white"
           },
           "zaxis": {
            "backgroundcolor": "#E5ECF6",
            "gridcolor": "white",
            "gridwidth": 2,
            "linecolor": "white",
            "showbackground": true,
            "ticks": "",
            "zerolinecolor": "white"
           }
          },
          "shapedefaults": {
           "line": {
            "color": "#2a3f5f"
           }
          },
          "ternary": {
           "aaxis": {
            "gridcolor": "white",
            "linecolor": "white",
            "ticks": ""
           },
           "baxis": {
            "gridcolor": "white",
            "linecolor": "white",
            "ticks": ""
           },
           "bgcolor": "#E5ECF6",
           "caxis": {
            "gridcolor": "white",
            "linecolor": "white",
            "ticks": ""
           }
          },
          "title": {
           "x": 0.05
          },
          "xaxis": {
           "automargin": true,
           "gridcolor": "white",
           "linecolor": "white",
           "ticks": "",
           "title": {
            "standoff": 15
           },
           "zerolinecolor": "white",
           "zerolinewidth": 2
          },
          "yaxis": {
           "automargin": true,
           "gridcolor": "white",
           "linecolor": "white",
           "ticks": "",
           "title": {
            "standoff": 15
           },
           "zerolinecolor": "white",
           "zerolinewidth": 2
          }
         }
        },
        "width": 350,
        "xaxis": {
         "autorange": "reversed",
         "linecolor": "Black",
         "showline": true,
         "title": {
          "text": "Vinardo"
         },
         "zeroline": true
        },
        "yaxis": {
         "dtick": 0.1,
         "linecolor": "Black",
         "showline": true,
         "tickfont": {
          "size": 10
         },
         "title": {
          "text": "Peptide"
         },
         "zeroline": true
        }
       }
      },
      "text/html": [
       "<div>                            <div id=\"aa9c5392-693b-4892-86d5-1f2d986ee845\" class=\"plotly-graph-div\" style=\"height:450px; width:350px;\"></div>            <script type=\"text/javascript\">                require([\"plotly\"], function(Plotly) {                    window.PLOTLYENV=window.PLOTLYENV || {};                                    if (document.getElementById(\"aa9c5392-693b-4892-86d5-1f2d986ee845\")) {                    Plotly.newPlot(                        \"aa9c5392-693b-4892-86d5-1f2d986ee845\",                        [{\"boxpoints\":false,\"fillcolor\":\"#a6611a\",\"jitter\":0.5,\"line\":{\"color\":\"#59340e\",\"width\":1},\"marker\":{\"color\":\"rgb(0, 0, 0)\",\"size\":2},\"name\":\"DAKRNSKSL\",\"type\":\"box\",\"whiskerwidth\":0.2,\"x\":[0.1873964345205219]},{\"boxpoints\":false,\"fillcolor\":\"#a6611a\",\"jitter\":0.5,\"line\":{\"color\":\"#59340e\",\"width\":1},\"marker\":{\"color\":\"rgb(0, 0, 0)\",\"size\":2},\"name\":\"EIDVSEVKT\",\"type\":\"box\",\"whiskerwidth\":0.2,\"x\":[0.2727735324690008]},{\"boxpoints\":false,\"fillcolor\":\"#a6611a\",\"jitter\":0.5,\"line\":{\"color\":\"#59340e\",\"width\":1},\"marker\":{\"color\":\"rgb(0, 0, 0)\",\"size\":2},\"name\":\"ATKRYPGVM\",\"type\":\"box\",\"whiskerwidth\":0.2,\"x\":[0.07904030409651763]},{\"boxpoints\":false,\"fillcolor\":\"#a6611a\",\"jitter\":0.5,\"line\":{\"color\":\"#59340e\",\"width\":1},\"marker\":{\"color\":\"rgb(0, 0, 0)\",\"size\":2},\"name\":\"AAEQRRSTI\",\"type\":\"box\",\"whiskerwidth\":0.2,\"x\":[0.12785797231295148]},{\"boxpoints\":false,\"fillcolor\":\"#a6611a\",\"jitter\":0.5,\"line\":{\"color\":\"#59340e\",\"width\":1},\"marker\":{\"color\":\"rgb(0, 0, 0)\",\"size\":2},\"name\":\"ETLNEYKQL\",\"type\":\"box\",\"whiskerwidth\":0.2,\"x\":[0.40435333823343944]},{\"boxpoints\":false,\"fillcolor\":\"#dfc27d\",\"jitter\":0.5,\"line\":{\"color\":\"#756438\",\"width\":1},\"marker\":{\"color\":\"rgb(0, 0, 0)\",\"size\":2},\"name\":\"SLLMWITQC\",\"type\":\"box\",\"whiskerwidth\":0.2,\"x\":[0.2770292310168012,0.23244551531573077,0.43869358535535197,0.4075674018275367,0.3020643508591859,0.27278223088197573,0.2401294758771264,0.35406128901781897,0.4254121960448318]},{\"boxpoints\":false,\"fillcolor\":\"#dfc27d\",\"jitter\":0.5,\"line\":{\"color\":\"#756438\",\"width\":1},\"marker\":{\"color\":\"rgb(0, 0, 0)\",\"size\":2},\"name\":\"EAAGIGILTV\",\"type\":\"box\",\"whiskerwidth\":0.2,\"x\":[0.40393798901390454,0.5453241681055294,0.6304348771566629]},{\"boxpoints\":false,\"fillcolor\":\"#dfc27d\",\"jitter\":0.5,\"line\":{\"color\":\"#756438\",\"width\":1},\"marker\":{\"color\":\"rgb(0, 0, 0)\",\"size\":2},\"name\":\"RGPGRAFVTI\",\"type\":\"box\",\"whiskerwidth\":0.2,\"x\":[0.7654005401714458,0.6520700048276193,0.4685791577326718,0.3203375419154776,0.009137682829767901,0.612366098805273]},{\"boxpoints\":false,\"fillcolor\":\"#dfc27d\",\"jitter\":0.5,\"line\":{\"color\":\"#756438\",\"width\":1},\"marker\":{\"color\":\"rgb(0, 0, 0)\",\"size\":2},\"name\":\"RQISQDVKL\",\"type\":\"box\",\"whiskerwidth\":0.2,\"x\":[0.49401657917512964]},{\"boxpoints\":false,\"fillcolor\":\"#80cdc1\",\"jitter\":0.5,\"line\":{\"color\":\"#365b55\",\"width\":1},\"marker\":{\"color\":\"rgb(0, 0, 0)\",\"size\":2},\"name\":\"AAGIGILTV\",\"type\":\"box\",\"whiskerwidth\":0.2,\"x\":[0.37280419437473644,0.406285473215412,0.3539449477442842,0.3730096943812603,0.553908414409791,0.3666141862417204,0.35319253502198533,0.3814786867136093]},{\"boxpoints\":false,\"fillcolor\":\"#80cdc1\",\"jitter\":0.5,\"line\":{\"color\":\"#365b55\",\"width\":1},\"marker\":{\"color\":\"rgb(0, 0, 0)\",\"size\":2},\"name\":\"VLRDDLLEA\",\"type\":\"box\",\"whiskerwidth\":0.2,\"x\":[0.4340475455253191]},{\"boxpoints\":false,\"fillcolor\":\"#80cdc1\",\"jitter\":0.5,\"line\":{\"color\":\"#365b55\",\"width\":1},\"marker\":{\"color\":\"rgb(0, 0, 0)\",\"size\":2},\"name\":\"ILKEPVHGV\",\"type\":\"box\",\"whiskerwidth\":0.2,\"x\":[0.36303044009620467,0.6193074323589662,0.5818488041856765,0.523062754700405,0.02002918317553004,0.6606629495448557,0.6061858763868533]},{\"boxpoints\":false,\"fillcolor\":\"#80cdc1\",\"jitter\":0.5,\"line\":{\"color\":\"#365b55\",\"width\":1},\"marker\":{\"color\":\"rgb(0, 0, 0)\",\"size\":2},\"name\":\"CINGVCWTV\",\"type\":\"box\",\"whiskerwidth\":0.2,\"x\":[0.5060606192400199,0.6310285438421761]},{\"boxpoints\":false,\"fillcolor\":\"#018571\",\"jitter\":0.5,\"line\":{\"color\":\"#052f29\",\"width\":1},\"marker\":{\"color\":\"rgb(0, 0, 0)\",\"size\":2},\"name\":\"LLFGYPVYV\",\"type\":\"box\",\"whiskerwidth\":0.2,\"x\":[0.638272147246735,0.7894984060158226,0.6770866405424332,0.7547449842776187,0.7278853723138214,0.8633131385178776,0.7610230638420021,0.871160194322546,0.9408790616152085,1.0,0.8317911771997202,0.818388010107556,0.8373233678515355,0.8209431689188309,0.728152848512789,0.74196049180827,0.023599881701583558,0.13787202024990552,0.18679406942203414,0.16311155279719236,0.0,0.03669208052990769,0.8620583924462983,0.7966137078290066,0.7939672156814991]},{\"boxpoints\":false,\"fillcolor\":\"#018571\",\"jitter\":0.5,\"line\":{\"color\":\"#052f29\",\"width\":1},\"marker\":{\"color\":\"rgb(0, 0, 0)\",\"size\":2},\"name\":\"ALWGFFPVL\",\"type\":\"box\",\"whiskerwidth\":0.2,\"x\":[0.8724149403941255,0.8617659083100289,0.8181694624815705,0.8409723520943605,0.8134125178861118,0.7604881114440672,0.7501348254011057,0.7264240389340967,0.7166546338620521,0.720891848282281]},{\"boxpoints\":false,\"fillcolor\":\"#018571\",\"jitter\":0.5,\"line\":{\"color\":\"#052f29\",\"width\":1},\"marker\":{\"color\":\"rgb(0, 0, 0)\",\"size\":2},\"name\":\"FLPSDFFPSV\",\"type\":\"box\",\"whiskerwidth\":0.2,\"x\":[0.7916316917978317,0.8720844007010922,0.7605794447802999,0.856831733550214,0.6795091485558462]}],                        {\"boxgap\":0.15,\"boxgroupgap\":0.15,\"font\":{\"family\":\"Times New Roman\"},\"height\":450,\"paper_bgcolor\":\"rgba(0, 0, 0, 0)\",\"plot_bgcolor\":\"rgba(0, 0, 0, 0)\",\"showlegend\":false,\"template\":{\"data\":{\"bar\":[{\"error_x\":{\"color\":\"#2a3f5f\"},\"error_y\":{\"color\":\"#2a3f5f\"},\"marker\":{\"line\":{\"color\":\"#E5ECF6\",\"width\":0.5},\"pattern\":{\"fillmode\":\"overlay\",\"size\":10,\"solidity\":0.2}},\"type\":\"bar\"}],\"barpolar\":[{\"marker\":{\"line\":{\"color\":\"#E5ECF6\",\"width\":0.5},\"pattern\":{\"fillmode\":\"overlay\",\"size\":10,\"solidity\":0.2}},\"type\":\"barpolar\"}],\"carpet\":[{\"aaxis\":{\"endlinecolor\":\"#2a3f5f\",\"gridcolor\":\"white\",\"linecolor\":\"white\",\"minorgridcolor\":\"white\",\"startlinecolor\":\"#2a3f5f\"},\"baxis\":{\"endlinecolor\":\"#2a3f5f\",\"gridcolor\":\"white\",\"linecolor\":\"white\",\"minorgridcolor\":\"white\",\"startlinecolor\":\"#2a3f5f\"},\"type\":\"carpet\"}],\"choropleth\":[{\"colorbar\":{\"outlinewidth\":0,\"ticks\":\"\"},\"type\":\"choropleth\"}],\"contour\":[{\"colorbar\":{\"outlinewidth\":0,\"ticks\":\"\"},\"colorscale\":[[0.0,\"#0d0887\"],[0.1111111111111111,\"#46039f\"],[0.2222222222222222,\"#7201a8\"],[0.3333333333333333,\"#9c179e\"],[0.4444444444444444,\"#bd3786\"],[0.5555555555555556,\"#d8576b\"],[0.6666666666666666,\"#ed7953\"],[0.7777777777777778,\"#fb9f3a\"],[0.8888888888888888,\"#fdca26\"],[1.0,\"#f0f921\"]],\"type\":\"contour\"}],\"contourcarpet\":[{\"colorbar\":{\"outlinewidth\":0,\"ticks\":\"\"},\"type\":\"contourcarpet\"}],\"heatmap\":[{\"colorbar\":{\"outlinewidth\":0,\"ticks\":\"\"},\"colorscale\":[[0.0,\"#0d0887\"],[0.1111111111111111,\"#46039f\"],[0.2222222222222222,\"#7201a8\"],[0.3333333333333333,\"#9c179e\"],[0.4444444444444444,\"#bd3786\"],[0.5555555555555556,\"#d8576b\"],[0.6666666666666666,\"#ed7953\"],[0.7777777777777778,\"#fb9f3a\"],[0.8888888888888888,\"#fdca26\"],[1.0,\"#f0f921\"]],\"type\":\"heatmap\"}],\"heatmapgl\":[{\"colorbar\":{\"outlinewidth\":0,\"ticks\":\"\"},\"colorscale\":[[0.0,\"#0d0887\"],[0.1111111111111111,\"#46039f\"],[0.2222222222222222,\"#7201a8\"],[0.3333333333333333,\"#9c179e\"],[0.4444444444444444,\"#bd3786\"],[0.5555555555555556,\"#d8576b\"],[0.6666666666666666,\"#ed7953\"],[0.7777777777777778,\"#fb9f3a\"],[0.8888888888888888,\"#fdca26\"],[1.0,\"#f0f921\"]],\"type\":\"heatmapgl\"}],\"histogram\":[{\"marker\":{\"pattern\":{\"fillmode\":\"overlay\",\"size\":10,\"solidity\":0.2}},\"type\":\"histogram\"}],\"histogram2d\":[{\"colorbar\":{\"outlinewidth\":0,\"ticks\":\"\"},\"colorscale\":[[0.0,\"#0d0887\"],[0.1111111111111111,\"#46039f\"],[0.2222222222222222,\"#7201a8\"],[0.3333333333333333,\"#9c179e\"],[0.4444444444444444,\"#bd3786\"],[0.5555555555555556,\"#d8576b\"],[0.6666666666666666,\"#ed7953\"],[0.7777777777777778,\"#fb9f3a\"],[0.8888888888888888,\"#fdca26\"],[1.0,\"#f0f921\"]],\"type\":\"histogram2d\"}],\"histogram2dcontour\":[{\"colorbar\":{\"outlinewidth\":0,\"ticks\":\"\"},\"colorscale\":[[0.0,\"#0d0887\"],[0.1111111111111111,\"#46039f\"],[0.2222222222222222,\"#7201a8\"],[0.3333333333333333,\"#9c179e\"],[0.4444444444444444,\"#bd3786\"],[0.5555555555555556,\"#d8576b\"],[0.6666666666666666,\"#ed7953\"],[0.7777777777777778,\"#fb9f3a\"],[0.8888888888888888,\"#fdca26\"],[1.0,\"#f0f921\"]],\"type\":\"histogram2dcontour\"}],\"mesh3d\":[{\"colorbar\":{\"outlinewidth\":0,\"ticks\":\"\"},\"type\":\"mesh3d\"}],\"parcoords\":[{\"line\":{\"colorbar\":{\"outlinewidth\":0,\"ticks\":\"\"}},\"type\":\"parcoords\"}],\"pie\":[{\"automargin\":true,\"type\":\"pie\"}],\"scatter\":[{\"marker\":{\"colorbar\":{\"outlinewidth\":0,\"ticks\":\"\"}},\"type\":\"scatter\"}],\"scatter3d\":[{\"line\":{\"colorbar\":{\"outlinewidth\":0,\"ticks\":\"\"}},\"marker\":{\"colorbar\":{\"outlinewidth\":0,\"ticks\":\"\"}},\"type\":\"scatter3d\"}],\"scattercarpet\":[{\"marker\":{\"colorbar\":{\"outlinewidth\":0,\"ticks\":\"\"}},\"type\":\"scattercarpet\"}],\"scattergeo\":[{\"marker\":{\"colorbar\":{\"outlinewidth\":0,\"ticks\":\"\"}},\"type\":\"scattergeo\"}],\"scattergl\":[{\"marker\":{\"colorbar\":{\"outlinewidth\":0,\"ticks\":\"\"}},\"type\":\"scattergl\"}],\"scattermapbox\":[{\"marker\":{\"colorbar\":{\"outlinewidth\":0,\"ticks\":\"\"}},\"type\":\"scattermapbox\"}],\"scatterpolar\":[{\"marker\":{\"colorbar\":{\"outlinewidth\":0,\"ticks\":\"\"}},\"type\":\"scatterpolar\"}],\"scatterpolargl\":[{\"marker\":{\"colorbar\":{\"outlinewidth\":0,\"ticks\":\"\"}},\"type\":\"scatterpolargl\"}],\"scatterternary\":[{\"marker\":{\"colorbar\":{\"outlinewidth\":0,\"ticks\":\"\"}},\"type\":\"scatterternary\"}],\"surface\":[{\"colorbar\":{\"outlinewidth\":0,\"ticks\":\"\"},\"colorscale\":[[0.0,\"#0d0887\"],[0.1111111111111111,\"#46039f\"],[0.2222222222222222,\"#7201a8\"],[0.3333333333333333,\"#9c179e\"],[0.4444444444444444,\"#bd3786\"],[0.5555555555555556,\"#d8576b\"],[0.6666666666666666,\"#ed7953\"],[0.7777777777777778,\"#fb9f3a\"],[0.8888888888888888,\"#fdca26\"],[1.0,\"#f0f921\"]],\"type\":\"surface\"}],\"table\":[{\"cells\":{\"fill\":{\"color\":\"#EBF0F8\"},\"line\":{\"color\":\"white\"}},\"header\":{\"fill\":{\"color\":\"#C8D4E3\"},\"line\":{\"color\":\"white\"}},\"type\":\"table\"}]},\"layout\":{\"annotationdefaults\":{\"arrowcolor\":\"#2a3f5f\",\"arrowhead\":0,\"arrowwidth\":1},\"autotypenumbers\":\"strict\",\"coloraxis\":{\"colorbar\":{\"outlinewidth\":0,\"ticks\":\"\"}},\"colorscale\":{\"diverging\":[[0,\"#8e0152\"],[0.1,\"#c51b7d\"],[0.2,\"#de77ae\"],[0.3,\"#f1b6da\"],[0.4,\"#fde0ef\"],[0.5,\"#f7f7f7\"],[0.6,\"#e6f5d0\"],[0.7,\"#b8e186\"],[0.8,\"#7fbc41\"],[0.9,\"#4d9221\"],[1,\"#276419\"]],\"sequential\":[[0.0,\"#0d0887\"],[0.1111111111111111,\"#46039f\"],[0.2222222222222222,\"#7201a8\"],[0.3333333333333333,\"#9c179e\"],[0.4444444444444444,\"#bd3786\"],[0.5555555555555556,\"#d8576b\"],[0.6666666666666666,\"#ed7953\"],[0.7777777777777778,\"#fb9f3a\"],[0.8888888888888888,\"#fdca26\"],[1.0,\"#f0f921\"]],\"sequentialminus\":[[0.0,\"#0d0887\"],[0.1111111111111111,\"#46039f\"],[0.2222222222222222,\"#7201a8\"],[0.3333333333333333,\"#9c179e\"],[0.4444444444444444,\"#bd3786\"],[0.5555555555555556,\"#d8576b\"],[0.6666666666666666,\"#ed7953\"],[0.7777777777777778,\"#fb9f3a\"],[0.8888888888888888,\"#fdca26\"],[1.0,\"#f0f921\"]]},\"colorway\":[\"#636efa\",\"#EF553B\",\"#00cc96\",\"#ab63fa\",\"#FFA15A\",\"#19d3f3\",\"#FF6692\",\"#B6E880\",\"#FF97FF\",\"#FECB52\"],\"font\":{\"color\":\"#2a3f5f\"},\"geo\":{\"bgcolor\":\"white\",\"lakecolor\":\"white\",\"landcolor\":\"#E5ECF6\",\"showlakes\":true,\"showland\":true,\"subunitcolor\":\"white\"},\"hoverlabel\":{\"align\":\"left\"},\"hovermode\":\"closest\",\"mapbox\":{\"style\":\"light\"},\"paper_bgcolor\":\"white\",\"plot_bgcolor\":\"#E5ECF6\",\"polar\":{\"angularaxis\":{\"gridcolor\":\"white\",\"linecolor\":\"white\",\"ticks\":\"\"},\"bgcolor\":\"#E5ECF6\",\"radialaxis\":{\"gridcolor\":\"white\",\"linecolor\":\"white\",\"ticks\":\"\"}},\"scene\":{\"xaxis\":{\"backgroundcolor\":\"#E5ECF6\",\"gridcolor\":\"white\",\"gridwidth\":2,\"linecolor\":\"white\",\"showbackground\":true,\"ticks\":\"\",\"zerolinecolor\":\"white\"},\"yaxis\":{\"backgroundcolor\":\"#E5ECF6\",\"gridcolor\":\"white\",\"gridwidth\":2,\"linecolor\":\"white\",\"showbackground\":true,\"ticks\":\"\",\"zerolinecolor\":\"white\"},\"zaxis\":{\"backgroundcolor\":\"#E5ECF6\",\"gridcolor\":\"white\",\"gridwidth\":2,\"linecolor\":\"white\",\"showbackground\":true,\"ticks\":\"\",\"zerolinecolor\":\"white\"}},\"shapedefaults\":{\"line\":{\"color\":\"#2a3f5f\"}},\"ternary\":{\"aaxis\":{\"gridcolor\":\"white\",\"linecolor\":\"white\",\"ticks\":\"\"},\"baxis\":{\"gridcolor\":\"white\",\"linecolor\":\"white\",\"ticks\":\"\"},\"bgcolor\":\"#E5ECF6\",\"caxis\":{\"gridcolor\":\"white\",\"linecolor\":\"white\",\"ticks\":\"\"}},\"title\":{\"x\":0.05},\"xaxis\":{\"automargin\":true,\"gridcolor\":\"white\",\"linecolor\":\"white\",\"ticks\":\"\",\"title\":{\"standoff\":15},\"zerolinecolor\":\"white\",\"zerolinewidth\":2},\"yaxis\":{\"automargin\":true,\"gridcolor\":\"white\",\"linecolor\":\"white\",\"ticks\":\"\",\"title\":{\"standoff\":15},\"zerolinecolor\":\"white\",\"zerolinewidth\":2}}},\"width\":350,\"xaxis\":{\"autorange\":\"reversed\",\"linecolor\":\"Black\",\"showline\":true,\"title\":{\"text\":\"Vinardo\"},\"zeroline\":true},\"yaxis\":{\"dtick\":0.1,\"linecolor\":\"Black\",\"showline\":true,\"tickfont\":{\"size\":10},\"title\":{\"text\":\"Peptide\"},\"zeroline\":true}},                        {\"responsive\": true}                    ).then(function(){\n",
       "                            \n",
       "var gd = document.getElementById('aa9c5392-693b-4892-86d5-1f2d986ee845');\n",
       "var x = new MutationObserver(function (mutations, observer) {{\n",
       "        var display = window.getComputedStyle(gd).display;\n",
       "        if (!display || display === 'none') {{\n",
       "            console.log([gd, 'removed!']);\n",
       "            Plotly.purge(gd);\n",
       "            observer.disconnect();\n",
       "        }}\n",
       "}});\n",
       "\n",
       "// Listen for the removal of the full notebook cells\n",
       "var notebookContainer = gd.closest('#notebook-container');\n",
       "if (notebookContainer) {{\n",
       "    x.observe(notebookContainer, {childList: true});\n",
       "}}\n",
       "\n",
       "// Listen for the clearing of the current output cell\n",
       "var outputEl = gd.closest('.output');\n",
       "if (outputEl) {{\n",
       "    x.observe(outputEl, {childList: true});\n",
       "}}\n",
       "\n",
       "                        })                };                });            </script>        </div>"
      ]
     },
     "metadata": {},
     "output_type": "display_data"
    },
    {
     "data": {
      "application/vnd.plotly.v1+json": {
       "config": {
        "linkText": "Export to plot.ly",
        "plotlyServerURL": "https://plot.ly",
        "showLink": false
       },
       "data": [
        {
         "boxpoints": false,
         "fillcolor": "#a6611a",
         "jitter": 0.5,
         "line": {
          "color": "#59340e",
          "width": 1
         },
         "marker": {
          "color": "rgb(0, 0, 0)",
          "size": 2
         },
         "name": "DAKRNSKSL",
         "type": "box",
         "whiskerwidth": 0.2,
         "x": [
          0.4263254346828913
         ]
        },
        {
         "boxpoints": false,
         "fillcolor": "#a6611a",
         "jitter": 0.5,
         "line": {
          "color": "#59340e",
          "width": 1
         },
         "marker": {
          "color": "rgb(0, 0, 0)",
          "size": 2
         },
         "name": "EIDVSEVKT",
         "type": "box",
         "whiskerwidth": 0.2,
         "x": [
          0.45675995476851117
         ]
        },
        {
         "boxpoints": false,
         "fillcolor": "#a6611a",
         "jitter": 0.5,
         "line": {
          "color": "#59340e",
          "width": 1
         },
         "marker": {
          "color": "rgb(0, 0, 0)",
          "size": 2
         },
         "name": "ATKRYPGVM",
         "type": "box",
         "whiskerwidth": 0.2,
         "x": [
          0.4435580060336052
         ]
        },
        {
         "boxpoints": false,
         "fillcolor": "#a6611a",
         "jitter": 0.5,
         "line": {
          "color": "#59340e",
          "width": 1
         },
         "marker": {
          "color": "rgb(0, 0, 0)",
          "size": 2
         },
         "name": "AAEQRRSTI",
         "type": "box",
         "whiskerwidth": 0.2,
         "x": [
          0.5295171187655359
         ]
        },
        {
         "boxpoints": false,
         "fillcolor": "#a6611a",
         "jitter": 0.5,
         "line": {
          "color": "#59340e",
          "width": 1
         },
         "marker": {
          "color": "rgb(0, 0, 0)",
          "size": 2
         },
         "name": "ETLNEYKQL",
         "type": "box",
         "whiskerwidth": 0.2,
         "x": [
          0.6023797112050995
         ]
        },
        {
         "boxpoints": false,
         "fillcolor": "#dfc27d",
         "jitter": 0.5,
         "line": {
          "color": "#756438",
          "width": 1
         },
         "marker": {
          "color": "rgb(0, 0, 0)",
          "size": 2
         },
         "name": "SLLMWITQC",
         "type": "box",
         "whiskerwidth": 0.2,
         "x": [
          0.7012828128245248,
          0.6706745808073451,
          0.6299483795790641,
          0.7806258561121469,
          0.6230594923059369,
          0.5734861534677742,
          0.512138970809757,
          0.5743597711617963,
          0.7269325887061009
         ]
        },
        {
         "boxpoints": false,
         "fillcolor": "#dfc27d",
         "jitter": 0.5,
         "line": {
          "color": "#756438",
          "width": 1
         },
         "marker": {
          "color": "rgb(0, 0, 0)",
          "size": 2
         },
         "name": "EAAGIGILTV",
         "type": "box",
         "whiskerwidth": 0.2,
         "x": [
          0.46802499175698176,
          0.8975164409886824,
          0.8683448493226814
         ]
        },
        {
         "boxpoints": false,
         "fillcolor": "#dfc27d",
         "jitter": 0.5,
         "line": {
          "color": "#756438",
          "width": 1
         },
         "marker": {
          "color": "rgb(0, 0, 0)",
          "size": 2
         },
         "name": "RGPGRAFVTI",
         "type": "box",
         "whiskerwidth": 0.2,
         "x": [
          0.7176087311821298,
          0.7233913310949418,
          0.41107687804094684,
          0.6324012110203231,
          0.5312534477629731,
          0.7636246899186703
         ]
        },
        {
         "boxpoints": false,
         "fillcolor": "#dfc27d",
         "jitter": 0.5,
         "line": {
          "color": "#756438",
          "width": 1
         },
         "marker": {
          "color": "rgb(0, 0, 0)",
          "size": 2
         },
         "name": "RQISQDVKL",
         "type": "box",
         "whiskerwidth": 0.2,
         "x": [
          0.6324604848823203
         ]
        },
        {
         "boxpoints": false,
         "fillcolor": "#80cdc1",
         "jitter": 0.5,
         "line": {
          "color": "#365b55",
          "width": 1
         },
         "marker": {
          "color": "rgb(0, 0, 0)",
          "size": 2
         },
         "name": "AAGIGILTV",
         "type": "box",
         "whiskerwidth": 0.2,
         "x": [
          0.5421617351340366,
          0.6034030151586187,
          0.5867420019011896,
          0.5476489141186548,
          0.46206109285827424,
          0.3354029658427654,
          0.33154684547667734,
          0.3171097875213822
         ]
        },
        {
         "boxpoints": false,
         "fillcolor": "#80cdc1",
         "jitter": 0.5,
         "line": {
          "color": "#365b55",
          "width": 1
         },
         "marker": {
          "color": "rgb(0, 0, 0)",
          "size": 2
         },
         "name": "VLRDDLLEA",
         "type": "box",
         "whiskerwidth": 0.2,
         "x": [
          0.6823471058390921
         ]
        },
        {
         "boxpoints": false,
         "fillcolor": "#80cdc1",
         "jitter": 0.5,
         "line": {
          "color": "#365b55",
          "width": 1
         },
         "marker": {
          "color": "rgb(0, 0, 0)",
          "size": 2
         },
         "name": "ILKEPVHGV",
         "type": "box",
         "whiskerwidth": 0.2,
         "x": [
          0.679770036383087,
          0.7052095876341133,
          0.6759033257536555,
          0.7945634329903462,
          0.5186179990851278,
          0.6808744269798186,
          0.5702687682385678
         ]
        },
        {
         "boxpoints": false,
         "fillcolor": "#80cdc1",
         "jitter": 0.5,
         "line": {
          "color": "#365b55",
          "width": 1
         },
         "marker": {
          "color": "rgb(0, 0, 0)",
          "size": 2
         },
         "name": "CINGVCWTV",
         "type": "box",
         "whiskerwidth": 0.2,
         "x": [
          0.6507699437577987,
          0.8147745554223258
         ]
        },
        {
         "boxpoints": false,
         "fillcolor": "#018571",
         "jitter": 0.5,
         "line": {
          "color": "#052f29",
          "width": 1
         },
         "marker": {
          "color": "rgb(0, 0, 0)",
          "size": 2
         },
         "name": "LLFGYPVYV",
         "type": "box",
         "whiskerwidth": 0.2,
         "x": [
          0.4742128668222225,
          0.7078947726144014,
          0.5597580109019651,
          0.6898731476127811,
          0.7102899108299827,
          0.8674649090833798,
          0.6770086647321789,
          0.7467869615206737,
          0.9164994090000804,
          0.9088533969297091,
          0.8055622908225413,
          0.8141388234944522,
          0.8095377492307836,
          0.7940566809861784,
          0.8522210943503951,
          0.9876351562601262,
          0.11068042283918333,
          0.10469186601388492,
          0.031192593264655732,
          0.09195984045689243,
          0.4202300268423663,
          0,
          0.7073448692386994,
          0.6449438763461887,
          0.6644898670147441
         ]
        },
        {
         "boxpoints": false,
         "fillcolor": "#018571",
         "jitter": 0.5,
         "line": {
          "color": "#052f29",
          "width": 1
         },
         "marker": {
          "color": "rgb(0, 0, 0)",
          "size": 2
         },
         "name": "ALWGFFPVL",
         "type": "box",
         "whiskerwidth": 0.2,
         "x": [
          0.7816744502467851,
          0.7910152205793792,
          0.8710611728384722,
          0.8230458672208592,
          0.6873728970819243,
          0.7190526424603809,
          0.8733336536756278,
          0.8258277871439265,
          0.8976054308134934,
          0.8762500857495207
         ]
        },
        {
         "boxpoints": false,
         "fillcolor": "#018571",
         "jitter": 0.5,
         "line": {
          "color": "#052f29",
          "width": 1
         },
         "marker": {
          "color": "rgb(0, 0, 0)",
          "size": 2
         },
         "name": "FLPSDFFPSV",
         "type": "box",
         "whiskerwidth": 0.2,
         "x": [
          1,
          0.9980249949182542,
          0.9219409075950526,
          0.9950949693720104,
          0.9866263941607505
         ]
        }
       ],
       "layout": {
        "boxgap": 0.15,
        "boxgroupgap": 0.15,
        "font": {
         "family": "Times New Roman"
        },
        "height": 450,
        "paper_bgcolor": "rgba(0, 0, 0, 0)",
        "plot_bgcolor": "rgba(0, 0, 0, 0)",
        "showlegend": false,
        "template": {
         "data": {
          "bar": [
           {
            "error_x": {
             "color": "#2a3f5f"
            },
            "error_y": {
             "color": "#2a3f5f"
            },
            "marker": {
             "line": {
              "color": "#E5ECF6",
              "width": 0.5
             },
             "pattern": {
              "fillmode": "overlay",
              "size": 10,
              "solidity": 0.2
             }
            },
            "type": "bar"
           }
          ],
          "barpolar": [
           {
            "marker": {
             "line": {
              "color": "#E5ECF6",
              "width": 0.5
             },
             "pattern": {
              "fillmode": "overlay",
              "size": 10,
              "solidity": 0.2
             }
            },
            "type": "barpolar"
           }
          ],
          "carpet": [
           {
            "aaxis": {
             "endlinecolor": "#2a3f5f",
             "gridcolor": "white",
             "linecolor": "white",
             "minorgridcolor": "white",
             "startlinecolor": "#2a3f5f"
            },
            "baxis": {
             "endlinecolor": "#2a3f5f",
             "gridcolor": "white",
             "linecolor": "white",
             "minorgridcolor": "white",
             "startlinecolor": "#2a3f5f"
            },
            "type": "carpet"
           }
          ],
          "choropleth": [
           {
            "colorbar": {
             "outlinewidth": 0,
             "ticks": ""
            },
            "type": "choropleth"
           }
          ],
          "contour": [
           {
            "colorbar": {
             "outlinewidth": 0,
             "ticks": ""
            },
            "colorscale": [
             [
              0,
              "#0d0887"
             ],
             [
              0.1111111111111111,
              "#46039f"
             ],
             [
              0.2222222222222222,
              "#7201a8"
             ],
             [
              0.3333333333333333,
              "#9c179e"
             ],
             [
              0.4444444444444444,
              "#bd3786"
             ],
             [
              0.5555555555555556,
              "#d8576b"
             ],
             [
              0.6666666666666666,
              "#ed7953"
             ],
             [
              0.7777777777777778,
              "#fb9f3a"
             ],
             [
              0.8888888888888888,
              "#fdca26"
             ],
             [
              1,
              "#f0f921"
             ]
            ],
            "type": "contour"
           }
          ],
          "contourcarpet": [
           {
            "colorbar": {
             "outlinewidth": 0,
             "ticks": ""
            },
            "type": "contourcarpet"
           }
          ],
          "heatmap": [
           {
            "colorbar": {
             "outlinewidth": 0,
             "ticks": ""
            },
            "colorscale": [
             [
              0,
              "#0d0887"
             ],
             [
              0.1111111111111111,
              "#46039f"
             ],
             [
              0.2222222222222222,
              "#7201a8"
             ],
             [
              0.3333333333333333,
              "#9c179e"
             ],
             [
              0.4444444444444444,
              "#bd3786"
             ],
             [
              0.5555555555555556,
              "#d8576b"
             ],
             [
              0.6666666666666666,
              "#ed7953"
             ],
             [
              0.7777777777777778,
              "#fb9f3a"
             ],
             [
              0.8888888888888888,
              "#fdca26"
             ],
             [
              1,
              "#f0f921"
             ]
            ],
            "type": "heatmap"
           }
          ],
          "heatmapgl": [
           {
            "colorbar": {
             "outlinewidth": 0,
             "ticks": ""
            },
            "colorscale": [
             [
              0,
              "#0d0887"
             ],
             [
              0.1111111111111111,
              "#46039f"
             ],
             [
              0.2222222222222222,
              "#7201a8"
             ],
             [
              0.3333333333333333,
              "#9c179e"
             ],
             [
              0.4444444444444444,
              "#bd3786"
             ],
             [
              0.5555555555555556,
              "#d8576b"
             ],
             [
              0.6666666666666666,
              "#ed7953"
             ],
             [
              0.7777777777777778,
              "#fb9f3a"
             ],
             [
              0.8888888888888888,
              "#fdca26"
             ],
             [
              1,
              "#f0f921"
             ]
            ],
            "type": "heatmapgl"
           }
          ],
          "histogram": [
           {
            "marker": {
             "pattern": {
              "fillmode": "overlay",
              "size": 10,
              "solidity": 0.2
             }
            },
            "type": "histogram"
           }
          ],
          "histogram2d": [
           {
            "colorbar": {
             "outlinewidth": 0,
             "ticks": ""
            },
            "colorscale": [
             [
              0,
              "#0d0887"
             ],
             [
              0.1111111111111111,
              "#46039f"
             ],
             [
              0.2222222222222222,
              "#7201a8"
             ],
             [
              0.3333333333333333,
              "#9c179e"
             ],
             [
              0.4444444444444444,
              "#bd3786"
             ],
             [
              0.5555555555555556,
              "#d8576b"
             ],
             [
              0.6666666666666666,
              "#ed7953"
             ],
             [
              0.7777777777777778,
              "#fb9f3a"
             ],
             [
              0.8888888888888888,
              "#fdca26"
             ],
             [
              1,
              "#f0f921"
             ]
            ],
            "type": "histogram2d"
           }
          ],
          "histogram2dcontour": [
           {
            "colorbar": {
             "outlinewidth": 0,
             "ticks": ""
            },
            "colorscale": [
             [
              0,
              "#0d0887"
             ],
             [
              0.1111111111111111,
              "#46039f"
             ],
             [
              0.2222222222222222,
              "#7201a8"
             ],
             [
              0.3333333333333333,
              "#9c179e"
             ],
             [
              0.4444444444444444,
              "#bd3786"
             ],
             [
              0.5555555555555556,
              "#d8576b"
             ],
             [
              0.6666666666666666,
              "#ed7953"
             ],
             [
              0.7777777777777778,
              "#fb9f3a"
             ],
             [
              0.8888888888888888,
              "#fdca26"
             ],
             [
              1,
              "#f0f921"
             ]
            ],
            "type": "histogram2dcontour"
           }
          ],
          "mesh3d": [
           {
            "colorbar": {
             "outlinewidth": 0,
             "ticks": ""
            },
            "type": "mesh3d"
           }
          ],
          "parcoords": [
           {
            "line": {
             "colorbar": {
              "outlinewidth": 0,
              "ticks": ""
             }
            },
            "type": "parcoords"
           }
          ],
          "pie": [
           {
            "automargin": true,
            "type": "pie"
           }
          ],
          "scatter": [
           {
            "marker": {
             "colorbar": {
              "outlinewidth": 0,
              "ticks": ""
             }
            },
            "type": "scatter"
           }
          ],
          "scatter3d": [
           {
            "line": {
             "colorbar": {
              "outlinewidth": 0,
              "ticks": ""
             }
            },
            "marker": {
             "colorbar": {
              "outlinewidth": 0,
              "ticks": ""
             }
            },
            "type": "scatter3d"
           }
          ],
          "scattercarpet": [
           {
            "marker": {
             "colorbar": {
              "outlinewidth": 0,
              "ticks": ""
             }
            },
            "type": "scattercarpet"
           }
          ],
          "scattergeo": [
           {
            "marker": {
             "colorbar": {
              "outlinewidth": 0,
              "ticks": ""
             }
            },
            "type": "scattergeo"
           }
          ],
          "scattergl": [
           {
            "marker": {
             "colorbar": {
              "outlinewidth": 0,
              "ticks": ""
             }
            },
            "type": "scattergl"
           }
          ],
          "scattermapbox": [
           {
            "marker": {
             "colorbar": {
              "outlinewidth": 0,
              "ticks": ""
             }
            },
            "type": "scattermapbox"
           }
          ],
          "scatterpolar": [
           {
            "marker": {
             "colorbar": {
              "outlinewidth": 0,
              "ticks": ""
             }
            },
            "type": "scatterpolar"
           }
          ],
          "scatterpolargl": [
           {
            "marker": {
             "colorbar": {
              "outlinewidth": 0,
              "ticks": ""
             }
            },
            "type": "scatterpolargl"
           }
          ],
          "scatterternary": [
           {
            "marker": {
             "colorbar": {
              "outlinewidth": 0,
              "ticks": ""
             }
            },
            "type": "scatterternary"
           }
          ],
          "surface": [
           {
            "colorbar": {
             "outlinewidth": 0,
             "ticks": ""
            },
            "colorscale": [
             [
              0,
              "#0d0887"
             ],
             [
              0.1111111111111111,
              "#46039f"
             ],
             [
              0.2222222222222222,
              "#7201a8"
             ],
             [
              0.3333333333333333,
              "#9c179e"
             ],
             [
              0.4444444444444444,
              "#bd3786"
             ],
             [
              0.5555555555555556,
              "#d8576b"
             ],
             [
              0.6666666666666666,
              "#ed7953"
             ],
             [
              0.7777777777777778,
              "#fb9f3a"
             ],
             [
              0.8888888888888888,
              "#fdca26"
             ],
             [
              1,
              "#f0f921"
             ]
            ],
            "type": "surface"
           }
          ],
          "table": [
           {
            "cells": {
             "fill": {
              "color": "#EBF0F8"
             },
             "line": {
              "color": "white"
             }
            },
            "header": {
             "fill": {
              "color": "#C8D4E3"
             },
             "line": {
              "color": "white"
             }
            },
            "type": "table"
           }
          ]
         },
         "layout": {
          "annotationdefaults": {
           "arrowcolor": "#2a3f5f",
           "arrowhead": 0,
           "arrowwidth": 1
          },
          "autotypenumbers": "strict",
          "coloraxis": {
           "colorbar": {
            "outlinewidth": 0,
            "ticks": ""
           }
          },
          "colorscale": {
           "diverging": [
            [
             0,
             "#8e0152"
            ],
            [
             0.1,
             "#c51b7d"
            ],
            [
             0.2,
             "#de77ae"
            ],
            [
             0.3,
             "#f1b6da"
            ],
            [
             0.4,
             "#fde0ef"
            ],
            [
             0.5,
             "#f7f7f7"
            ],
            [
             0.6,
             "#e6f5d0"
            ],
            [
             0.7,
             "#b8e186"
            ],
            [
             0.8,
             "#7fbc41"
            ],
            [
             0.9,
             "#4d9221"
            ],
            [
             1,
             "#276419"
            ]
           ],
           "sequential": [
            [
             0,
             "#0d0887"
            ],
            [
             0.1111111111111111,
             "#46039f"
            ],
            [
             0.2222222222222222,
             "#7201a8"
            ],
            [
             0.3333333333333333,
             "#9c179e"
            ],
            [
             0.4444444444444444,
             "#bd3786"
            ],
            [
             0.5555555555555556,
             "#d8576b"
            ],
            [
             0.6666666666666666,
             "#ed7953"
            ],
            [
             0.7777777777777778,
             "#fb9f3a"
            ],
            [
             0.8888888888888888,
             "#fdca26"
            ],
            [
             1,
             "#f0f921"
            ]
           ],
           "sequentialminus": [
            [
             0,
             "#0d0887"
            ],
            [
             0.1111111111111111,
             "#46039f"
            ],
            [
             0.2222222222222222,
             "#7201a8"
            ],
            [
             0.3333333333333333,
             "#9c179e"
            ],
            [
             0.4444444444444444,
             "#bd3786"
            ],
            [
             0.5555555555555556,
             "#d8576b"
            ],
            [
             0.6666666666666666,
             "#ed7953"
            ],
            [
             0.7777777777777778,
             "#fb9f3a"
            ],
            [
             0.8888888888888888,
             "#fdca26"
            ],
            [
             1,
             "#f0f921"
            ]
           ]
          },
          "colorway": [
           "#636efa",
           "#EF553B",
           "#00cc96",
           "#ab63fa",
           "#FFA15A",
           "#19d3f3",
           "#FF6692",
           "#B6E880",
           "#FF97FF",
           "#FECB52"
          ],
          "font": {
           "color": "#2a3f5f"
          },
          "geo": {
           "bgcolor": "white",
           "lakecolor": "white",
           "landcolor": "#E5ECF6",
           "showlakes": true,
           "showland": true,
           "subunitcolor": "white"
          },
          "hoverlabel": {
           "align": "left"
          },
          "hovermode": "closest",
          "mapbox": {
           "style": "light"
          },
          "paper_bgcolor": "white",
          "plot_bgcolor": "#E5ECF6",
          "polar": {
           "angularaxis": {
            "gridcolor": "white",
            "linecolor": "white",
            "ticks": ""
           },
           "bgcolor": "#E5ECF6",
           "radialaxis": {
            "gridcolor": "white",
            "linecolor": "white",
            "ticks": ""
           }
          },
          "scene": {
           "xaxis": {
            "backgroundcolor": "#E5ECF6",
            "gridcolor": "white",
            "gridwidth": 2,
            "linecolor": "white",
            "showbackground": true,
            "ticks": "",
            "zerolinecolor": "white"
           },
           "yaxis": {
            "backgroundcolor": "#E5ECF6",
            "gridcolor": "white",
            "gridwidth": 2,
            "linecolor": "white",
            "showbackground": true,
            "ticks": "",
            "zerolinecolor": "white"
           },
           "zaxis": {
            "backgroundcolor": "#E5ECF6",
            "gridcolor": "white",
            "gridwidth": 2,
            "linecolor": "white",
            "showbackground": true,
            "ticks": "",
            "zerolinecolor": "white"
           }
          },
          "shapedefaults": {
           "line": {
            "color": "#2a3f5f"
           }
          },
          "ternary": {
           "aaxis": {
            "gridcolor": "white",
            "linecolor": "white",
            "ticks": ""
           },
           "baxis": {
            "gridcolor": "white",
            "linecolor": "white",
            "ticks": ""
           },
           "bgcolor": "#E5ECF6",
           "caxis": {
            "gridcolor": "white",
            "linecolor": "white",
            "ticks": ""
           }
          },
          "title": {
           "x": 0.05
          },
          "xaxis": {
           "automargin": true,
           "gridcolor": "white",
           "linecolor": "white",
           "ticks": "",
           "title": {
            "standoff": 15
           },
           "zerolinecolor": "white",
           "zerolinewidth": 2
          },
          "yaxis": {
           "automargin": true,
           "gridcolor": "white",
           "linecolor": "white",
           "ticks": "",
           "title": {
            "standoff": 15
           },
           "zerolinecolor": "white",
           "zerolinewidth": 2
          }
         }
        },
        "width": 350,
        "xaxis": {
         "autorange": "reversed",
         "linecolor": "Black",
         "showline": true,
         "title": {
          "text": "AutoDock4"
         },
         "zeroline": true
        },
        "yaxis": {
         "dtick": 0.1,
         "linecolor": "Black",
         "showline": true,
         "tickfont": {
          "size": 10
         },
         "title": {
          "text": "Peptide"
         },
         "zeroline": true
        }
       }
      },
      "text/html": [
       "<div>                            <div id=\"cbac1e35-5e45-4b98-923c-c485ea12b5aa\" class=\"plotly-graph-div\" style=\"height:450px; width:350px;\"></div>            <script type=\"text/javascript\">                require([\"plotly\"], function(Plotly) {                    window.PLOTLYENV=window.PLOTLYENV || {};                                    if (document.getElementById(\"cbac1e35-5e45-4b98-923c-c485ea12b5aa\")) {                    Plotly.newPlot(                        \"cbac1e35-5e45-4b98-923c-c485ea12b5aa\",                        [{\"boxpoints\":false,\"fillcolor\":\"#a6611a\",\"jitter\":0.5,\"line\":{\"color\":\"#59340e\",\"width\":1},\"marker\":{\"color\":\"rgb(0, 0, 0)\",\"size\":2},\"name\":\"DAKRNSKSL\",\"type\":\"box\",\"whiskerwidth\":0.2,\"x\":[0.4263254346828913]},{\"boxpoints\":false,\"fillcolor\":\"#a6611a\",\"jitter\":0.5,\"line\":{\"color\":\"#59340e\",\"width\":1},\"marker\":{\"color\":\"rgb(0, 0, 0)\",\"size\":2},\"name\":\"EIDVSEVKT\",\"type\":\"box\",\"whiskerwidth\":0.2,\"x\":[0.45675995476851117]},{\"boxpoints\":false,\"fillcolor\":\"#a6611a\",\"jitter\":0.5,\"line\":{\"color\":\"#59340e\",\"width\":1},\"marker\":{\"color\":\"rgb(0, 0, 0)\",\"size\":2},\"name\":\"ATKRYPGVM\",\"type\":\"box\",\"whiskerwidth\":0.2,\"x\":[0.4435580060336052]},{\"boxpoints\":false,\"fillcolor\":\"#a6611a\",\"jitter\":0.5,\"line\":{\"color\":\"#59340e\",\"width\":1},\"marker\":{\"color\":\"rgb(0, 0, 0)\",\"size\":2},\"name\":\"AAEQRRSTI\",\"type\":\"box\",\"whiskerwidth\":0.2,\"x\":[0.5295171187655359]},{\"boxpoints\":false,\"fillcolor\":\"#a6611a\",\"jitter\":0.5,\"line\":{\"color\":\"#59340e\",\"width\":1},\"marker\":{\"color\":\"rgb(0, 0, 0)\",\"size\":2},\"name\":\"ETLNEYKQL\",\"type\":\"box\",\"whiskerwidth\":0.2,\"x\":[0.6023797112050995]},{\"boxpoints\":false,\"fillcolor\":\"#dfc27d\",\"jitter\":0.5,\"line\":{\"color\":\"#756438\",\"width\":1},\"marker\":{\"color\":\"rgb(0, 0, 0)\",\"size\":2},\"name\":\"SLLMWITQC\",\"type\":\"box\",\"whiskerwidth\":0.2,\"x\":[0.7012828128245248,0.6706745808073451,0.6299483795790641,0.7806258561121469,0.6230594923059369,0.5734861534677742,0.512138970809757,0.5743597711617963,0.7269325887061009]},{\"boxpoints\":false,\"fillcolor\":\"#dfc27d\",\"jitter\":0.5,\"line\":{\"color\":\"#756438\",\"width\":1},\"marker\":{\"color\":\"rgb(0, 0, 0)\",\"size\":2},\"name\":\"EAAGIGILTV\",\"type\":\"box\",\"whiskerwidth\":0.2,\"x\":[0.46802499175698176,0.8975164409886824,0.8683448493226814]},{\"boxpoints\":false,\"fillcolor\":\"#dfc27d\",\"jitter\":0.5,\"line\":{\"color\":\"#756438\",\"width\":1},\"marker\":{\"color\":\"rgb(0, 0, 0)\",\"size\":2},\"name\":\"RGPGRAFVTI\",\"type\":\"box\",\"whiskerwidth\":0.2,\"x\":[0.7176087311821298,0.7233913310949418,0.41107687804094684,0.6324012110203231,0.5312534477629731,0.7636246899186703]},{\"boxpoints\":false,\"fillcolor\":\"#dfc27d\",\"jitter\":0.5,\"line\":{\"color\":\"#756438\",\"width\":1},\"marker\":{\"color\":\"rgb(0, 0, 0)\",\"size\":2},\"name\":\"RQISQDVKL\",\"type\":\"box\",\"whiskerwidth\":0.2,\"x\":[0.6324604848823203]},{\"boxpoints\":false,\"fillcolor\":\"#80cdc1\",\"jitter\":0.5,\"line\":{\"color\":\"#365b55\",\"width\":1},\"marker\":{\"color\":\"rgb(0, 0, 0)\",\"size\":2},\"name\":\"AAGIGILTV\",\"type\":\"box\",\"whiskerwidth\":0.2,\"x\":[0.5421617351340366,0.6034030151586187,0.5867420019011896,0.5476489141186548,0.46206109285827424,0.3354029658427654,0.33154684547667734,0.3171097875213822]},{\"boxpoints\":false,\"fillcolor\":\"#80cdc1\",\"jitter\":0.5,\"line\":{\"color\":\"#365b55\",\"width\":1},\"marker\":{\"color\":\"rgb(0, 0, 0)\",\"size\":2},\"name\":\"VLRDDLLEA\",\"type\":\"box\",\"whiskerwidth\":0.2,\"x\":[0.6823471058390921]},{\"boxpoints\":false,\"fillcolor\":\"#80cdc1\",\"jitter\":0.5,\"line\":{\"color\":\"#365b55\",\"width\":1},\"marker\":{\"color\":\"rgb(0, 0, 0)\",\"size\":2},\"name\":\"ILKEPVHGV\",\"type\":\"box\",\"whiskerwidth\":0.2,\"x\":[0.679770036383087,0.7052095876341133,0.6759033257536555,0.7945634329903462,0.5186179990851278,0.6808744269798186,0.5702687682385678]},{\"boxpoints\":false,\"fillcolor\":\"#80cdc1\",\"jitter\":0.5,\"line\":{\"color\":\"#365b55\",\"width\":1},\"marker\":{\"color\":\"rgb(0, 0, 0)\",\"size\":2},\"name\":\"CINGVCWTV\",\"type\":\"box\",\"whiskerwidth\":0.2,\"x\":[0.6507699437577987,0.8147745554223258]},{\"boxpoints\":false,\"fillcolor\":\"#018571\",\"jitter\":0.5,\"line\":{\"color\":\"#052f29\",\"width\":1},\"marker\":{\"color\":\"rgb(0, 0, 0)\",\"size\":2},\"name\":\"LLFGYPVYV\",\"type\":\"box\",\"whiskerwidth\":0.2,\"x\":[0.4742128668222225,0.7078947726144014,0.5597580109019651,0.6898731476127811,0.7102899108299827,0.8674649090833798,0.6770086647321789,0.7467869615206737,0.9164994090000804,0.9088533969297091,0.8055622908225413,0.8141388234944522,0.8095377492307836,0.7940566809861784,0.8522210943503951,0.9876351562601262,0.11068042283918333,0.10469186601388492,0.031192593264655732,0.09195984045689243,0.4202300268423663,0.0,0.7073448692386994,0.6449438763461887,0.6644898670147441]},{\"boxpoints\":false,\"fillcolor\":\"#018571\",\"jitter\":0.5,\"line\":{\"color\":\"#052f29\",\"width\":1},\"marker\":{\"color\":\"rgb(0, 0, 0)\",\"size\":2},\"name\":\"ALWGFFPVL\",\"type\":\"box\",\"whiskerwidth\":0.2,\"x\":[0.7816744502467851,0.7910152205793792,0.8710611728384722,0.8230458672208592,0.6873728970819243,0.7190526424603809,0.8733336536756278,0.8258277871439265,0.8976054308134934,0.8762500857495207]},{\"boxpoints\":false,\"fillcolor\":\"#018571\",\"jitter\":0.5,\"line\":{\"color\":\"#052f29\",\"width\":1},\"marker\":{\"color\":\"rgb(0, 0, 0)\",\"size\":2},\"name\":\"FLPSDFFPSV\",\"type\":\"box\",\"whiskerwidth\":0.2,\"x\":[1.0,0.9980249949182542,0.9219409075950526,0.9950949693720104,0.9866263941607505]}],                        {\"boxgap\":0.15,\"boxgroupgap\":0.15,\"font\":{\"family\":\"Times New Roman\"},\"height\":450,\"paper_bgcolor\":\"rgba(0, 0, 0, 0)\",\"plot_bgcolor\":\"rgba(0, 0, 0, 0)\",\"showlegend\":false,\"template\":{\"data\":{\"bar\":[{\"error_x\":{\"color\":\"#2a3f5f\"},\"error_y\":{\"color\":\"#2a3f5f\"},\"marker\":{\"line\":{\"color\":\"#E5ECF6\",\"width\":0.5},\"pattern\":{\"fillmode\":\"overlay\",\"size\":10,\"solidity\":0.2}},\"type\":\"bar\"}],\"barpolar\":[{\"marker\":{\"line\":{\"color\":\"#E5ECF6\",\"width\":0.5},\"pattern\":{\"fillmode\":\"overlay\",\"size\":10,\"solidity\":0.2}},\"type\":\"barpolar\"}],\"carpet\":[{\"aaxis\":{\"endlinecolor\":\"#2a3f5f\",\"gridcolor\":\"white\",\"linecolor\":\"white\",\"minorgridcolor\":\"white\",\"startlinecolor\":\"#2a3f5f\"},\"baxis\":{\"endlinecolor\":\"#2a3f5f\",\"gridcolor\":\"white\",\"linecolor\":\"white\",\"minorgridcolor\":\"white\",\"startlinecolor\":\"#2a3f5f\"},\"type\":\"carpet\"}],\"choropleth\":[{\"colorbar\":{\"outlinewidth\":0,\"ticks\":\"\"},\"type\":\"choropleth\"}],\"contour\":[{\"colorbar\":{\"outlinewidth\":0,\"ticks\":\"\"},\"colorscale\":[[0.0,\"#0d0887\"],[0.1111111111111111,\"#46039f\"],[0.2222222222222222,\"#7201a8\"],[0.3333333333333333,\"#9c179e\"],[0.4444444444444444,\"#bd3786\"],[0.5555555555555556,\"#d8576b\"],[0.6666666666666666,\"#ed7953\"],[0.7777777777777778,\"#fb9f3a\"],[0.8888888888888888,\"#fdca26\"],[1.0,\"#f0f921\"]],\"type\":\"contour\"}],\"contourcarpet\":[{\"colorbar\":{\"outlinewidth\":0,\"ticks\":\"\"},\"type\":\"contourcarpet\"}],\"heatmap\":[{\"colorbar\":{\"outlinewidth\":0,\"ticks\":\"\"},\"colorscale\":[[0.0,\"#0d0887\"],[0.1111111111111111,\"#46039f\"],[0.2222222222222222,\"#7201a8\"],[0.3333333333333333,\"#9c179e\"],[0.4444444444444444,\"#bd3786\"],[0.5555555555555556,\"#d8576b\"],[0.6666666666666666,\"#ed7953\"],[0.7777777777777778,\"#fb9f3a\"],[0.8888888888888888,\"#fdca26\"],[1.0,\"#f0f921\"]],\"type\":\"heatmap\"}],\"heatmapgl\":[{\"colorbar\":{\"outlinewidth\":0,\"ticks\":\"\"},\"colorscale\":[[0.0,\"#0d0887\"],[0.1111111111111111,\"#46039f\"],[0.2222222222222222,\"#7201a8\"],[0.3333333333333333,\"#9c179e\"],[0.4444444444444444,\"#bd3786\"],[0.5555555555555556,\"#d8576b\"],[0.6666666666666666,\"#ed7953\"],[0.7777777777777778,\"#fb9f3a\"],[0.8888888888888888,\"#fdca26\"],[1.0,\"#f0f921\"]],\"type\":\"heatmapgl\"}],\"histogram\":[{\"marker\":{\"pattern\":{\"fillmode\":\"overlay\",\"size\":10,\"solidity\":0.2}},\"type\":\"histogram\"}],\"histogram2d\":[{\"colorbar\":{\"outlinewidth\":0,\"ticks\":\"\"},\"colorscale\":[[0.0,\"#0d0887\"],[0.1111111111111111,\"#46039f\"],[0.2222222222222222,\"#7201a8\"],[0.3333333333333333,\"#9c179e\"],[0.4444444444444444,\"#bd3786\"],[0.5555555555555556,\"#d8576b\"],[0.6666666666666666,\"#ed7953\"],[0.7777777777777778,\"#fb9f3a\"],[0.8888888888888888,\"#fdca26\"],[1.0,\"#f0f921\"]],\"type\":\"histogram2d\"}],\"histogram2dcontour\":[{\"colorbar\":{\"outlinewidth\":0,\"ticks\":\"\"},\"colorscale\":[[0.0,\"#0d0887\"],[0.1111111111111111,\"#46039f\"],[0.2222222222222222,\"#7201a8\"],[0.3333333333333333,\"#9c179e\"],[0.4444444444444444,\"#bd3786\"],[0.5555555555555556,\"#d8576b\"],[0.6666666666666666,\"#ed7953\"],[0.7777777777777778,\"#fb9f3a\"],[0.8888888888888888,\"#fdca26\"],[1.0,\"#f0f921\"]],\"type\":\"histogram2dcontour\"}],\"mesh3d\":[{\"colorbar\":{\"outlinewidth\":0,\"ticks\":\"\"},\"type\":\"mesh3d\"}],\"parcoords\":[{\"line\":{\"colorbar\":{\"outlinewidth\":0,\"ticks\":\"\"}},\"type\":\"parcoords\"}],\"pie\":[{\"automargin\":true,\"type\":\"pie\"}],\"scatter\":[{\"marker\":{\"colorbar\":{\"outlinewidth\":0,\"ticks\":\"\"}},\"type\":\"scatter\"}],\"scatter3d\":[{\"line\":{\"colorbar\":{\"outlinewidth\":0,\"ticks\":\"\"}},\"marker\":{\"colorbar\":{\"outlinewidth\":0,\"ticks\":\"\"}},\"type\":\"scatter3d\"}],\"scattercarpet\":[{\"marker\":{\"colorbar\":{\"outlinewidth\":0,\"ticks\":\"\"}},\"type\":\"scattercarpet\"}],\"scattergeo\":[{\"marker\":{\"colorbar\":{\"outlinewidth\":0,\"ticks\":\"\"}},\"type\":\"scattergeo\"}],\"scattergl\":[{\"marker\":{\"colorbar\":{\"outlinewidth\":0,\"ticks\":\"\"}},\"type\":\"scattergl\"}],\"scattermapbox\":[{\"marker\":{\"colorbar\":{\"outlinewidth\":0,\"ticks\":\"\"}},\"type\":\"scattermapbox\"}],\"scatterpolar\":[{\"marker\":{\"colorbar\":{\"outlinewidth\":0,\"ticks\":\"\"}},\"type\":\"scatterpolar\"}],\"scatterpolargl\":[{\"marker\":{\"colorbar\":{\"outlinewidth\":0,\"ticks\":\"\"}},\"type\":\"scatterpolargl\"}],\"scatterternary\":[{\"marker\":{\"colorbar\":{\"outlinewidth\":0,\"ticks\":\"\"}},\"type\":\"scatterternary\"}],\"surface\":[{\"colorbar\":{\"outlinewidth\":0,\"ticks\":\"\"},\"colorscale\":[[0.0,\"#0d0887\"],[0.1111111111111111,\"#46039f\"],[0.2222222222222222,\"#7201a8\"],[0.3333333333333333,\"#9c179e\"],[0.4444444444444444,\"#bd3786\"],[0.5555555555555556,\"#d8576b\"],[0.6666666666666666,\"#ed7953\"],[0.7777777777777778,\"#fb9f3a\"],[0.8888888888888888,\"#fdca26\"],[1.0,\"#f0f921\"]],\"type\":\"surface\"}],\"table\":[{\"cells\":{\"fill\":{\"color\":\"#EBF0F8\"},\"line\":{\"color\":\"white\"}},\"header\":{\"fill\":{\"color\":\"#C8D4E3\"},\"line\":{\"color\":\"white\"}},\"type\":\"table\"}]},\"layout\":{\"annotationdefaults\":{\"arrowcolor\":\"#2a3f5f\",\"arrowhead\":0,\"arrowwidth\":1},\"autotypenumbers\":\"strict\",\"coloraxis\":{\"colorbar\":{\"outlinewidth\":0,\"ticks\":\"\"}},\"colorscale\":{\"diverging\":[[0,\"#8e0152\"],[0.1,\"#c51b7d\"],[0.2,\"#de77ae\"],[0.3,\"#f1b6da\"],[0.4,\"#fde0ef\"],[0.5,\"#f7f7f7\"],[0.6,\"#e6f5d0\"],[0.7,\"#b8e186\"],[0.8,\"#7fbc41\"],[0.9,\"#4d9221\"],[1,\"#276419\"]],\"sequential\":[[0.0,\"#0d0887\"],[0.1111111111111111,\"#46039f\"],[0.2222222222222222,\"#7201a8\"],[0.3333333333333333,\"#9c179e\"],[0.4444444444444444,\"#bd3786\"],[0.5555555555555556,\"#d8576b\"],[0.6666666666666666,\"#ed7953\"],[0.7777777777777778,\"#fb9f3a\"],[0.8888888888888888,\"#fdca26\"],[1.0,\"#f0f921\"]],\"sequentialminus\":[[0.0,\"#0d0887\"],[0.1111111111111111,\"#46039f\"],[0.2222222222222222,\"#7201a8\"],[0.3333333333333333,\"#9c179e\"],[0.4444444444444444,\"#bd3786\"],[0.5555555555555556,\"#d8576b\"],[0.6666666666666666,\"#ed7953\"],[0.7777777777777778,\"#fb9f3a\"],[0.8888888888888888,\"#fdca26\"],[1.0,\"#f0f921\"]]},\"colorway\":[\"#636efa\",\"#EF553B\",\"#00cc96\",\"#ab63fa\",\"#FFA15A\",\"#19d3f3\",\"#FF6692\",\"#B6E880\",\"#FF97FF\",\"#FECB52\"],\"font\":{\"color\":\"#2a3f5f\"},\"geo\":{\"bgcolor\":\"white\",\"lakecolor\":\"white\",\"landcolor\":\"#E5ECF6\",\"showlakes\":true,\"showland\":true,\"subunitcolor\":\"white\"},\"hoverlabel\":{\"align\":\"left\"},\"hovermode\":\"closest\",\"mapbox\":{\"style\":\"light\"},\"paper_bgcolor\":\"white\",\"plot_bgcolor\":\"#E5ECF6\",\"polar\":{\"angularaxis\":{\"gridcolor\":\"white\",\"linecolor\":\"white\",\"ticks\":\"\"},\"bgcolor\":\"#E5ECF6\",\"radialaxis\":{\"gridcolor\":\"white\",\"linecolor\":\"white\",\"ticks\":\"\"}},\"scene\":{\"xaxis\":{\"backgroundcolor\":\"#E5ECF6\",\"gridcolor\":\"white\",\"gridwidth\":2,\"linecolor\":\"white\",\"showbackground\":true,\"ticks\":\"\",\"zerolinecolor\":\"white\"},\"yaxis\":{\"backgroundcolor\":\"#E5ECF6\",\"gridcolor\":\"white\",\"gridwidth\":2,\"linecolor\":\"white\",\"showbackground\":true,\"ticks\":\"\",\"zerolinecolor\":\"white\"},\"zaxis\":{\"backgroundcolor\":\"#E5ECF6\",\"gridcolor\":\"white\",\"gridwidth\":2,\"linecolor\":\"white\",\"showbackground\":true,\"ticks\":\"\",\"zerolinecolor\":\"white\"}},\"shapedefaults\":{\"line\":{\"color\":\"#2a3f5f\"}},\"ternary\":{\"aaxis\":{\"gridcolor\":\"white\",\"linecolor\":\"white\",\"ticks\":\"\"},\"baxis\":{\"gridcolor\":\"white\",\"linecolor\":\"white\",\"ticks\":\"\"},\"bgcolor\":\"#E5ECF6\",\"caxis\":{\"gridcolor\":\"white\",\"linecolor\":\"white\",\"ticks\":\"\"}},\"title\":{\"x\":0.05},\"xaxis\":{\"automargin\":true,\"gridcolor\":\"white\",\"linecolor\":\"white\",\"ticks\":\"\",\"title\":{\"standoff\":15},\"zerolinecolor\":\"white\",\"zerolinewidth\":2},\"yaxis\":{\"automargin\":true,\"gridcolor\":\"white\",\"linecolor\":\"white\",\"ticks\":\"\",\"title\":{\"standoff\":15},\"zerolinecolor\":\"white\",\"zerolinewidth\":2}}},\"width\":350,\"xaxis\":{\"autorange\":\"reversed\",\"linecolor\":\"Black\",\"showline\":true,\"title\":{\"text\":\"AutoDock4\"},\"zeroline\":true},\"yaxis\":{\"dtick\":0.1,\"linecolor\":\"Black\",\"showline\":true,\"tickfont\":{\"size\":10},\"title\":{\"text\":\"Peptide\"},\"zeroline\":true}},                        {\"responsive\": true}                    ).then(function(){\n",
       "                            \n",
       "var gd = document.getElementById('cbac1e35-5e45-4b98-923c-c485ea12b5aa');\n",
       "var x = new MutationObserver(function (mutations, observer) {{\n",
       "        var display = window.getComputedStyle(gd).display;\n",
       "        if (!display || display === 'none') {{\n",
       "            console.log([gd, 'removed!']);\n",
       "            Plotly.purge(gd);\n",
       "            observer.disconnect();\n",
       "        }}\n",
       "}});\n",
       "\n",
       "// Listen for the removal of the full notebook cells\n",
       "var notebookContainer = gd.closest('#notebook-container');\n",
       "if (notebookContainer) {{\n",
       "    x.observe(notebookContainer, {childList: true});\n",
       "}}\n",
       "\n",
       "// Listen for the clearing of the current output cell\n",
       "var outputEl = gd.closest('.output');\n",
       "if (outputEl) {{\n",
       "    x.observe(outputEl, {childList: true});\n",
       "}}\n",
       "\n",
       "                        })                };                });            </script>        </div>"
      ]
     },
     "metadata": {},
     "output_type": "display_data"
    },
    {
     "data": {
      "application/vnd.plotly.v1+json": {
       "config": {
        "linkText": "Export to plot.ly",
        "plotlyServerURL": "https://plot.ly",
        "showLink": false
       },
       "data": [
        {
         "boxpoints": false,
         "fillcolor": "#a6611a",
         "jitter": 0.5,
         "line": {
          "color": "#59340e",
          "width": 1
         },
         "marker": {
          "color": "rgb(0, 0, 0)",
          "size": 2
         },
         "name": "DAKRNSKSL",
         "type": "box",
         "whiskerwidth": 0.2,
         "x": [
          0.36787504167214646
         ]
        },
        {
         "boxpoints": false,
         "fillcolor": "#a6611a",
         "jitter": 0.5,
         "line": {
          "color": "#59340e",
          "width": 1
         },
         "marker": {
          "color": "rgb(0, 0, 0)",
          "size": 2
         },
         "name": "EIDVSEVKT",
         "type": "box",
         "whiskerwidth": 0.2,
         "x": [
          0.7023186535232462
         ]
        },
        {
         "boxpoints": false,
         "fillcolor": "#a6611a",
         "jitter": 0.5,
         "line": {
          "color": "#59340e",
          "width": 1
         },
         "marker": {
          "color": "rgb(0, 0, 0)",
          "size": 2
         },
         "name": "ATKRYPGVM",
         "type": "box",
         "whiskerwidth": 0.2,
         "x": [
          0.4628100942937451
         ]
        },
        {
         "boxpoints": false,
         "fillcolor": "#a6611a",
         "jitter": 0.5,
         "line": {
          "color": "#59340e",
          "width": 1
         },
         "marker": {
          "color": "rgb(0, 0, 0)",
          "size": 2
         },
         "name": "AAEQRRSTI",
         "type": "box",
         "whiskerwidth": 0.2,
         "x": [
          0.4423694858956988
         ]
        },
        {
         "boxpoints": false,
         "fillcolor": "#a6611a",
         "jitter": 0.5,
         "line": {
          "color": "#59340e",
          "width": 1
         },
         "marker": {
          "color": "rgb(0, 0, 0)",
          "size": 2
         },
         "name": "ETLNEYKQL",
         "type": "box",
         "whiskerwidth": 0.2,
         "x": [
          0.6443312117495573
         ]
        },
        {
         "boxpoints": false,
         "fillcolor": "#dfc27d",
         "jitter": 0.5,
         "line": {
          "color": "#756438",
          "width": 1
         },
         "marker": {
          "color": "rgb(0, 0, 0)",
          "size": 2
         },
         "name": "SLLMWITQC",
         "type": "box",
         "whiskerwidth": 0.2,
         "x": [
          0.7153540067960007,
          0.6545937233336494,
          0.7321941417372927,
          0.8061488207929484,
          0.6489700480491318,
          0.75148108161012,
          0.7295760604605499,
          0.736005040418159,
          0.6563912074064785
         ]
        },
        {
         "boxpoints": false,
         "fillcolor": "#dfc27d",
         "jitter": 0.5,
         "line": {
          "color": "#756438",
          "width": 1
         },
         "marker": {
          "color": "rgb(0, 0, 0)",
          "size": 2
         },
         "name": "EAAGIGILTV",
         "type": "box",
         "whiskerwidth": 0.2,
         "x": [
          0.6096003449994953,
          0.7290347048694477,
          0.8082897751080418
         ]
        },
        {
         "boxpoints": false,
         "fillcolor": "#dfc27d",
         "jitter": 0.5,
         "line": {
          "color": "#756438",
          "width": 1
         },
         "marker": {
          "color": "rgb(0, 0, 0)",
          "size": 2
         },
         "name": "RGPGRAFVTI",
         "type": "box",
         "whiskerwidth": 0.2,
         "x": [
          0.6537572218976808,
          0.7552613952293421,
          0.4965469465403708,
          0.6922378172053205,
          0.0782735956104319,
          0.7782552445734454
         ]
        },
        {
         "boxpoints": false,
         "fillcolor": "#dfc27d",
         "jitter": 0.5,
         "line": {
          "color": "#756438",
          "width": 1
         },
         "marker": {
          "color": "rgb(0, 0, 0)",
          "size": 2
         },
         "name": "RQISQDVKL",
         "type": "box",
         "whiskerwidth": 0.2,
         "x": [
          0.6596127319494612
         ]
        },
        {
         "boxpoints": false,
         "fillcolor": "#80cdc1",
         "jitter": 0.5,
         "line": {
          "color": "#365b55",
          "width": 1
         },
         "marker": {
          "color": "rgb(0, 0, 0)",
          "size": 2
         },
         "name": "AAGIGILTV",
         "type": "box",
         "whiskerwidth": 0.2,
         "x": [
          0.6909012500114694,
          0.7588459644540414,
          0.6767250739393865,
          0.7171768764699945,
          0.6967735818471542,
          0.6555131102866738,
          0.6455656248375169,
          0.7376076976483146
         ]
        },
        {
         "boxpoints": false,
         "fillcolor": "#80cdc1",
         "jitter": 0.5,
         "line": {
          "color": "#365b55",
          "width": 1
         },
         "marker": {
          "color": "rgb(0, 0, 0)",
          "size": 2
         },
         "name": "VLRDDLLEA",
         "type": "box",
         "whiskerwidth": 0.2,
         "x": [
          0.6203583345822233
         ]
        },
        {
         "boxpoints": false,
         "fillcolor": "#80cdc1",
         "jitter": 0.5,
         "line": {
          "color": "#365b55",
          "width": 1
         },
         "marker": {
          "color": "rgb(0, 0, 0)",
          "size": 2
         },
         "name": "ILKEPVHGV",
         "type": "box",
         "whiskerwidth": 0.2,
         "x": [
          0.43770128793694585,
          0.6442122358597614,
          0.6155408815226466,
          0.7893851485057668,
          0,
          0.6263985784063348,
          0.5724049339821444
         ]
        },
        {
         "boxpoints": false,
         "fillcolor": "#80cdc1",
         "jitter": 0.5,
         "line": {
          "color": "#365b55",
          "width": 1
         },
         "marker": {
          "color": "rgb(0, 0, 0)",
          "size": 2
         },
         "name": "CINGVCWTV",
         "type": "box",
         "whiskerwidth": 0.2,
         "x": [
          0.5729854384521513,
          0.7474958480778817
         ]
        },
        {
         "boxpoints": false,
         "fillcolor": "#018571",
         "jitter": 0.5,
         "line": {
          "color": "#052f29",
          "width": 1
         },
         "marker": {
          "color": "rgb(0, 0, 0)",
          "size": 2
         },
         "name": "LLFGYPVYV",
         "type": "box",
         "whiskerwidth": 0.2,
         "x": [
          0.7963218404866695,
          0.7315702064797511,
          0.8776964554972061,
          0.9704823570071905,
          0.8227075731671136,
          0.8135412301923495,
          0.9279874723587505,
          0.855222552201054,
          0.8787241135684509,
          0.9286114076162921,
          0.8306413381576171,
          0.8261728606514006,
          0.8160002691485425,
          0.8256926751835868,
          0.7819927391063657,
          0.9357163174362377,
          0.28055768801402015,
          0.3336854693430634,
          0.3627054322127987,
          0.42732897598155106,
          0.43956728254785804,
          0.4924549711429943,
          0.9182553057435687,
          0.7796927424707224,
          0.7213425618659335
         ]
        },
        {
         "boxpoints": false,
         "fillcolor": "#018571",
         "jitter": 0.5,
         "line": {
          "color": "#052f29",
          "width": 1
         },
         "marker": {
          "color": "rgb(0, 0, 0)",
          "size": 2
         },
         "name": "ALWGFFPVL",
         "type": "box",
         "whiskerwidth": 0.2,
         "x": [
          0.8601742736812487,
          0.8696678768156056,
          0.9129579730667947,
          0.9271341491388776,
          0.994534449484183,
          1,
          0.9716323553250121,
          0.8990845891049892,
          0.7525699098046532,
          0.8750019115663528
         ]
        },
        {
         "boxpoints": false,
         "fillcolor": "#018571",
         "jitter": 0.5,
         "line": {
          "color": "#052f29",
          "width": 1
         },
         "marker": {
          "color": "rgb(0, 0, 0)",
          "size": 2
         },
         "name": "FLPSDFFPSV",
         "type": "box",
         "whiskerwidth": 0.2,
         "x": [
          0.8447410515755894,
          0.9624935389057276,
          0.7623234859629859,
          0.7630055328376514,
          0.8251880216664577
         ]
        }
       ],
       "layout": {
        "boxgap": 0.15,
        "boxgroupgap": 0.15,
        "font": {
         "family": "Times New Roman"
        },
        "height": 450,
        "paper_bgcolor": "rgba(0, 0, 0, 0)",
        "plot_bgcolor": "rgba(0, 0, 0, 0)",
        "showlegend": false,
        "template": {
         "data": {
          "bar": [
           {
            "error_x": {
             "color": "#2a3f5f"
            },
            "error_y": {
             "color": "#2a3f5f"
            },
            "marker": {
             "line": {
              "color": "#E5ECF6",
              "width": 0.5
             },
             "pattern": {
              "fillmode": "overlay",
              "size": 10,
              "solidity": 0.2
             }
            },
            "type": "bar"
           }
          ],
          "barpolar": [
           {
            "marker": {
             "line": {
              "color": "#E5ECF6",
              "width": 0.5
             },
             "pattern": {
              "fillmode": "overlay",
              "size": 10,
              "solidity": 0.2
             }
            },
            "type": "barpolar"
           }
          ],
          "carpet": [
           {
            "aaxis": {
             "endlinecolor": "#2a3f5f",
             "gridcolor": "white",
             "linecolor": "white",
             "minorgridcolor": "white",
             "startlinecolor": "#2a3f5f"
            },
            "baxis": {
             "endlinecolor": "#2a3f5f",
             "gridcolor": "white",
             "linecolor": "white",
             "minorgridcolor": "white",
             "startlinecolor": "#2a3f5f"
            },
            "type": "carpet"
           }
          ],
          "choropleth": [
           {
            "colorbar": {
             "outlinewidth": 0,
             "ticks": ""
            },
            "type": "choropleth"
           }
          ],
          "contour": [
           {
            "colorbar": {
             "outlinewidth": 0,
             "ticks": ""
            },
            "colorscale": [
             [
              0,
              "#0d0887"
             ],
             [
              0.1111111111111111,
              "#46039f"
             ],
             [
              0.2222222222222222,
              "#7201a8"
             ],
             [
              0.3333333333333333,
              "#9c179e"
             ],
             [
              0.4444444444444444,
              "#bd3786"
             ],
             [
              0.5555555555555556,
              "#d8576b"
             ],
             [
              0.6666666666666666,
              "#ed7953"
             ],
             [
              0.7777777777777778,
              "#fb9f3a"
             ],
             [
              0.8888888888888888,
              "#fdca26"
             ],
             [
              1,
              "#f0f921"
             ]
            ],
            "type": "contour"
           }
          ],
          "contourcarpet": [
           {
            "colorbar": {
             "outlinewidth": 0,
             "ticks": ""
            },
            "type": "contourcarpet"
           }
          ],
          "heatmap": [
           {
            "colorbar": {
             "outlinewidth": 0,
             "ticks": ""
            },
            "colorscale": [
             [
              0,
              "#0d0887"
             ],
             [
              0.1111111111111111,
              "#46039f"
             ],
             [
              0.2222222222222222,
              "#7201a8"
             ],
             [
              0.3333333333333333,
              "#9c179e"
             ],
             [
              0.4444444444444444,
              "#bd3786"
             ],
             [
              0.5555555555555556,
              "#d8576b"
             ],
             [
              0.6666666666666666,
              "#ed7953"
             ],
             [
              0.7777777777777778,
              "#fb9f3a"
             ],
             [
              0.8888888888888888,
              "#fdca26"
             ],
             [
              1,
              "#f0f921"
             ]
            ],
            "type": "heatmap"
           }
          ],
          "heatmapgl": [
           {
            "colorbar": {
             "outlinewidth": 0,
             "ticks": ""
            },
            "colorscale": [
             [
              0,
              "#0d0887"
             ],
             [
              0.1111111111111111,
              "#46039f"
             ],
             [
              0.2222222222222222,
              "#7201a8"
             ],
             [
              0.3333333333333333,
              "#9c179e"
             ],
             [
              0.4444444444444444,
              "#bd3786"
             ],
             [
              0.5555555555555556,
              "#d8576b"
             ],
             [
              0.6666666666666666,
              "#ed7953"
             ],
             [
              0.7777777777777778,
              "#fb9f3a"
             ],
             [
              0.8888888888888888,
              "#fdca26"
             ],
             [
              1,
              "#f0f921"
             ]
            ],
            "type": "heatmapgl"
           }
          ],
          "histogram": [
           {
            "marker": {
             "pattern": {
              "fillmode": "overlay",
              "size": 10,
              "solidity": 0.2
             }
            },
            "type": "histogram"
           }
          ],
          "histogram2d": [
           {
            "colorbar": {
             "outlinewidth": 0,
             "ticks": ""
            },
            "colorscale": [
             [
              0,
              "#0d0887"
             ],
             [
              0.1111111111111111,
              "#46039f"
             ],
             [
              0.2222222222222222,
              "#7201a8"
             ],
             [
              0.3333333333333333,
              "#9c179e"
             ],
             [
              0.4444444444444444,
              "#bd3786"
             ],
             [
              0.5555555555555556,
              "#d8576b"
             ],
             [
              0.6666666666666666,
              "#ed7953"
             ],
             [
              0.7777777777777778,
              "#fb9f3a"
             ],
             [
              0.8888888888888888,
              "#fdca26"
             ],
             [
              1,
              "#f0f921"
             ]
            ],
            "type": "histogram2d"
           }
          ],
          "histogram2dcontour": [
           {
            "colorbar": {
             "outlinewidth": 0,
             "ticks": ""
            },
            "colorscale": [
             [
              0,
              "#0d0887"
             ],
             [
              0.1111111111111111,
              "#46039f"
             ],
             [
              0.2222222222222222,
              "#7201a8"
             ],
             [
              0.3333333333333333,
              "#9c179e"
             ],
             [
              0.4444444444444444,
              "#bd3786"
             ],
             [
              0.5555555555555556,
              "#d8576b"
             ],
             [
              0.6666666666666666,
              "#ed7953"
             ],
             [
              0.7777777777777778,
              "#fb9f3a"
             ],
             [
              0.8888888888888888,
              "#fdca26"
             ],
             [
              1,
              "#f0f921"
             ]
            ],
            "type": "histogram2dcontour"
           }
          ],
          "mesh3d": [
           {
            "colorbar": {
             "outlinewidth": 0,
             "ticks": ""
            },
            "type": "mesh3d"
           }
          ],
          "parcoords": [
           {
            "line": {
             "colorbar": {
              "outlinewidth": 0,
              "ticks": ""
             }
            },
            "type": "parcoords"
           }
          ],
          "pie": [
           {
            "automargin": true,
            "type": "pie"
           }
          ],
          "scatter": [
           {
            "marker": {
             "colorbar": {
              "outlinewidth": 0,
              "ticks": ""
             }
            },
            "type": "scatter"
           }
          ],
          "scatter3d": [
           {
            "line": {
             "colorbar": {
              "outlinewidth": 0,
              "ticks": ""
             }
            },
            "marker": {
             "colorbar": {
              "outlinewidth": 0,
              "ticks": ""
             }
            },
            "type": "scatter3d"
           }
          ],
          "scattercarpet": [
           {
            "marker": {
             "colorbar": {
              "outlinewidth": 0,
              "ticks": ""
             }
            },
            "type": "scattercarpet"
           }
          ],
          "scattergeo": [
           {
            "marker": {
             "colorbar": {
              "outlinewidth": 0,
              "ticks": ""
             }
            },
            "type": "scattergeo"
           }
          ],
          "scattergl": [
           {
            "marker": {
             "colorbar": {
              "outlinewidth": 0,
              "ticks": ""
             }
            },
            "type": "scattergl"
           }
          ],
          "scattermapbox": [
           {
            "marker": {
             "colorbar": {
              "outlinewidth": 0,
              "ticks": ""
             }
            },
            "type": "scattermapbox"
           }
          ],
          "scatterpolar": [
           {
            "marker": {
             "colorbar": {
              "outlinewidth": 0,
              "ticks": ""
             }
            },
            "type": "scatterpolar"
           }
          ],
          "scatterpolargl": [
           {
            "marker": {
             "colorbar": {
              "outlinewidth": 0,
              "ticks": ""
             }
            },
            "type": "scatterpolargl"
           }
          ],
          "scatterternary": [
           {
            "marker": {
             "colorbar": {
              "outlinewidth": 0,
              "ticks": ""
             }
            },
            "type": "scatterternary"
           }
          ],
          "surface": [
           {
            "colorbar": {
             "outlinewidth": 0,
             "ticks": ""
            },
            "colorscale": [
             [
              0,
              "#0d0887"
             ],
             [
              0.1111111111111111,
              "#46039f"
             ],
             [
              0.2222222222222222,
              "#7201a8"
             ],
             [
              0.3333333333333333,
              "#9c179e"
             ],
             [
              0.4444444444444444,
              "#bd3786"
             ],
             [
              0.5555555555555556,
              "#d8576b"
             ],
             [
              0.6666666666666666,
              "#ed7953"
             ],
             [
              0.7777777777777778,
              "#fb9f3a"
             ],
             [
              0.8888888888888888,
              "#fdca26"
             ],
             [
              1,
              "#f0f921"
             ]
            ],
            "type": "surface"
           }
          ],
          "table": [
           {
            "cells": {
             "fill": {
              "color": "#EBF0F8"
             },
             "line": {
              "color": "white"
             }
            },
            "header": {
             "fill": {
              "color": "#C8D4E3"
             },
             "line": {
              "color": "white"
             }
            },
            "type": "table"
           }
          ]
         },
         "layout": {
          "annotationdefaults": {
           "arrowcolor": "#2a3f5f",
           "arrowhead": 0,
           "arrowwidth": 1
          },
          "autotypenumbers": "strict",
          "coloraxis": {
           "colorbar": {
            "outlinewidth": 0,
            "ticks": ""
           }
          },
          "colorscale": {
           "diverging": [
            [
             0,
             "#8e0152"
            ],
            [
             0.1,
             "#c51b7d"
            ],
            [
             0.2,
             "#de77ae"
            ],
            [
             0.3,
             "#f1b6da"
            ],
            [
             0.4,
             "#fde0ef"
            ],
            [
             0.5,
             "#f7f7f7"
            ],
            [
             0.6,
             "#e6f5d0"
            ],
            [
             0.7,
             "#b8e186"
            ],
            [
             0.8,
             "#7fbc41"
            ],
            [
             0.9,
             "#4d9221"
            ],
            [
             1,
             "#276419"
            ]
           ],
           "sequential": [
            [
             0,
             "#0d0887"
            ],
            [
             0.1111111111111111,
             "#46039f"
            ],
            [
             0.2222222222222222,
             "#7201a8"
            ],
            [
             0.3333333333333333,
             "#9c179e"
            ],
            [
             0.4444444444444444,
             "#bd3786"
            ],
            [
             0.5555555555555556,
             "#d8576b"
            ],
            [
             0.6666666666666666,
             "#ed7953"
            ],
            [
             0.7777777777777778,
             "#fb9f3a"
            ],
            [
             0.8888888888888888,
             "#fdca26"
            ],
            [
             1,
             "#f0f921"
            ]
           ],
           "sequentialminus": [
            [
             0,
             "#0d0887"
            ],
            [
             0.1111111111111111,
             "#46039f"
            ],
            [
             0.2222222222222222,
             "#7201a8"
            ],
            [
             0.3333333333333333,
             "#9c179e"
            ],
            [
             0.4444444444444444,
             "#bd3786"
            ],
            [
             0.5555555555555556,
             "#d8576b"
            ],
            [
             0.6666666666666666,
             "#ed7953"
            ],
            [
             0.7777777777777778,
             "#fb9f3a"
            ],
            [
             0.8888888888888888,
             "#fdca26"
            ],
            [
             1,
             "#f0f921"
            ]
           ]
          },
          "colorway": [
           "#636efa",
           "#EF553B",
           "#00cc96",
           "#ab63fa",
           "#FFA15A",
           "#19d3f3",
           "#FF6692",
           "#B6E880",
           "#FF97FF",
           "#FECB52"
          ],
          "font": {
           "color": "#2a3f5f"
          },
          "geo": {
           "bgcolor": "white",
           "lakecolor": "white",
           "landcolor": "#E5ECF6",
           "showlakes": true,
           "showland": true,
           "subunitcolor": "white"
          },
          "hoverlabel": {
           "align": "left"
          },
          "hovermode": "closest",
          "mapbox": {
           "style": "light"
          },
          "paper_bgcolor": "white",
          "plot_bgcolor": "#E5ECF6",
          "polar": {
           "angularaxis": {
            "gridcolor": "white",
            "linecolor": "white",
            "ticks": ""
           },
           "bgcolor": "#E5ECF6",
           "radialaxis": {
            "gridcolor": "white",
            "linecolor": "white",
            "ticks": ""
           }
          },
          "scene": {
           "xaxis": {
            "backgroundcolor": "#E5ECF6",
            "gridcolor": "white",
            "gridwidth": 2,
            "linecolor": "white",
            "showbackground": true,
            "ticks": "",
            "zerolinecolor": "white"
           },
           "yaxis": {
            "backgroundcolor": "#E5ECF6",
            "gridcolor": "white",
            "gridwidth": 2,
            "linecolor": "white",
            "showbackground": true,
            "ticks": "",
            "zerolinecolor": "white"
           },
           "zaxis": {
            "backgroundcolor": "#E5ECF6",
            "gridcolor": "white",
            "gridwidth": 2,
            "linecolor": "white",
            "showbackground": true,
            "ticks": "",
            "zerolinecolor": "white"
           }
          },
          "shapedefaults": {
           "line": {
            "color": "#2a3f5f"
           }
          },
          "ternary": {
           "aaxis": {
            "gridcolor": "white",
            "linecolor": "white",
            "ticks": ""
           },
           "baxis": {
            "gridcolor": "white",
            "linecolor": "white",
            "ticks": ""
           },
           "bgcolor": "#E5ECF6",
           "caxis": {
            "gridcolor": "white",
            "linecolor": "white",
            "ticks": ""
           }
          },
          "title": {
           "x": 0.05
          },
          "xaxis": {
           "automargin": true,
           "gridcolor": "white",
           "linecolor": "white",
           "ticks": "",
           "title": {
            "standoff": 15
           },
           "zerolinecolor": "white",
           "zerolinewidth": 2
          },
          "yaxis": {
           "automargin": true,
           "gridcolor": "white",
           "linecolor": "white",
           "ticks": "",
           "title": {
            "standoff": 15
           },
           "zerolinecolor": "white",
           "zerolinewidth": 2
          }
         }
        },
        "width": 350,
        "xaxis": {
         "autorange": "reversed",
         "linecolor": "Black",
         "showline": true,
         "title": {
          "text": "FoldX"
         },
         "zeroline": true
        },
        "yaxis": {
         "dtick": 0.1,
         "linecolor": "Black",
         "showline": true,
         "tickfont": {
          "size": 10
         },
         "title": {
          "text": "Peptide"
         },
         "zeroline": true
        }
       }
      },
      "text/html": [
       "<div>                            <div id=\"84b8dbec-f035-485d-b436-4e8ffa7cde2a\" class=\"plotly-graph-div\" style=\"height:450px; width:350px;\"></div>            <script type=\"text/javascript\">                require([\"plotly\"], function(Plotly) {                    window.PLOTLYENV=window.PLOTLYENV || {};                                    if (document.getElementById(\"84b8dbec-f035-485d-b436-4e8ffa7cde2a\")) {                    Plotly.newPlot(                        \"84b8dbec-f035-485d-b436-4e8ffa7cde2a\",                        [{\"boxpoints\":false,\"fillcolor\":\"#a6611a\",\"jitter\":0.5,\"line\":{\"color\":\"#59340e\",\"width\":1},\"marker\":{\"color\":\"rgb(0, 0, 0)\",\"size\":2},\"name\":\"DAKRNSKSL\",\"type\":\"box\",\"whiskerwidth\":0.2,\"x\":[0.36787504167214646]},{\"boxpoints\":false,\"fillcolor\":\"#a6611a\",\"jitter\":0.5,\"line\":{\"color\":\"#59340e\",\"width\":1},\"marker\":{\"color\":\"rgb(0, 0, 0)\",\"size\":2},\"name\":\"EIDVSEVKT\",\"type\":\"box\",\"whiskerwidth\":0.2,\"x\":[0.7023186535232462]},{\"boxpoints\":false,\"fillcolor\":\"#a6611a\",\"jitter\":0.5,\"line\":{\"color\":\"#59340e\",\"width\":1},\"marker\":{\"color\":\"rgb(0, 0, 0)\",\"size\":2},\"name\":\"ATKRYPGVM\",\"type\":\"box\",\"whiskerwidth\":0.2,\"x\":[0.4628100942937451]},{\"boxpoints\":false,\"fillcolor\":\"#a6611a\",\"jitter\":0.5,\"line\":{\"color\":\"#59340e\",\"width\":1},\"marker\":{\"color\":\"rgb(0, 0, 0)\",\"size\":2},\"name\":\"AAEQRRSTI\",\"type\":\"box\",\"whiskerwidth\":0.2,\"x\":[0.4423694858956988]},{\"boxpoints\":false,\"fillcolor\":\"#a6611a\",\"jitter\":0.5,\"line\":{\"color\":\"#59340e\",\"width\":1},\"marker\":{\"color\":\"rgb(0, 0, 0)\",\"size\":2},\"name\":\"ETLNEYKQL\",\"type\":\"box\",\"whiskerwidth\":0.2,\"x\":[0.6443312117495573]},{\"boxpoints\":false,\"fillcolor\":\"#dfc27d\",\"jitter\":0.5,\"line\":{\"color\":\"#756438\",\"width\":1},\"marker\":{\"color\":\"rgb(0, 0, 0)\",\"size\":2},\"name\":\"SLLMWITQC\",\"type\":\"box\",\"whiskerwidth\":0.2,\"x\":[0.7153540067960007,0.6545937233336494,0.7321941417372927,0.8061488207929484,0.6489700480491318,0.75148108161012,0.7295760604605499,0.736005040418159,0.6563912074064785]},{\"boxpoints\":false,\"fillcolor\":\"#dfc27d\",\"jitter\":0.5,\"line\":{\"color\":\"#756438\",\"width\":1},\"marker\":{\"color\":\"rgb(0, 0, 0)\",\"size\":2},\"name\":\"EAAGIGILTV\",\"type\":\"box\",\"whiskerwidth\":0.2,\"x\":[0.6096003449994953,0.7290347048694477,0.8082897751080418]},{\"boxpoints\":false,\"fillcolor\":\"#dfc27d\",\"jitter\":0.5,\"line\":{\"color\":\"#756438\",\"width\":1},\"marker\":{\"color\":\"rgb(0, 0, 0)\",\"size\":2},\"name\":\"RGPGRAFVTI\",\"type\":\"box\",\"whiskerwidth\":0.2,\"x\":[0.6537572218976808,0.7552613952293421,0.4965469465403708,0.6922378172053205,0.0782735956104319,0.7782552445734454]},{\"boxpoints\":false,\"fillcolor\":\"#dfc27d\",\"jitter\":0.5,\"line\":{\"color\":\"#756438\",\"width\":1},\"marker\":{\"color\":\"rgb(0, 0, 0)\",\"size\":2},\"name\":\"RQISQDVKL\",\"type\":\"box\",\"whiskerwidth\":0.2,\"x\":[0.6596127319494612]},{\"boxpoints\":false,\"fillcolor\":\"#80cdc1\",\"jitter\":0.5,\"line\":{\"color\":\"#365b55\",\"width\":1},\"marker\":{\"color\":\"rgb(0, 0, 0)\",\"size\":2},\"name\":\"AAGIGILTV\",\"type\":\"box\",\"whiskerwidth\":0.2,\"x\":[0.6909012500114694,0.7588459644540414,0.6767250739393865,0.7171768764699945,0.6967735818471542,0.6555131102866738,0.6455656248375169,0.7376076976483146]},{\"boxpoints\":false,\"fillcolor\":\"#80cdc1\",\"jitter\":0.5,\"line\":{\"color\":\"#365b55\",\"width\":1},\"marker\":{\"color\":\"rgb(0, 0, 0)\",\"size\":2},\"name\":\"VLRDDLLEA\",\"type\":\"box\",\"whiskerwidth\":0.2,\"x\":[0.6203583345822233]},{\"boxpoints\":false,\"fillcolor\":\"#80cdc1\",\"jitter\":0.5,\"line\":{\"color\":\"#365b55\",\"width\":1},\"marker\":{\"color\":\"rgb(0, 0, 0)\",\"size\":2},\"name\":\"ILKEPVHGV\",\"type\":\"box\",\"whiskerwidth\":0.2,\"x\":[0.43770128793694585,0.6442122358597614,0.6155408815226466,0.7893851485057668,0.0,0.6263985784063348,0.5724049339821444]},{\"boxpoints\":false,\"fillcolor\":\"#80cdc1\",\"jitter\":0.5,\"line\":{\"color\":\"#365b55\",\"width\":1},\"marker\":{\"color\":\"rgb(0, 0, 0)\",\"size\":2},\"name\":\"CINGVCWTV\",\"type\":\"box\",\"whiskerwidth\":0.2,\"x\":[0.5729854384521513,0.7474958480778817]},{\"boxpoints\":false,\"fillcolor\":\"#018571\",\"jitter\":0.5,\"line\":{\"color\":\"#052f29\",\"width\":1},\"marker\":{\"color\":\"rgb(0, 0, 0)\",\"size\":2},\"name\":\"LLFGYPVYV\",\"type\":\"box\",\"whiskerwidth\":0.2,\"x\":[0.7963218404866695,0.7315702064797511,0.8776964554972061,0.9704823570071905,0.8227075731671136,0.8135412301923495,0.9279874723587505,0.855222552201054,0.8787241135684509,0.9286114076162921,0.8306413381576171,0.8261728606514006,0.8160002691485425,0.8256926751835868,0.7819927391063657,0.9357163174362377,0.28055768801402015,0.3336854693430634,0.3627054322127987,0.42732897598155106,0.43956728254785804,0.4924549711429943,0.9182553057435687,0.7796927424707224,0.7213425618659335]},{\"boxpoints\":false,\"fillcolor\":\"#018571\",\"jitter\":0.5,\"line\":{\"color\":\"#052f29\",\"width\":1},\"marker\":{\"color\":\"rgb(0, 0, 0)\",\"size\":2},\"name\":\"ALWGFFPVL\",\"type\":\"box\",\"whiskerwidth\":0.2,\"x\":[0.8601742736812487,0.8696678768156056,0.9129579730667947,0.9271341491388776,0.994534449484183,1.0,0.9716323553250121,0.8990845891049892,0.7525699098046532,0.8750019115663528]},{\"boxpoints\":false,\"fillcolor\":\"#018571\",\"jitter\":0.5,\"line\":{\"color\":\"#052f29\",\"width\":1},\"marker\":{\"color\":\"rgb(0, 0, 0)\",\"size\":2},\"name\":\"FLPSDFFPSV\",\"type\":\"box\",\"whiskerwidth\":0.2,\"x\":[0.8447410515755894,0.9624935389057276,0.7623234859629859,0.7630055328376514,0.8251880216664577]}],                        {\"boxgap\":0.15,\"boxgroupgap\":0.15,\"font\":{\"family\":\"Times New Roman\"},\"height\":450,\"paper_bgcolor\":\"rgba(0, 0, 0, 0)\",\"plot_bgcolor\":\"rgba(0, 0, 0, 0)\",\"showlegend\":false,\"template\":{\"data\":{\"bar\":[{\"error_x\":{\"color\":\"#2a3f5f\"},\"error_y\":{\"color\":\"#2a3f5f\"},\"marker\":{\"line\":{\"color\":\"#E5ECF6\",\"width\":0.5},\"pattern\":{\"fillmode\":\"overlay\",\"size\":10,\"solidity\":0.2}},\"type\":\"bar\"}],\"barpolar\":[{\"marker\":{\"line\":{\"color\":\"#E5ECF6\",\"width\":0.5},\"pattern\":{\"fillmode\":\"overlay\",\"size\":10,\"solidity\":0.2}},\"type\":\"barpolar\"}],\"carpet\":[{\"aaxis\":{\"endlinecolor\":\"#2a3f5f\",\"gridcolor\":\"white\",\"linecolor\":\"white\",\"minorgridcolor\":\"white\",\"startlinecolor\":\"#2a3f5f\"},\"baxis\":{\"endlinecolor\":\"#2a3f5f\",\"gridcolor\":\"white\",\"linecolor\":\"white\",\"minorgridcolor\":\"white\",\"startlinecolor\":\"#2a3f5f\"},\"type\":\"carpet\"}],\"choropleth\":[{\"colorbar\":{\"outlinewidth\":0,\"ticks\":\"\"},\"type\":\"choropleth\"}],\"contour\":[{\"colorbar\":{\"outlinewidth\":0,\"ticks\":\"\"},\"colorscale\":[[0.0,\"#0d0887\"],[0.1111111111111111,\"#46039f\"],[0.2222222222222222,\"#7201a8\"],[0.3333333333333333,\"#9c179e\"],[0.4444444444444444,\"#bd3786\"],[0.5555555555555556,\"#d8576b\"],[0.6666666666666666,\"#ed7953\"],[0.7777777777777778,\"#fb9f3a\"],[0.8888888888888888,\"#fdca26\"],[1.0,\"#f0f921\"]],\"type\":\"contour\"}],\"contourcarpet\":[{\"colorbar\":{\"outlinewidth\":0,\"ticks\":\"\"},\"type\":\"contourcarpet\"}],\"heatmap\":[{\"colorbar\":{\"outlinewidth\":0,\"ticks\":\"\"},\"colorscale\":[[0.0,\"#0d0887\"],[0.1111111111111111,\"#46039f\"],[0.2222222222222222,\"#7201a8\"],[0.3333333333333333,\"#9c179e\"],[0.4444444444444444,\"#bd3786\"],[0.5555555555555556,\"#d8576b\"],[0.6666666666666666,\"#ed7953\"],[0.7777777777777778,\"#fb9f3a\"],[0.8888888888888888,\"#fdca26\"],[1.0,\"#f0f921\"]],\"type\":\"heatmap\"}],\"heatmapgl\":[{\"colorbar\":{\"outlinewidth\":0,\"ticks\":\"\"},\"colorscale\":[[0.0,\"#0d0887\"],[0.1111111111111111,\"#46039f\"],[0.2222222222222222,\"#7201a8\"],[0.3333333333333333,\"#9c179e\"],[0.4444444444444444,\"#bd3786\"],[0.5555555555555556,\"#d8576b\"],[0.6666666666666666,\"#ed7953\"],[0.7777777777777778,\"#fb9f3a\"],[0.8888888888888888,\"#fdca26\"],[1.0,\"#f0f921\"]],\"type\":\"heatmapgl\"}],\"histogram\":[{\"marker\":{\"pattern\":{\"fillmode\":\"overlay\",\"size\":10,\"solidity\":0.2}},\"type\":\"histogram\"}],\"histogram2d\":[{\"colorbar\":{\"outlinewidth\":0,\"ticks\":\"\"},\"colorscale\":[[0.0,\"#0d0887\"],[0.1111111111111111,\"#46039f\"],[0.2222222222222222,\"#7201a8\"],[0.3333333333333333,\"#9c179e\"],[0.4444444444444444,\"#bd3786\"],[0.5555555555555556,\"#d8576b\"],[0.6666666666666666,\"#ed7953\"],[0.7777777777777778,\"#fb9f3a\"],[0.8888888888888888,\"#fdca26\"],[1.0,\"#f0f921\"]],\"type\":\"histogram2d\"}],\"histogram2dcontour\":[{\"colorbar\":{\"outlinewidth\":0,\"ticks\":\"\"},\"colorscale\":[[0.0,\"#0d0887\"],[0.1111111111111111,\"#46039f\"],[0.2222222222222222,\"#7201a8\"],[0.3333333333333333,\"#9c179e\"],[0.4444444444444444,\"#bd3786\"],[0.5555555555555556,\"#d8576b\"],[0.6666666666666666,\"#ed7953\"],[0.7777777777777778,\"#fb9f3a\"],[0.8888888888888888,\"#fdca26\"],[1.0,\"#f0f921\"]],\"type\":\"histogram2dcontour\"}],\"mesh3d\":[{\"colorbar\":{\"outlinewidth\":0,\"ticks\":\"\"},\"type\":\"mesh3d\"}],\"parcoords\":[{\"line\":{\"colorbar\":{\"outlinewidth\":0,\"ticks\":\"\"}},\"type\":\"parcoords\"}],\"pie\":[{\"automargin\":true,\"type\":\"pie\"}],\"scatter\":[{\"marker\":{\"colorbar\":{\"outlinewidth\":0,\"ticks\":\"\"}},\"type\":\"scatter\"}],\"scatter3d\":[{\"line\":{\"colorbar\":{\"outlinewidth\":0,\"ticks\":\"\"}},\"marker\":{\"colorbar\":{\"outlinewidth\":0,\"ticks\":\"\"}},\"type\":\"scatter3d\"}],\"scattercarpet\":[{\"marker\":{\"colorbar\":{\"outlinewidth\":0,\"ticks\":\"\"}},\"type\":\"scattercarpet\"}],\"scattergeo\":[{\"marker\":{\"colorbar\":{\"outlinewidth\":0,\"ticks\":\"\"}},\"type\":\"scattergeo\"}],\"scattergl\":[{\"marker\":{\"colorbar\":{\"outlinewidth\":0,\"ticks\":\"\"}},\"type\":\"scattergl\"}],\"scattermapbox\":[{\"marker\":{\"colorbar\":{\"outlinewidth\":0,\"ticks\":\"\"}},\"type\":\"scattermapbox\"}],\"scatterpolar\":[{\"marker\":{\"colorbar\":{\"outlinewidth\":0,\"ticks\":\"\"}},\"type\":\"scatterpolar\"}],\"scatterpolargl\":[{\"marker\":{\"colorbar\":{\"outlinewidth\":0,\"ticks\":\"\"}},\"type\":\"scatterpolargl\"}],\"scatterternary\":[{\"marker\":{\"colorbar\":{\"outlinewidth\":0,\"ticks\":\"\"}},\"type\":\"scatterternary\"}],\"surface\":[{\"colorbar\":{\"outlinewidth\":0,\"ticks\":\"\"},\"colorscale\":[[0.0,\"#0d0887\"],[0.1111111111111111,\"#46039f\"],[0.2222222222222222,\"#7201a8\"],[0.3333333333333333,\"#9c179e\"],[0.4444444444444444,\"#bd3786\"],[0.5555555555555556,\"#d8576b\"],[0.6666666666666666,\"#ed7953\"],[0.7777777777777778,\"#fb9f3a\"],[0.8888888888888888,\"#fdca26\"],[1.0,\"#f0f921\"]],\"type\":\"surface\"}],\"table\":[{\"cells\":{\"fill\":{\"color\":\"#EBF0F8\"},\"line\":{\"color\":\"white\"}},\"header\":{\"fill\":{\"color\":\"#C8D4E3\"},\"line\":{\"color\":\"white\"}},\"type\":\"table\"}]},\"layout\":{\"annotationdefaults\":{\"arrowcolor\":\"#2a3f5f\",\"arrowhead\":0,\"arrowwidth\":1},\"autotypenumbers\":\"strict\",\"coloraxis\":{\"colorbar\":{\"outlinewidth\":0,\"ticks\":\"\"}},\"colorscale\":{\"diverging\":[[0,\"#8e0152\"],[0.1,\"#c51b7d\"],[0.2,\"#de77ae\"],[0.3,\"#f1b6da\"],[0.4,\"#fde0ef\"],[0.5,\"#f7f7f7\"],[0.6,\"#e6f5d0\"],[0.7,\"#b8e186\"],[0.8,\"#7fbc41\"],[0.9,\"#4d9221\"],[1,\"#276419\"]],\"sequential\":[[0.0,\"#0d0887\"],[0.1111111111111111,\"#46039f\"],[0.2222222222222222,\"#7201a8\"],[0.3333333333333333,\"#9c179e\"],[0.4444444444444444,\"#bd3786\"],[0.5555555555555556,\"#d8576b\"],[0.6666666666666666,\"#ed7953\"],[0.7777777777777778,\"#fb9f3a\"],[0.8888888888888888,\"#fdca26\"],[1.0,\"#f0f921\"]],\"sequentialminus\":[[0.0,\"#0d0887\"],[0.1111111111111111,\"#46039f\"],[0.2222222222222222,\"#7201a8\"],[0.3333333333333333,\"#9c179e\"],[0.4444444444444444,\"#bd3786\"],[0.5555555555555556,\"#d8576b\"],[0.6666666666666666,\"#ed7953\"],[0.7777777777777778,\"#fb9f3a\"],[0.8888888888888888,\"#fdca26\"],[1.0,\"#f0f921\"]]},\"colorway\":[\"#636efa\",\"#EF553B\",\"#00cc96\",\"#ab63fa\",\"#FFA15A\",\"#19d3f3\",\"#FF6692\",\"#B6E880\",\"#FF97FF\",\"#FECB52\"],\"font\":{\"color\":\"#2a3f5f\"},\"geo\":{\"bgcolor\":\"white\",\"lakecolor\":\"white\",\"landcolor\":\"#E5ECF6\",\"showlakes\":true,\"showland\":true,\"subunitcolor\":\"white\"},\"hoverlabel\":{\"align\":\"left\"},\"hovermode\":\"closest\",\"mapbox\":{\"style\":\"light\"},\"paper_bgcolor\":\"white\",\"plot_bgcolor\":\"#E5ECF6\",\"polar\":{\"angularaxis\":{\"gridcolor\":\"white\",\"linecolor\":\"white\",\"ticks\":\"\"},\"bgcolor\":\"#E5ECF6\",\"radialaxis\":{\"gridcolor\":\"white\",\"linecolor\":\"white\",\"ticks\":\"\"}},\"scene\":{\"xaxis\":{\"backgroundcolor\":\"#E5ECF6\",\"gridcolor\":\"white\",\"gridwidth\":2,\"linecolor\":\"white\",\"showbackground\":true,\"ticks\":\"\",\"zerolinecolor\":\"white\"},\"yaxis\":{\"backgroundcolor\":\"#E5ECF6\",\"gridcolor\":\"white\",\"gridwidth\":2,\"linecolor\":\"white\",\"showbackground\":true,\"ticks\":\"\",\"zerolinecolor\":\"white\"},\"zaxis\":{\"backgroundcolor\":\"#E5ECF6\",\"gridcolor\":\"white\",\"gridwidth\":2,\"linecolor\":\"white\",\"showbackground\":true,\"ticks\":\"\",\"zerolinecolor\":\"white\"}},\"shapedefaults\":{\"line\":{\"color\":\"#2a3f5f\"}},\"ternary\":{\"aaxis\":{\"gridcolor\":\"white\",\"linecolor\":\"white\",\"ticks\":\"\"},\"baxis\":{\"gridcolor\":\"white\",\"linecolor\":\"white\",\"ticks\":\"\"},\"bgcolor\":\"#E5ECF6\",\"caxis\":{\"gridcolor\":\"white\",\"linecolor\":\"white\",\"ticks\":\"\"}},\"title\":{\"x\":0.05},\"xaxis\":{\"automargin\":true,\"gridcolor\":\"white\",\"linecolor\":\"white\",\"ticks\":\"\",\"title\":{\"standoff\":15},\"zerolinecolor\":\"white\",\"zerolinewidth\":2},\"yaxis\":{\"automargin\":true,\"gridcolor\":\"white\",\"linecolor\":\"white\",\"ticks\":\"\",\"title\":{\"standoff\":15},\"zerolinecolor\":\"white\",\"zerolinewidth\":2}}},\"width\":350,\"xaxis\":{\"autorange\":\"reversed\",\"linecolor\":\"Black\",\"showline\":true,\"title\":{\"text\":\"FoldX\"},\"zeroline\":true},\"yaxis\":{\"dtick\":0.1,\"linecolor\":\"Black\",\"showline\":true,\"tickfont\":{\"size\":10},\"title\":{\"text\":\"Peptide\"},\"zeroline\":true}},                        {\"responsive\": true}                    ).then(function(){\n",
       "                            \n",
       "var gd = document.getElementById('84b8dbec-f035-485d-b436-4e8ffa7cde2a');\n",
       "var x = new MutationObserver(function (mutations, observer) {{\n",
       "        var display = window.getComputedStyle(gd).display;\n",
       "        if (!display || display === 'none') {{\n",
       "            console.log([gd, 'removed!']);\n",
       "            Plotly.purge(gd);\n",
       "            observer.disconnect();\n",
       "        }}\n",
       "}});\n",
       "\n",
       "// Listen for the removal of the full notebook cells\n",
       "var notebookContainer = gd.closest('#notebook-container');\n",
       "if (notebookContainer) {{\n",
       "    x.observe(notebookContainer, {childList: true});\n",
       "}}\n",
       "\n",
       "// Listen for the clearing of the current output cell\n",
       "var outputEl = gd.closest('.output');\n",
       "if (outputEl) {{\n",
       "    x.observe(outputEl, {childList: true});\n",
       "}}\n",
       "\n",
       "                        })                };                });            </script>        </div>"
      ]
     },
     "metadata": {},
     "output_type": "display_data"
    },
    {
     "data": {
      "application/vnd.plotly.v1+json": {
       "config": {
        "linkText": "Export to plot.ly",
        "plotlyServerURL": "https://plot.ly",
        "showLink": false
       },
       "data": [
        {
         "boxpoints": false,
         "fillcolor": "#a6611a",
         "jitter": 0.5,
         "line": {
          "color": "#59340e",
          "width": 1
         },
         "marker": {
          "color": "rgb(0, 0, 0)",
          "size": 2
         },
         "name": "DAKRNSKSL",
         "type": "box",
         "whiskerwidth": 0.2,
         "x": [
          0.9237357948475196
         ]
        },
        {
         "boxpoints": false,
         "fillcolor": "#a6611a",
         "jitter": 0.5,
         "line": {
          "color": "#59340e",
          "width": 1
         },
         "marker": {
          "color": "rgb(0, 0, 0)",
          "size": 2
         },
         "name": "EIDVSEVKT",
         "type": "box",
         "whiskerwidth": 0.2,
         "x": [
          0.9426067461530623
         ]
        },
        {
         "boxpoints": false,
         "fillcolor": "#a6611a",
         "jitter": 0.5,
         "line": {
          "color": "#59340e",
          "width": 1
         },
         "marker": {
          "color": "rgb(0, 0, 0)",
          "size": 2
         },
         "name": "ATKRYPGVM",
         "type": "box",
         "whiskerwidth": 0.2,
         "x": [
          0.9094966190340004
         ]
        },
        {
         "boxpoints": false,
         "fillcolor": "#a6611a",
         "jitter": 0.5,
         "line": {
          "color": "#59340e",
          "width": 1
         },
         "marker": {
          "color": "rgb(0, 0, 0)",
          "size": 2
         },
         "name": "AAEQRRSTI",
         "type": "box",
         "whiskerwidth": 0.2,
         "x": [
          0.924340654102688
         ]
        },
        {
         "boxpoints": false,
         "fillcolor": "#a6611a",
         "jitter": 0.5,
         "line": {
          "color": "#59340e",
          "width": 1
         },
         "marker": {
          "color": "rgb(0, 0, 0)",
          "size": 2
         },
         "name": "ETLNEYKQL",
         "type": "box",
         "whiskerwidth": 0.2,
         "x": [
          0.9564310674122214
         ]
        },
        {
         "boxpoints": false,
         "fillcolor": "#dfc27d",
         "jitter": 0.5,
         "line": {
          "color": "#756438",
          "width": 1
         },
         "marker": {
          "color": "rgb(0, 0, 0)",
          "size": 2
         },
         "name": "SLLMWITQC",
         "type": "box",
         "whiskerwidth": 0.2,
         "x": [
          0.32456550395623984,
          0.32425584231582205,
          0.21903663014500196,
          0.7628517798969767,
          0.5349618511323031,
          0.552914994263699,
          0.7575158693372518,
          0.7240138986137546,
          0.7377987725301854
         ]
        },
        {
         "boxpoints": false,
         "fillcolor": "#dfc27d",
         "jitter": 0.5,
         "line": {
          "color": "#756438",
          "width": 1
         },
         "marker": {
          "color": "rgb(0, 0, 0)",
          "size": 2
         },
         "name": "EAAGIGILTV",
         "type": "box",
         "whiskerwidth": 0.2,
         "x": [
          0.8762352771011462,
          0.9279408815823644,
          0.9382070525274241
         ]
        },
        {
         "boxpoints": false,
         "fillcolor": "#dfc27d",
         "jitter": 0.5,
         "line": {
          "color": "#756438",
          "width": 1
         },
         "marker": {
          "color": "rgb(0, 0, 0)",
          "size": 2
         },
         "name": "RGPGRAFVTI",
         "type": "box",
         "whiskerwidth": 0.2,
         "x": [
          0.8699204149860456,
          0.5252795008596234,
          0.6315822000440495,
          0.8434380989010628,
          0,
          0.9502082490968202
         ]
        },
        {
         "boxpoints": false,
         "fillcolor": "#dfc27d",
         "jitter": 0.5,
         "line": {
          "color": "#756438",
          "width": 1
         },
         "marker": {
          "color": "rgb(0, 0, 0)",
          "size": 2
         },
         "name": "RQISQDVKL",
         "type": "box",
         "whiskerwidth": 0.2,
         "x": [
          0.8763075972294816
         ]
        },
        {
         "boxpoints": false,
         "fillcolor": "#80cdc1",
         "jitter": 0.5,
         "line": {
          "color": "#365b55",
          "width": 1
         },
         "marker": {
          "color": "rgb(0, 0, 0)",
          "size": 2
         },
         "name": "AAGIGILTV",
         "type": "box",
         "whiskerwidth": 0.2,
         "x": [
          0.9211197785689161,
          0.9131698240977242,
          0.9257239409210297,
          0.6900280404861228,
          0.9243801014454164,
          0.9179988363033895,
          0.9169995036209373,
          0.9252538600868498
         ]
        },
        {
         "boxpoints": false,
         "fillcolor": "#80cdc1",
         "jitter": 0.5,
         "line": {
          "color": "#365b55",
          "width": 1
         },
         "marker": {
          "color": "rgb(0, 0, 0)",
          "size": 2
         },
         "name": "VLRDDLLEA",
         "type": "box",
         "whiskerwidth": 0.2,
         "x": [
          1
         ]
        },
        {
         "boxpoints": false,
         "fillcolor": "#80cdc1",
         "jitter": 0.5,
         "line": {
          "color": "#365b55",
          "width": 1
         },
         "marker": {
          "color": "rgb(0, 0, 0)",
          "size": 2
         },
         "name": "ILKEPVHGV",
         "type": "box",
         "whiskerwidth": 0.2,
         "x": [
          0.6277137306338202,
          0.44102786626035917,
          0.43487539570615674,
          0.852693760416564,
          0.7866503617650056,
          0.3992426110196152,
          0.3537598248537984
         ]
        },
        {
         "boxpoints": false,
         "fillcolor": "#80cdc1",
         "jitter": 0.5,
         "line": {
          "color": "#365b55",
          "width": 1
         },
         "marker": {
          "color": "rgb(0, 0, 0)",
          "size": 2
         },
         "name": "CINGVCWTV",
         "type": "box",
         "whiskerwidth": 0.2,
         "x": [
          0.8452257209823704,
          0.8524505018030724
         ]
        },
        {
         "boxpoints": false,
         "fillcolor": "#018571",
         "jitter": 0.5,
         "line": {
          "color": "#052f29",
          "width": 1
         },
         "marker": {
          "color": "rgb(0, 0, 0)",
          "size": 2
         },
         "name": "LLFGYPVYV",
         "type": "box",
         "whiskerwidth": 0.2,
         "x": [
          0.22823706538068333,
          0.46406116967945754,
          0.9256272949313452,
          0.2941351663198588,
          0.5134301765597316,
          0.9605243866760025,
          0.17911394693674942,
          0.36276499574297427,
          0.9474752057014559,
          0.8943757951105019,
          0.9775058102648561,
          0.9755965588768026,
          0.8932028941200448,
          0.9748102418450837,
          0.08594392560231179,
          0.9253748319378836,
          0.707163966167329,
          0.8822930740328004,
          0.8263015157641443,
          0.6335742908518325,
          0.7170586746350298,
          0.844470961824834,
          0.7549623113513015,
          0.4262614109657038,
          0.28971706393428065
         ]
        },
        {
         "boxpoints": false,
         "fillcolor": "#018571",
         "jitter": 0.5,
         "line": {
          "color": "#052f29",
          "width": 1
         },
         "marker": {
          "color": "rgb(0, 0, 0)",
          "size": 2
         },
         "name": "ALWGFFPVL",
         "type": "box",
         "whiskerwidth": 0.2,
         "x": [
          0.9165892512565622,
          0.6738776409174136,
          0.8516385439985799,
          0.7697826780143523,
          0.5550819682909109,
          0.5760811037366496,
          0.6732944777007459,
          0.5794814646798355,
          0.35677557420538264,
          0.370492072727751
         ]
        },
        {
         "boxpoints": false,
         "fillcolor": "#018571",
         "jitter": 0.5,
         "line": {
          "color": "#052f29",
          "width": 1
         },
         "marker": {
          "color": "rgb(0, 0, 0)",
          "size": 2
         },
         "name": "FLPSDFFPSV",
         "type": "box",
         "whiskerwidth": 0.2,
         "x": [
          0.9001028918189499,
          0.34329115754939965,
          0.5970868137395096,
          0.8233041751725,
          0.9482694122017206
         ]
        }
       ],
       "layout": {
        "boxgap": 0.15,
        "boxgroupgap": 0.15,
        "font": {
         "family": "Times New Roman"
        },
        "height": 450,
        "paper_bgcolor": "rgba(0, 0, 0, 0)",
        "plot_bgcolor": "rgba(0, 0, 0, 0)",
        "showlegend": false,
        "template": {
         "data": {
          "bar": [
           {
            "error_x": {
             "color": "#2a3f5f"
            },
            "error_y": {
             "color": "#2a3f5f"
            },
            "marker": {
             "line": {
              "color": "#E5ECF6",
              "width": 0.5
             },
             "pattern": {
              "fillmode": "overlay",
              "size": 10,
              "solidity": 0.2
             }
            },
            "type": "bar"
           }
          ],
          "barpolar": [
           {
            "marker": {
             "line": {
              "color": "#E5ECF6",
              "width": 0.5
             },
             "pattern": {
              "fillmode": "overlay",
              "size": 10,
              "solidity": 0.2
             }
            },
            "type": "barpolar"
           }
          ],
          "carpet": [
           {
            "aaxis": {
             "endlinecolor": "#2a3f5f",
             "gridcolor": "white",
             "linecolor": "white",
             "minorgridcolor": "white",
             "startlinecolor": "#2a3f5f"
            },
            "baxis": {
             "endlinecolor": "#2a3f5f",
             "gridcolor": "white",
             "linecolor": "white",
             "minorgridcolor": "white",
             "startlinecolor": "#2a3f5f"
            },
            "type": "carpet"
           }
          ],
          "choropleth": [
           {
            "colorbar": {
             "outlinewidth": 0,
             "ticks": ""
            },
            "type": "choropleth"
           }
          ],
          "contour": [
           {
            "colorbar": {
             "outlinewidth": 0,
             "ticks": ""
            },
            "colorscale": [
             [
              0,
              "#0d0887"
             ],
             [
              0.1111111111111111,
              "#46039f"
             ],
             [
              0.2222222222222222,
              "#7201a8"
             ],
             [
              0.3333333333333333,
              "#9c179e"
             ],
             [
              0.4444444444444444,
              "#bd3786"
             ],
             [
              0.5555555555555556,
              "#d8576b"
             ],
             [
              0.6666666666666666,
              "#ed7953"
             ],
             [
              0.7777777777777778,
              "#fb9f3a"
             ],
             [
              0.8888888888888888,
              "#fdca26"
             ],
             [
              1,
              "#f0f921"
             ]
            ],
            "type": "contour"
           }
          ],
          "contourcarpet": [
           {
            "colorbar": {
             "outlinewidth": 0,
             "ticks": ""
            },
            "type": "contourcarpet"
           }
          ],
          "heatmap": [
           {
            "colorbar": {
             "outlinewidth": 0,
             "ticks": ""
            },
            "colorscale": [
             [
              0,
              "#0d0887"
             ],
             [
              0.1111111111111111,
              "#46039f"
             ],
             [
              0.2222222222222222,
              "#7201a8"
             ],
             [
              0.3333333333333333,
              "#9c179e"
             ],
             [
              0.4444444444444444,
              "#bd3786"
             ],
             [
              0.5555555555555556,
              "#d8576b"
             ],
             [
              0.6666666666666666,
              "#ed7953"
             ],
             [
              0.7777777777777778,
              "#fb9f3a"
             ],
             [
              0.8888888888888888,
              "#fdca26"
             ],
             [
              1,
              "#f0f921"
             ]
            ],
            "type": "heatmap"
           }
          ],
          "heatmapgl": [
           {
            "colorbar": {
             "outlinewidth": 0,
             "ticks": ""
            },
            "colorscale": [
             [
              0,
              "#0d0887"
             ],
             [
              0.1111111111111111,
              "#46039f"
             ],
             [
              0.2222222222222222,
              "#7201a8"
             ],
             [
              0.3333333333333333,
              "#9c179e"
             ],
             [
              0.4444444444444444,
              "#bd3786"
             ],
             [
              0.5555555555555556,
              "#d8576b"
             ],
             [
              0.6666666666666666,
              "#ed7953"
             ],
             [
              0.7777777777777778,
              "#fb9f3a"
             ],
             [
              0.8888888888888888,
              "#fdca26"
             ],
             [
              1,
              "#f0f921"
             ]
            ],
            "type": "heatmapgl"
           }
          ],
          "histogram": [
           {
            "marker": {
             "pattern": {
              "fillmode": "overlay",
              "size": 10,
              "solidity": 0.2
             }
            },
            "type": "histogram"
           }
          ],
          "histogram2d": [
           {
            "colorbar": {
             "outlinewidth": 0,
             "ticks": ""
            },
            "colorscale": [
             [
              0,
              "#0d0887"
             ],
             [
              0.1111111111111111,
              "#46039f"
             ],
             [
              0.2222222222222222,
              "#7201a8"
             ],
             [
              0.3333333333333333,
              "#9c179e"
             ],
             [
              0.4444444444444444,
              "#bd3786"
             ],
             [
              0.5555555555555556,
              "#d8576b"
             ],
             [
              0.6666666666666666,
              "#ed7953"
             ],
             [
              0.7777777777777778,
              "#fb9f3a"
             ],
             [
              0.8888888888888888,
              "#fdca26"
             ],
             [
              1,
              "#f0f921"
             ]
            ],
            "type": "histogram2d"
           }
          ],
          "histogram2dcontour": [
           {
            "colorbar": {
             "outlinewidth": 0,
             "ticks": ""
            },
            "colorscale": [
             [
              0,
              "#0d0887"
             ],
             [
              0.1111111111111111,
              "#46039f"
             ],
             [
              0.2222222222222222,
              "#7201a8"
             ],
             [
              0.3333333333333333,
              "#9c179e"
             ],
             [
              0.4444444444444444,
              "#bd3786"
             ],
             [
              0.5555555555555556,
              "#d8576b"
             ],
             [
              0.6666666666666666,
              "#ed7953"
             ],
             [
              0.7777777777777778,
              "#fb9f3a"
             ],
             [
              0.8888888888888888,
              "#fdca26"
             ],
             [
              1,
              "#f0f921"
             ]
            ],
            "type": "histogram2dcontour"
           }
          ],
          "mesh3d": [
           {
            "colorbar": {
             "outlinewidth": 0,
             "ticks": ""
            },
            "type": "mesh3d"
           }
          ],
          "parcoords": [
           {
            "line": {
             "colorbar": {
              "outlinewidth": 0,
              "ticks": ""
             }
            },
            "type": "parcoords"
           }
          ],
          "pie": [
           {
            "automargin": true,
            "type": "pie"
           }
          ],
          "scatter": [
           {
            "marker": {
             "colorbar": {
              "outlinewidth": 0,
              "ticks": ""
             }
            },
            "type": "scatter"
           }
          ],
          "scatter3d": [
           {
            "line": {
             "colorbar": {
              "outlinewidth": 0,
              "ticks": ""
             }
            },
            "marker": {
             "colorbar": {
              "outlinewidth": 0,
              "ticks": ""
             }
            },
            "type": "scatter3d"
           }
          ],
          "scattercarpet": [
           {
            "marker": {
             "colorbar": {
              "outlinewidth": 0,
              "ticks": ""
             }
            },
            "type": "scattercarpet"
           }
          ],
          "scattergeo": [
           {
            "marker": {
             "colorbar": {
              "outlinewidth": 0,
              "ticks": ""
             }
            },
            "type": "scattergeo"
           }
          ],
          "scattergl": [
           {
            "marker": {
             "colorbar": {
              "outlinewidth": 0,
              "ticks": ""
             }
            },
            "type": "scattergl"
           }
          ],
          "scattermapbox": [
           {
            "marker": {
             "colorbar": {
              "outlinewidth": 0,
              "ticks": ""
             }
            },
            "type": "scattermapbox"
           }
          ],
          "scatterpolar": [
           {
            "marker": {
             "colorbar": {
              "outlinewidth": 0,
              "ticks": ""
             }
            },
            "type": "scatterpolar"
           }
          ],
          "scatterpolargl": [
           {
            "marker": {
             "colorbar": {
              "outlinewidth": 0,
              "ticks": ""
             }
            },
            "type": "scatterpolargl"
           }
          ],
          "scatterternary": [
           {
            "marker": {
             "colorbar": {
              "outlinewidth": 0,
              "ticks": ""
             }
            },
            "type": "scatterternary"
           }
          ],
          "surface": [
           {
            "colorbar": {
             "outlinewidth": 0,
             "ticks": ""
            },
            "colorscale": [
             [
              0,
              "#0d0887"
             ],
             [
              0.1111111111111111,
              "#46039f"
             ],
             [
              0.2222222222222222,
              "#7201a8"
             ],
             [
              0.3333333333333333,
              "#9c179e"
             ],
             [
              0.4444444444444444,
              "#bd3786"
             ],
             [
              0.5555555555555556,
              "#d8576b"
             ],
             [
              0.6666666666666666,
              "#ed7953"
             ],
             [
              0.7777777777777778,
              "#fb9f3a"
             ],
             [
              0.8888888888888888,
              "#fdca26"
             ],
             [
              1,
              "#f0f921"
             ]
            ],
            "type": "surface"
           }
          ],
          "table": [
           {
            "cells": {
             "fill": {
              "color": "#EBF0F8"
             },
             "line": {
              "color": "white"
             }
            },
            "header": {
             "fill": {
              "color": "#C8D4E3"
             },
             "line": {
              "color": "white"
             }
            },
            "type": "table"
           }
          ]
         },
         "layout": {
          "annotationdefaults": {
           "arrowcolor": "#2a3f5f",
           "arrowhead": 0,
           "arrowwidth": 1
          },
          "autotypenumbers": "strict",
          "coloraxis": {
           "colorbar": {
            "outlinewidth": 0,
            "ticks": ""
           }
          },
          "colorscale": {
           "diverging": [
            [
             0,
             "#8e0152"
            ],
            [
             0.1,
             "#c51b7d"
            ],
            [
             0.2,
             "#de77ae"
            ],
            [
             0.3,
             "#f1b6da"
            ],
            [
             0.4,
             "#fde0ef"
            ],
            [
             0.5,
             "#f7f7f7"
            ],
            [
             0.6,
             "#e6f5d0"
            ],
            [
             0.7,
             "#b8e186"
            ],
            [
             0.8,
             "#7fbc41"
            ],
            [
             0.9,
             "#4d9221"
            ],
            [
             1,
             "#276419"
            ]
           ],
           "sequential": [
            [
             0,
             "#0d0887"
            ],
            [
             0.1111111111111111,
             "#46039f"
            ],
            [
             0.2222222222222222,
             "#7201a8"
            ],
            [
             0.3333333333333333,
             "#9c179e"
            ],
            [
             0.4444444444444444,
             "#bd3786"
            ],
            [
             0.5555555555555556,
             "#d8576b"
            ],
            [
             0.6666666666666666,
             "#ed7953"
            ],
            [
             0.7777777777777778,
             "#fb9f3a"
            ],
            [
             0.8888888888888888,
             "#fdca26"
            ],
            [
             1,
             "#f0f921"
            ]
           ],
           "sequentialminus": [
            [
             0,
             "#0d0887"
            ],
            [
             0.1111111111111111,
             "#46039f"
            ],
            [
             0.2222222222222222,
             "#7201a8"
            ],
            [
             0.3333333333333333,
             "#9c179e"
            ],
            [
             0.4444444444444444,
             "#bd3786"
            ],
            [
             0.5555555555555556,
             "#d8576b"
            ],
            [
             0.6666666666666666,
             "#ed7953"
            ],
            [
             0.7777777777777778,
             "#fb9f3a"
            ],
            [
             0.8888888888888888,
             "#fdca26"
            ],
            [
             1,
             "#f0f921"
            ]
           ]
          },
          "colorway": [
           "#636efa",
           "#EF553B",
           "#00cc96",
           "#ab63fa",
           "#FFA15A",
           "#19d3f3",
           "#FF6692",
           "#B6E880",
           "#FF97FF",
           "#FECB52"
          ],
          "font": {
           "color": "#2a3f5f"
          },
          "geo": {
           "bgcolor": "white",
           "lakecolor": "white",
           "landcolor": "#E5ECF6",
           "showlakes": true,
           "showland": true,
           "subunitcolor": "white"
          },
          "hoverlabel": {
           "align": "left"
          },
          "hovermode": "closest",
          "mapbox": {
           "style": "light"
          },
          "paper_bgcolor": "white",
          "plot_bgcolor": "#E5ECF6",
          "polar": {
           "angularaxis": {
            "gridcolor": "white",
            "linecolor": "white",
            "ticks": ""
           },
           "bgcolor": "#E5ECF6",
           "radialaxis": {
            "gridcolor": "white",
            "linecolor": "white",
            "ticks": ""
           }
          },
          "scene": {
           "xaxis": {
            "backgroundcolor": "#E5ECF6",
            "gridcolor": "white",
            "gridwidth": 2,
            "linecolor": "white",
            "showbackground": true,
            "ticks": "",
            "zerolinecolor": "white"
           },
           "yaxis": {
            "backgroundcolor": "#E5ECF6",
            "gridcolor": "white",
            "gridwidth": 2,
            "linecolor": "white",
            "showbackground": true,
            "ticks": "",
            "zerolinecolor": "white"
           },
           "zaxis": {
            "backgroundcolor": "#E5ECF6",
            "gridcolor": "white",
            "gridwidth": 2,
            "linecolor": "white",
            "showbackground": true,
            "ticks": "",
            "zerolinecolor": "white"
           }
          },
          "shapedefaults": {
           "line": {
            "color": "#2a3f5f"
           }
          },
          "ternary": {
           "aaxis": {
            "gridcolor": "white",
            "linecolor": "white",
            "ticks": ""
           },
           "baxis": {
            "gridcolor": "white",
            "linecolor": "white",
            "ticks": ""
           },
           "bgcolor": "#E5ECF6",
           "caxis": {
            "gridcolor": "white",
            "linecolor": "white",
            "ticks": ""
           }
          },
          "title": {
           "x": 0.05
          },
          "xaxis": {
           "automargin": true,
           "gridcolor": "white",
           "linecolor": "white",
           "ticks": "",
           "title": {
            "standoff": 15
           },
           "zerolinecolor": "white",
           "zerolinewidth": 2
          },
          "yaxis": {
           "automargin": true,
           "gridcolor": "white",
           "linecolor": "white",
           "ticks": "",
           "title": {
            "standoff": 15
           },
           "zerolinecolor": "white",
           "zerolinewidth": 2
          }
         }
        },
        "width": 350,
        "xaxis": {
         "autorange": "reversed",
         "linecolor": "Black",
         "showline": true,
         "title": {
          "text": "GradDock"
         },
         "zeroline": true
        },
        "yaxis": {
         "dtick": 0.1,
         "linecolor": "Black",
         "showline": true,
         "tickfont": {
          "size": 10
         },
         "title": {
          "text": "Peptide"
         },
         "zeroline": true
        }
       }
      },
      "text/html": [
       "<div>                            <div id=\"343a40f9-9164-4b2f-bc34-8eed1a4de4d7\" class=\"plotly-graph-div\" style=\"height:450px; width:350px;\"></div>            <script type=\"text/javascript\">                require([\"plotly\"], function(Plotly) {                    window.PLOTLYENV=window.PLOTLYENV || {};                                    if (document.getElementById(\"343a40f9-9164-4b2f-bc34-8eed1a4de4d7\")) {                    Plotly.newPlot(                        \"343a40f9-9164-4b2f-bc34-8eed1a4de4d7\",                        [{\"boxpoints\":false,\"fillcolor\":\"#a6611a\",\"jitter\":0.5,\"line\":{\"color\":\"#59340e\",\"width\":1},\"marker\":{\"color\":\"rgb(0, 0, 0)\",\"size\":2},\"name\":\"DAKRNSKSL\",\"type\":\"box\",\"whiskerwidth\":0.2,\"x\":[0.9237357948475196]},{\"boxpoints\":false,\"fillcolor\":\"#a6611a\",\"jitter\":0.5,\"line\":{\"color\":\"#59340e\",\"width\":1},\"marker\":{\"color\":\"rgb(0, 0, 0)\",\"size\":2},\"name\":\"EIDVSEVKT\",\"type\":\"box\",\"whiskerwidth\":0.2,\"x\":[0.9426067461530623]},{\"boxpoints\":false,\"fillcolor\":\"#a6611a\",\"jitter\":0.5,\"line\":{\"color\":\"#59340e\",\"width\":1},\"marker\":{\"color\":\"rgb(0, 0, 0)\",\"size\":2},\"name\":\"ATKRYPGVM\",\"type\":\"box\",\"whiskerwidth\":0.2,\"x\":[0.9094966190340004]},{\"boxpoints\":false,\"fillcolor\":\"#a6611a\",\"jitter\":0.5,\"line\":{\"color\":\"#59340e\",\"width\":1},\"marker\":{\"color\":\"rgb(0, 0, 0)\",\"size\":2},\"name\":\"AAEQRRSTI\",\"type\":\"box\",\"whiskerwidth\":0.2,\"x\":[0.924340654102688]},{\"boxpoints\":false,\"fillcolor\":\"#a6611a\",\"jitter\":0.5,\"line\":{\"color\":\"#59340e\",\"width\":1},\"marker\":{\"color\":\"rgb(0, 0, 0)\",\"size\":2},\"name\":\"ETLNEYKQL\",\"type\":\"box\",\"whiskerwidth\":0.2,\"x\":[0.9564310674122214]},{\"boxpoints\":false,\"fillcolor\":\"#dfc27d\",\"jitter\":0.5,\"line\":{\"color\":\"#756438\",\"width\":1},\"marker\":{\"color\":\"rgb(0, 0, 0)\",\"size\":2},\"name\":\"SLLMWITQC\",\"type\":\"box\",\"whiskerwidth\":0.2,\"x\":[0.32456550395623984,0.32425584231582205,0.21903663014500196,0.7628517798969767,0.5349618511323031,0.552914994263699,0.7575158693372518,0.7240138986137546,0.7377987725301854]},{\"boxpoints\":false,\"fillcolor\":\"#dfc27d\",\"jitter\":0.5,\"line\":{\"color\":\"#756438\",\"width\":1},\"marker\":{\"color\":\"rgb(0, 0, 0)\",\"size\":2},\"name\":\"EAAGIGILTV\",\"type\":\"box\",\"whiskerwidth\":0.2,\"x\":[0.8762352771011462,0.9279408815823644,0.9382070525274241]},{\"boxpoints\":false,\"fillcolor\":\"#dfc27d\",\"jitter\":0.5,\"line\":{\"color\":\"#756438\",\"width\":1},\"marker\":{\"color\":\"rgb(0, 0, 0)\",\"size\":2},\"name\":\"RGPGRAFVTI\",\"type\":\"box\",\"whiskerwidth\":0.2,\"x\":[0.8699204149860456,0.5252795008596234,0.6315822000440495,0.8434380989010628,0.0,0.9502082490968202]},{\"boxpoints\":false,\"fillcolor\":\"#dfc27d\",\"jitter\":0.5,\"line\":{\"color\":\"#756438\",\"width\":1},\"marker\":{\"color\":\"rgb(0, 0, 0)\",\"size\":2},\"name\":\"RQISQDVKL\",\"type\":\"box\",\"whiskerwidth\":0.2,\"x\":[0.8763075972294816]},{\"boxpoints\":false,\"fillcolor\":\"#80cdc1\",\"jitter\":0.5,\"line\":{\"color\":\"#365b55\",\"width\":1},\"marker\":{\"color\":\"rgb(0, 0, 0)\",\"size\":2},\"name\":\"AAGIGILTV\",\"type\":\"box\",\"whiskerwidth\":0.2,\"x\":[0.9211197785689161,0.9131698240977242,0.9257239409210297,0.6900280404861228,0.9243801014454164,0.9179988363033895,0.9169995036209373,0.9252538600868498]},{\"boxpoints\":false,\"fillcolor\":\"#80cdc1\",\"jitter\":0.5,\"line\":{\"color\":\"#365b55\",\"width\":1},\"marker\":{\"color\":\"rgb(0, 0, 0)\",\"size\":2},\"name\":\"VLRDDLLEA\",\"type\":\"box\",\"whiskerwidth\":0.2,\"x\":[1.0]},{\"boxpoints\":false,\"fillcolor\":\"#80cdc1\",\"jitter\":0.5,\"line\":{\"color\":\"#365b55\",\"width\":1},\"marker\":{\"color\":\"rgb(0, 0, 0)\",\"size\":2},\"name\":\"ILKEPVHGV\",\"type\":\"box\",\"whiskerwidth\":0.2,\"x\":[0.6277137306338202,0.44102786626035917,0.43487539570615674,0.852693760416564,0.7866503617650056,0.3992426110196152,0.3537598248537984]},{\"boxpoints\":false,\"fillcolor\":\"#80cdc1\",\"jitter\":0.5,\"line\":{\"color\":\"#365b55\",\"width\":1},\"marker\":{\"color\":\"rgb(0, 0, 0)\",\"size\":2},\"name\":\"CINGVCWTV\",\"type\":\"box\",\"whiskerwidth\":0.2,\"x\":[0.8452257209823704,0.8524505018030724]},{\"boxpoints\":false,\"fillcolor\":\"#018571\",\"jitter\":0.5,\"line\":{\"color\":\"#052f29\",\"width\":1},\"marker\":{\"color\":\"rgb(0, 0, 0)\",\"size\":2},\"name\":\"LLFGYPVYV\",\"type\":\"box\",\"whiskerwidth\":0.2,\"x\":[0.22823706538068333,0.46406116967945754,0.9256272949313452,0.2941351663198588,0.5134301765597316,0.9605243866760025,0.17911394693674942,0.36276499574297427,0.9474752057014559,0.8943757951105019,0.9775058102648561,0.9755965588768026,0.8932028941200448,0.9748102418450837,0.08594392560231179,0.9253748319378836,0.707163966167329,0.8822930740328004,0.8263015157641443,0.6335742908518325,0.7170586746350298,0.844470961824834,0.7549623113513015,0.4262614109657038,0.28971706393428065]},{\"boxpoints\":false,\"fillcolor\":\"#018571\",\"jitter\":0.5,\"line\":{\"color\":\"#052f29\",\"width\":1},\"marker\":{\"color\":\"rgb(0, 0, 0)\",\"size\":2},\"name\":\"ALWGFFPVL\",\"type\":\"box\",\"whiskerwidth\":0.2,\"x\":[0.9165892512565622,0.6738776409174136,0.8516385439985799,0.7697826780143523,0.5550819682909109,0.5760811037366496,0.6732944777007459,0.5794814646798355,0.35677557420538264,0.370492072727751]},{\"boxpoints\":false,\"fillcolor\":\"#018571\",\"jitter\":0.5,\"line\":{\"color\":\"#052f29\",\"width\":1},\"marker\":{\"color\":\"rgb(0, 0, 0)\",\"size\":2},\"name\":\"FLPSDFFPSV\",\"type\":\"box\",\"whiskerwidth\":0.2,\"x\":[0.9001028918189499,0.34329115754939965,0.5970868137395096,0.8233041751725,0.9482694122017206]}],                        {\"boxgap\":0.15,\"boxgroupgap\":0.15,\"font\":{\"family\":\"Times New Roman\"},\"height\":450,\"paper_bgcolor\":\"rgba(0, 0, 0, 0)\",\"plot_bgcolor\":\"rgba(0, 0, 0, 0)\",\"showlegend\":false,\"template\":{\"data\":{\"bar\":[{\"error_x\":{\"color\":\"#2a3f5f\"},\"error_y\":{\"color\":\"#2a3f5f\"},\"marker\":{\"line\":{\"color\":\"#E5ECF6\",\"width\":0.5},\"pattern\":{\"fillmode\":\"overlay\",\"size\":10,\"solidity\":0.2}},\"type\":\"bar\"}],\"barpolar\":[{\"marker\":{\"line\":{\"color\":\"#E5ECF6\",\"width\":0.5},\"pattern\":{\"fillmode\":\"overlay\",\"size\":10,\"solidity\":0.2}},\"type\":\"barpolar\"}],\"carpet\":[{\"aaxis\":{\"endlinecolor\":\"#2a3f5f\",\"gridcolor\":\"white\",\"linecolor\":\"white\",\"minorgridcolor\":\"white\",\"startlinecolor\":\"#2a3f5f\"},\"baxis\":{\"endlinecolor\":\"#2a3f5f\",\"gridcolor\":\"white\",\"linecolor\":\"white\",\"minorgridcolor\":\"white\",\"startlinecolor\":\"#2a3f5f\"},\"type\":\"carpet\"}],\"choropleth\":[{\"colorbar\":{\"outlinewidth\":0,\"ticks\":\"\"},\"type\":\"choropleth\"}],\"contour\":[{\"colorbar\":{\"outlinewidth\":0,\"ticks\":\"\"},\"colorscale\":[[0.0,\"#0d0887\"],[0.1111111111111111,\"#46039f\"],[0.2222222222222222,\"#7201a8\"],[0.3333333333333333,\"#9c179e\"],[0.4444444444444444,\"#bd3786\"],[0.5555555555555556,\"#d8576b\"],[0.6666666666666666,\"#ed7953\"],[0.7777777777777778,\"#fb9f3a\"],[0.8888888888888888,\"#fdca26\"],[1.0,\"#f0f921\"]],\"type\":\"contour\"}],\"contourcarpet\":[{\"colorbar\":{\"outlinewidth\":0,\"ticks\":\"\"},\"type\":\"contourcarpet\"}],\"heatmap\":[{\"colorbar\":{\"outlinewidth\":0,\"ticks\":\"\"},\"colorscale\":[[0.0,\"#0d0887\"],[0.1111111111111111,\"#46039f\"],[0.2222222222222222,\"#7201a8\"],[0.3333333333333333,\"#9c179e\"],[0.4444444444444444,\"#bd3786\"],[0.5555555555555556,\"#d8576b\"],[0.6666666666666666,\"#ed7953\"],[0.7777777777777778,\"#fb9f3a\"],[0.8888888888888888,\"#fdca26\"],[1.0,\"#f0f921\"]],\"type\":\"heatmap\"}],\"heatmapgl\":[{\"colorbar\":{\"outlinewidth\":0,\"ticks\":\"\"},\"colorscale\":[[0.0,\"#0d0887\"],[0.1111111111111111,\"#46039f\"],[0.2222222222222222,\"#7201a8\"],[0.3333333333333333,\"#9c179e\"],[0.4444444444444444,\"#bd3786\"],[0.5555555555555556,\"#d8576b\"],[0.6666666666666666,\"#ed7953\"],[0.7777777777777778,\"#fb9f3a\"],[0.8888888888888888,\"#fdca26\"],[1.0,\"#f0f921\"]],\"type\":\"heatmapgl\"}],\"histogram\":[{\"marker\":{\"pattern\":{\"fillmode\":\"overlay\",\"size\":10,\"solidity\":0.2}},\"type\":\"histogram\"}],\"histogram2d\":[{\"colorbar\":{\"outlinewidth\":0,\"ticks\":\"\"},\"colorscale\":[[0.0,\"#0d0887\"],[0.1111111111111111,\"#46039f\"],[0.2222222222222222,\"#7201a8\"],[0.3333333333333333,\"#9c179e\"],[0.4444444444444444,\"#bd3786\"],[0.5555555555555556,\"#d8576b\"],[0.6666666666666666,\"#ed7953\"],[0.7777777777777778,\"#fb9f3a\"],[0.8888888888888888,\"#fdca26\"],[1.0,\"#f0f921\"]],\"type\":\"histogram2d\"}],\"histogram2dcontour\":[{\"colorbar\":{\"outlinewidth\":0,\"ticks\":\"\"},\"colorscale\":[[0.0,\"#0d0887\"],[0.1111111111111111,\"#46039f\"],[0.2222222222222222,\"#7201a8\"],[0.3333333333333333,\"#9c179e\"],[0.4444444444444444,\"#bd3786\"],[0.5555555555555556,\"#d8576b\"],[0.6666666666666666,\"#ed7953\"],[0.7777777777777778,\"#fb9f3a\"],[0.8888888888888888,\"#fdca26\"],[1.0,\"#f0f921\"]],\"type\":\"histogram2dcontour\"}],\"mesh3d\":[{\"colorbar\":{\"outlinewidth\":0,\"ticks\":\"\"},\"type\":\"mesh3d\"}],\"parcoords\":[{\"line\":{\"colorbar\":{\"outlinewidth\":0,\"ticks\":\"\"}},\"type\":\"parcoords\"}],\"pie\":[{\"automargin\":true,\"type\":\"pie\"}],\"scatter\":[{\"marker\":{\"colorbar\":{\"outlinewidth\":0,\"ticks\":\"\"}},\"type\":\"scatter\"}],\"scatter3d\":[{\"line\":{\"colorbar\":{\"outlinewidth\":0,\"ticks\":\"\"}},\"marker\":{\"colorbar\":{\"outlinewidth\":0,\"ticks\":\"\"}},\"type\":\"scatter3d\"}],\"scattercarpet\":[{\"marker\":{\"colorbar\":{\"outlinewidth\":0,\"ticks\":\"\"}},\"type\":\"scattercarpet\"}],\"scattergeo\":[{\"marker\":{\"colorbar\":{\"outlinewidth\":0,\"ticks\":\"\"}},\"type\":\"scattergeo\"}],\"scattergl\":[{\"marker\":{\"colorbar\":{\"outlinewidth\":0,\"ticks\":\"\"}},\"type\":\"scattergl\"}],\"scattermapbox\":[{\"marker\":{\"colorbar\":{\"outlinewidth\":0,\"ticks\":\"\"}},\"type\":\"scattermapbox\"}],\"scatterpolar\":[{\"marker\":{\"colorbar\":{\"outlinewidth\":0,\"ticks\":\"\"}},\"type\":\"scatterpolar\"}],\"scatterpolargl\":[{\"marker\":{\"colorbar\":{\"outlinewidth\":0,\"ticks\":\"\"}},\"type\":\"scatterpolargl\"}],\"scatterternary\":[{\"marker\":{\"colorbar\":{\"outlinewidth\":0,\"ticks\":\"\"}},\"type\":\"scatterternary\"}],\"surface\":[{\"colorbar\":{\"outlinewidth\":0,\"ticks\":\"\"},\"colorscale\":[[0.0,\"#0d0887\"],[0.1111111111111111,\"#46039f\"],[0.2222222222222222,\"#7201a8\"],[0.3333333333333333,\"#9c179e\"],[0.4444444444444444,\"#bd3786\"],[0.5555555555555556,\"#d8576b\"],[0.6666666666666666,\"#ed7953\"],[0.7777777777777778,\"#fb9f3a\"],[0.8888888888888888,\"#fdca26\"],[1.0,\"#f0f921\"]],\"type\":\"surface\"}],\"table\":[{\"cells\":{\"fill\":{\"color\":\"#EBF0F8\"},\"line\":{\"color\":\"white\"}},\"header\":{\"fill\":{\"color\":\"#C8D4E3\"},\"line\":{\"color\":\"white\"}},\"type\":\"table\"}]},\"layout\":{\"annotationdefaults\":{\"arrowcolor\":\"#2a3f5f\",\"arrowhead\":0,\"arrowwidth\":1},\"autotypenumbers\":\"strict\",\"coloraxis\":{\"colorbar\":{\"outlinewidth\":0,\"ticks\":\"\"}},\"colorscale\":{\"diverging\":[[0,\"#8e0152\"],[0.1,\"#c51b7d\"],[0.2,\"#de77ae\"],[0.3,\"#f1b6da\"],[0.4,\"#fde0ef\"],[0.5,\"#f7f7f7\"],[0.6,\"#e6f5d0\"],[0.7,\"#b8e186\"],[0.8,\"#7fbc41\"],[0.9,\"#4d9221\"],[1,\"#276419\"]],\"sequential\":[[0.0,\"#0d0887\"],[0.1111111111111111,\"#46039f\"],[0.2222222222222222,\"#7201a8\"],[0.3333333333333333,\"#9c179e\"],[0.4444444444444444,\"#bd3786\"],[0.5555555555555556,\"#d8576b\"],[0.6666666666666666,\"#ed7953\"],[0.7777777777777778,\"#fb9f3a\"],[0.8888888888888888,\"#fdca26\"],[1.0,\"#f0f921\"]],\"sequentialminus\":[[0.0,\"#0d0887\"],[0.1111111111111111,\"#46039f\"],[0.2222222222222222,\"#7201a8\"],[0.3333333333333333,\"#9c179e\"],[0.4444444444444444,\"#bd3786\"],[0.5555555555555556,\"#d8576b\"],[0.6666666666666666,\"#ed7953\"],[0.7777777777777778,\"#fb9f3a\"],[0.8888888888888888,\"#fdca26\"],[1.0,\"#f0f921\"]]},\"colorway\":[\"#636efa\",\"#EF553B\",\"#00cc96\",\"#ab63fa\",\"#FFA15A\",\"#19d3f3\",\"#FF6692\",\"#B6E880\",\"#FF97FF\",\"#FECB52\"],\"font\":{\"color\":\"#2a3f5f\"},\"geo\":{\"bgcolor\":\"white\",\"lakecolor\":\"white\",\"landcolor\":\"#E5ECF6\",\"showlakes\":true,\"showland\":true,\"subunitcolor\":\"white\"},\"hoverlabel\":{\"align\":\"left\"},\"hovermode\":\"closest\",\"mapbox\":{\"style\":\"light\"},\"paper_bgcolor\":\"white\",\"plot_bgcolor\":\"#E5ECF6\",\"polar\":{\"angularaxis\":{\"gridcolor\":\"white\",\"linecolor\":\"white\",\"ticks\":\"\"},\"bgcolor\":\"#E5ECF6\",\"radialaxis\":{\"gridcolor\":\"white\",\"linecolor\":\"white\",\"ticks\":\"\"}},\"scene\":{\"xaxis\":{\"backgroundcolor\":\"#E5ECF6\",\"gridcolor\":\"white\",\"gridwidth\":2,\"linecolor\":\"white\",\"showbackground\":true,\"ticks\":\"\",\"zerolinecolor\":\"white\"},\"yaxis\":{\"backgroundcolor\":\"#E5ECF6\",\"gridcolor\":\"white\",\"gridwidth\":2,\"linecolor\":\"white\",\"showbackground\":true,\"ticks\":\"\",\"zerolinecolor\":\"white\"},\"zaxis\":{\"backgroundcolor\":\"#E5ECF6\",\"gridcolor\":\"white\",\"gridwidth\":2,\"linecolor\":\"white\",\"showbackground\":true,\"ticks\":\"\",\"zerolinecolor\":\"white\"}},\"shapedefaults\":{\"line\":{\"color\":\"#2a3f5f\"}},\"ternary\":{\"aaxis\":{\"gridcolor\":\"white\",\"linecolor\":\"white\",\"ticks\":\"\"},\"baxis\":{\"gridcolor\":\"white\",\"linecolor\":\"white\",\"ticks\":\"\"},\"bgcolor\":\"#E5ECF6\",\"caxis\":{\"gridcolor\":\"white\",\"linecolor\":\"white\",\"ticks\":\"\"}},\"title\":{\"x\":0.05},\"xaxis\":{\"automargin\":true,\"gridcolor\":\"white\",\"linecolor\":\"white\",\"ticks\":\"\",\"title\":{\"standoff\":15},\"zerolinecolor\":\"white\",\"zerolinewidth\":2},\"yaxis\":{\"automargin\":true,\"gridcolor\":\"white\",\"linecolor\":\"white\",\"ticks\":\"\",\"title\":{\"standoff\":15},\"zerolinecolor\":\"white\",\"zerolinewidth\":2}}},\"width\":350,\"xaxis\":{\"autorange\":\"reversed\",\"linecolor\":\"Black\",\"showline\":true,\"title\":{\"text\":\"GradDock\"},\"zeroline\":true},\"yaxis\":{\"dtick\":0.1,\"linecolor\":\"Black\",\"showline\":true,\"tickfont\":{\"size\":10},\"title\":{\"text\":\"Peptide\"},\"zeroline\":true}},                        {\"responsive\": true}                    ).then(function(){\n",
       "                            \n",
       "var gd = document.getElementById('343a40f9-9164-4b2f-bc34-8eed1a4de4d7');\n",
       "var x = new MutationObserver(function (mutations, observer) {{\n",
       "        var display = window.getComputedStyle(gd).display;\n",
       "        if (!display || display === 'none') {{\n",
       "            console.log([gd, 'removed!']);\n",
       "            Plotly.purge(gd);\n",
       "            observer.disconnect();\n",
       "        }}\n",
       "}});\n",
       "\n",
       "// Listen for the removal of the full notebook cells\n",
       "var notebookContainer = gd.closest('#notebook-container');\n",
       "if (notebookContainer) {{\n",
       "    x.observe(notebookContainer, {childList: true});\n",
       "}}\n",
       "\n",
       "// Listen for the clearing of the current output cell\n",
       "var outputEl = gd.closest('.output');\n",
       "if (outputEl) {{\n",
       "    x.observe(outputEl, {childList: true});\n",
       "}}\n",
       "\n",
       "                        })                };                });            </script>        </div>"
      ]
     },
     "metadata": {},
     "output_type": "display_data"
    },
    {
     "data": {
      "application/vnd.plotly.v1+json": {
       "config": {
        "linkText": "Export to plot.ly",
        "plotlyServerURL": "https://plot.ly",
        "showLink": false
       },
       "data": [
        {
         "boxpoints": false,
         "fillcolor": "#a6611a",
         "jitter": 0.5,
         "line": {
          "color": "#59340e",
          "width": 1
         },
         "marker": {
          "color": "rgb(0, 0, 0)",
          "size": 2
         },
         "name": "DAKRNSKSL",
         "type": "box",
         "whiskerwidth": 0.2,
         "x": [
          0
         ]
        },
        {
         "boxpoints": false,
         "fillcolor": "#a6611a",
         "jitter": 0.5,
         "line": {
          "color": "#59340e",
          "width": 1
         },
         "marker": {
          "color": "rgb(0, 0, 0)",
          "size": 2
         },
         "name": "EIDVSEVKT",
         "type": "box",
         "whiskerwidth": 0.2,
         "x": [
          0.2764853123122269
         ]
        },
        {
         "boxpoints": false,
         "fillcolor": "#a6611a",
         "jitter": 0.5,
         "line": {
          "color": "#59340e",
          "width": 1
         },
         "marker": {
          "color": "rgb(0, 0, 0)",
          "size": 2
         },
         "name": "ATKRYPGVM",
         "type": "box",
         "whiskerwidth": 0.2,
         "x": [
          0.16635706198722874
         ]
        },
        {
         "boxpoints": false,
         "fillcolor": "#a6611a",
         "jitter": 0.5,
         "line": {
          "color": "#59340e",
          "width": 1
         },
         "marker": {
          "color": "rgb(0, 0, 0)",
          "size": 2
         },
         "name": "AAEQRRSTI",
         "type": "box",
         "whiskerwidth": 0.2,
         "x": [
          0.1352435388236423
         ]
        },
        {
         "boxpoints": false,
         "fillcolor": "#a6611a",
         "jitter": 0.5,
         "line": {
          "color": "#59340e",
          "width": 1
         },
         "marker": {
          "color": "rgb(0, 0, 0)",
          "size": 2
         },
         "name": "ETLNEYKQL",
         "type": "box",
         "whiskerwidth": 0.2,
         "x": [
          0.44877902016915816
         ]
        },
        {
         "boxpoints": false,
         "fillcolor": "#dfc27d",
         "jitter": 0.5,
         "line": {
          "color": "#756438",
          "width": 1
         },
         "marker": {
          "color": "rgb(0, 0, 0)",
          "size": 2
         },
         "name": "SLLMWITQC",
         "type": "box",
         "whiskerwidth": 0.2,
         "x": [
          0.6761611550631378,
          0.6794396988659591,
          0.6718704990527454,
          0.6596937720337184,
          0.6564459775415511,
          0.6358837962810377,
          0.6657105374415915,
          0.6726686285207791,
          0.7719342565310386
         ]
        },
        {
         "boxpoints": false,
         "fillcolor": "#dfc27d",
         "jitter": 0.5,
         "line": {
          "color": "#756438",
          "width": 1
         },
         "marker": {
          "color": "rgb(0, 0, 0)",
          "size": 2
         },
         "name": "EAAGIGILTV",
         "type": "box",
         "whiskerwidth": 0.2,
         "x": [
          0.4931642524024252,
          0.5131329990194937,
          0.521197343890777
         ]
        },
        {
         "boxpoints": false,
         "fillcolor": "#dfc27d",
         "jitter": 0.5,
         "line": {
          "color": "#756438",
          "width": 1
         },
         "marker": {
          "color": "rgb(0, 0, 0)",
          "size": 2
         },
         "name": "RGPGRAFVTI",
         "type": "box",
         "whiskerwidth": 0.2,
         "x": [
          0.5469892524847089,
          0.535135979358105,
          0.4976541026275827,
          0.5086723651481542,
          0.45711632153120385,
          0.5047892051343774
         ]
        },
        {
         "boxpoints": false,
         "fillcolor": "#dfc27d",
         "jitter": 0.5,
         "line": {
          "color": "#756438",
          "width": 1
         },
         "marker": {
          "color": "rgb(0, 0, 0)",
          "size": 2
         },
         "name": "RQISQDVKL",
         "type": "box",
         "whiskerwidth": 0.2,
         "x": [
          0.4323043330512843
         ]
        },
        {
         "boxpoints": false,
         "fillcolor": "#80cdc1",
         "jitter": 0.5,
         "line": {
          "color": "#365b55",
          "width": 1
         },
         "marker": {
          "color": "rgb(0, 0, 0)",
          "size": 2
         },
         "name": "AAGIGILTV",
         "type": "box",
         "whiskerwidth": 0.2,
         "x": [
          0.4748856357841541,
          0.5171784721100371,
          0.47317548717255536,
          0.507930594387331,
          0.5118502748433803,
          0.4970419118063782,
          0.49299562715045103,
          0.5067506684931697
         ]
        },
        {
         "boxpoints": false,
         "fillcolor": "#80cdc1",
         "jitter": 0.5,
         "line": {
          "color": "#365b55",
          "width": 1
         },
         "marker": {
          "color": "rgb(0, 0, 0)",
          "size": 2
         },
         "name": "VLRDDLLEA",
         "type": "box",
         "whiskerwidth": 0.2,
         "x": [
          0.5432103335357888
         ]
        },
        {
         "boxpoints": false,
         "fillcolor": "#80cdc1",
         "jitter": 0.5,
         "line": {
          "color": "#365b55",
          "width": 1
         },
         "marker": {
          "color": "rgb(0, 0, 0)",
          "size": 2
         },
         "name": "ILKEPVHGV",
         "type": "box",
         "whiskerwidth": 0.2,
         "x": [
          0.4817093677053516,
          0.5195426522470735,
          0.5296560193646714,
          0.5483960559906172,
          0.4888157047279861,
          0.5356634066836647,
          0.5288349857180273
         ]
        },
        {
         "boxpoints": false,
         "fillcolor": "#80cdc1",
         "jitter": 0.5,
         "line": {
          "color": "#365b55",
          "width": 1
         },
         "marker": {
          "color": "rgb(0, 0, 0)",
          "size": 2
         },
         "name": "CINGVCWTV",
         "type": "box",
         "whiskerwidth": 0.2,
         "x": [
          0.7538020823775836,
          0.7752322779030719
         ]
        },
        {
         "boxpoints": false,
         "fillcolor": "#018571",
         "jitter": 0.5,
         "line": {
          "color": "#052f29",
          "width": 1
         },
         "marker": {
          "color": "rgb(0, 0, 0)",
          "size": 2
         },
         "name": "LLFGYPVYV",
         "type": "box",
         "whiskerwidth": 0.2,
         "x": [
          0.8702606328704089,
          0.8816174985039018,
          0.9257426691186161,
          0.9676015884859431,
          0.9689471638923379,
          0.9158078463854613,
          0.9447376274490169,
          0.937070498746154,
          0.9063296644416099,
          0.9090505726518066,
          0.9278823161661255,
          0.9248549969365661,
          0.9268509067372055,
          0.9285588010005158,
          0.8899677849120887,
          0.8972828745862312,
          0.8183512877896967,
          0.8154186511882512,
          0.8093564381188835,
          0.8126436386191324,
          0.8381702555064824,
          0.8594314650842705,
          0.909244085908885,
          0.8948696398304388,
          0.8954276361187895
         ]
        },
        {
         "boxpoints": false,
         "fillcolor": "#018571",
         "jitter": 0.5,
         "line": {
          "color": "#052f29",
          "width": 1
         },
         "marker": {
          "color": "rgb(0, 0, 0)",
          "size": 2
         },
         "name": "ALWGFFPVL",
         "type": "box",
         "whiskerwidth": 0.2,
         "x": [
          0.9716727611469745,
          0.9673797606143623,
          0.9777881768359491,
          0.9726798236143794,
          0.9275093567852886,
          0.9222513148373674,
          1,
          0.9929386597692025,
          0.9763028318356721,
          0.9830501864368578
         ]
        },
        {
         "boxpoints": false,
         "fillcolor": "#018571",
         "jitter": 0.5,
         "line": {
          "color": "#052f29",
          "width": 1
         },
         "marker": {
          "color": "rgb(0, 0, 0)",
          "size": 2
         },
         "name": "FLPSDFFPSV",
         "type": "box",
         "whiskerwidth": 0.2,
         "x": [
          0.9445446552355278,
          0.9688559078736225,
          0.8996414639395124,
          0.9009327546391219,
          0.95459021155661
         ]
        }
       ],
       "layout": {
        "boxgap": 0.15,
        "boxgroupgap": 0.15,
        "font": {
         "family": "Times New Roman"
        },
        "height": 450,
        "paper_bgcolor": "rgba(0, 0, 0, 0)",
        "plot_bgcolor": "rgba(0, 0, 0, 0)",
        "showlegend": false,
        "template": {
         "data": {
          "bar": [
           {
            "error_x": {
             "color": "#2a3f5f"
            },
            "error_y": {
             "color": "#2a3f5f"
            },
            "marker": {
             "line": {
              "color": "#E5ECF6",
              "width": 0.5
             },
             "pattern": {
              "fillmode": "overlay",
              "size": 10,
              "solidity": 0.2
             }
            },
            "type": "bar"
           }
          ],
          "barpolar": [
           {
            "marker": {
             "line": {
              "color": "#E5ECF6",
              "width": 0.5
             },
             "pattern": {
              "fillmode": "overlay",
              "size": 10,
              "solidity": 0.2
             }
            },
            "type": "barpolar"
           }
          ],
          "carpet": [
           {
            "aaxis": {
             "endlinecolor": "#2a3f5f",
             "gridcolor": "white",
             "linecolor": "white",
             "minorgridcolor": "white",
             "startlinecolor": "#2a3f5f"
            },
            "baxis": {
             "endlinecolor": "#2a3f5f",
             "gridcolor": "white",
             "linecolor": "white",
             "minorgridcolor": "white",
             "startlinecolor": "#2a3f5f"
            },
            "type": "carpet"
           }
          ],
          "choropleth": [
           {
            "colorbar": {
             "outlinewidth": 0,
             "ticks": ""
            },
            "type": "choropleth"
           }
          ],
          "contour": [
           {
            "colorbar": {
             "outlinewidth": 0,
             "ticks": ""
            },
            "colorscale": [
             [
              0,
              "#0d0887"
             ],
             [
              0.1111111111111111,
              "#46039f"
             ],
             [
              0.2222222222222222,
              "#7201a8"
             ],
             [
              0.3333333333333333,
              "#9c179e"
             ],
             [
              0.4444444444444444,
              "#bd3786"
             ],
             [
              0.5555555555555556,
              "#d8576b"
             ],
             [
              0.6666666666666666,
              "#ed7953"
             ],
             [
              0.7777777777777778,
              "#fb9f3a"
             ],
             [
              0.8888888888888888,
              "#fdca26"
             ],
             [
              1,
              "#f0f921"
             ]
            ],
            "type": "contour"
           }
          ],
          "contourcarpet": [
           {
            "colorbar": {
             "outlinewidth": 0,
             "ticks": ""
            },
            "type": "contourcarpet"
           }
          ],
          "heatmap": [
           {
            "colorbar": {
             "outlinewidth": 0,
             "ticks": ""
            },
            "colorscale": [
             [
              0,
              "#0d0887"
             ],
             [
              0.1111111111111111,
              "#46039f"
             ],
             [
              0.2222222222222222,
              "#7201a8"
             ],
             [
              0.3333333333333333,
              "#9c179e"
             ],
             [
              0.4444444444444444,
              "#bd3786"
             ],
             [
              0.5555555555555556,
              "#d8576b"
             ],
             [
              0.6666666666666666,
              "#ed7953"
             ],
             [
              0.7777777777777778,
              "#fb9f3a"
             ],
             [
              0.8888888888888888,
              "#fdca26"
             ],
             [
              1,
              "#f0f921"
             ]
            ],
            "type": "heatmap"
           }
          ],
          "heatmapgl": [
           {
            "colorbar": {
             "outlinewidth": 0,
             "ticks": ""
            },
            "colorscale": [
             [
              0,
              "#0d0887"
             ],
             [
              0.1111111111111111,
              "#46039f"
             ],
             [
              0.2222222222222222,
              "#7201a8"
             ],
             [
              0.3333333333333333,
              "#9c179e"
             ],
             [
              0.4444444444444444,
              "#bd3786"
             ],
             [
              0.5555555555555556,
              "#d8576b"
             ],
             [
              0.6666666666666666,
              "#ed7953"
             ],
             [
              0.7777777777777778,
              "#fb9f3a"
             ],
             [
              0.8888888888888888,
              "#fdca26"
             ],
             [
              1,
              "#f0f921"
             ]
            ],
            "type": "heatmapgl"
           }
          ],
          "histogram": [
           {
            "marker": {
             "pattern": {
              "fillmode": "overlay",
              "size": 10,
              "solidity": 0.2
             }
            },
            "type": "histogram"
           }
          ],
          "histogram2d": [
           {
            "colorbar": {
             "outlinewidth": 0,
             "ticks": ""
            },
            "colorscale": [
             [
              0,
              "#0d0887"
             ],
             [
              0.1111111111111111,
              "#46039f"
             ],
             [
              0.2222222222222222,
              "#7201a8"
             ],
             [
              0.3333333333333333,
              "#9c179e"
             ],
             [
              0.4444444444444444,
              "#bd3786"
             ],
             [
              0.5555555555555556,
              "#d8576b"
             ],
             [
              0.6666666666666666,
              "#ed7953"
             ],
             [
              0.7777777777777778,
              "#fb9f3a"
             ],
             [
              0.8888888888888888,
              "#fdca26"
             ],
             [
              1,
              "#f0f921"
             ]
            ],
            "type": "histogram2d"
           }
          ],
          "histogram2dcontour": [
           {
            "colorbar": {
             "outlinewidth": 0,
             "ticks": ""
            },
            "colorscale": [
             [
              0,
              "#0d0887"
             ],
             [
              0.1111111111111111,
              "#46039f"
             ],
             [
              0.2222222222222222,
              "#7201a8"
             ],
             [
              0.3333333333333333,
              "#9c179e"
             ],
             [
              0.4444444444444444,
              "#bd3786"
             ],
             [
              0.5555555555555556,
              "#d8576b"
             ],
             [
              0.6666666666666666,
              "#ed7953"
             ],
             [
              0.7777777777777778,
              "#fb9f3a"
             ],
             [
              0.8888888888888888,
              "#fdca26"
             ],
             [
              1,
              "#f0f921"
             ]
            ],
            "type": "histogram2dcontour"
           }
          ],
          "mesh3d": [
           {
            "colorbar": {
             "outlinewidth": 0,
             "ticks": ""
            },
            "type": "mesh3d"
           }
          ],
          "parcoords": [
           {
            "line": {
             "colorbar": {
              "outlinewidth": 0,
              "ticks": ""
             }
            },
            "type": "parcoords"
           }
          ],
          "pie": [
           {
            "automargin": true,
            "type": "pie"
           }
          ],
          "scatter": [
           {
            "marker": {
             "colorbar": {
              "outlinewidth": 0,
              "ticks": ""
             }
            },
            "type": "scatter"
           }
          ],
          "scatter3d": [
           {
            "line": {
             "colorbar": {
              "outlinewidth": 0,
              "ticks": ""
             }
            },
            "marker": {
             "colorbar": {
              "outlinewidth": 0,
              "ticks": ""
             }
            },
            "type": "scatter3d"
           }
          ],
          "scattercarpet": [
           {
            "marker": {
             "colorbar": {
              "outlinewidth": 0,
              "ticks": ""
             }
            },
            "type": "scattercarpet"
           }
          ],
          "scattergeo": [
           {
            "marker": {
             "colorbar": {
              "outlinewidth": 0,
              "ticks": ""
             }
            },
            "type": "scattergeo"
           }
          ],
          "scattergl": [
           {
            "marker": {
             "colorbar": {
              "outlinewidth": 0,
              "ticks": ""
             }
            },
            "type": "scattergl"
           }
          ],
          "scattermapbox": [
           {
            "marker": {
             "colorbar": {
              "outlinewidth": 0,
              "ticks": ""
             }
            },
            "type": "scattermapbox"
           }
          ],
          "scatterpolar": [
           {
            "marker": {
             "colorbar": {
              "outlinewidth": 0,
              "ticks": ""
             }
            },
            "type": "scatterpolar"
           }
          ],
          "scatterpolargl": [
           {
            "marker": {
             "colorbar": {
              "outlinewidth": 0,
              "ticks": ""
             }
            },
            "type": "scatterpolargl"
           }
          ],
          "scatterternary": [
           {
            "marker": {
             "colorbar": {
              "outlinewidth": 0,
              "ticks": ""
             }
            },
            "type": "scatterternary"
           }
          ],
          "surface": [
           {
            "colorbar": {
             "outlinewidth": 0,
             "ticks": ""
            },
            "colorscale": [
             [
              0,
              "#0d0887"
             ],
             [
              0.1111111111111111,
              "#46039f"
             ],
             [
              0.2222222222222222,
              "#7201a8"
             ],
             [
              0.3333333333333333,
              "#9c179e"
             ],
             [
              0.4444444444444444,
              "#bd3786"
             ],
             [
              0.5555555555555556,
              "#d8576b"
             ],
             [
              0.6666666666666666,
              "#ed7953"
             ],
             [
              0.7777777777777778,
              "#fb9f3a"
             ],
             [
              0.8888888888888888,
              "#fdca26"
             ],
             [
              1,
              "#f0f921"
             ]
            ],
            "type": "surface"
           }
          ],
          "table": [
           {
            "cells": {
             "fill": {
              "color": "#EBF0F8"
             },
             "line": {
              "color": "white"
             }
            },
            "header": {
             "fill": {
              "color": "#C8D4E3"
             },
             "line": {
              "color": "white"
             }
            },
            "type": "table"
           }
          ]
         },
         "layout": {
          "annotationdefaults": {
           "arrowcolor": "#2a3f5f",
           "arrowhead": 0,
           "arrowwidth": 1
          },
          "autotypenumbers": "strict",
          "coloraxis": {
           "colorbar": {
            "outlinewidth": 0,
            "ticks": ""
           }
          },
          "colorscale": {
           "diverging": [
            [
             0,
             "#8e0152"
            ],
            [
             0.1,
             "#c51b7d"
            ],
            [
             0.2,
             "#de77ae"
            ],
            [
             0.3,
             "#f1b6da"
            ],
            [
             0.4,
             "#fde0ef"
            ],
            [
             0.5,
             "#f7f7f7"
            ],
            [
             0.6,
             "#e6f5d0"
            ],
            [
             0.7,
             "#b8e186"
            ],
            [
             0.8,
             "#7fbc41"
            ],
            [
             0.9,
             "#4d9221"
            ],
            [
             1,
             "#276419"
            ]
           ],
           "sequential": [
            [
             0,
             "#0d0887"
            ],
            [
             0.1111111111111111,
             "#46039f"
            ],
            [
             0.2222222222222222,
             "#7201a8"
            ],
            [
             0.3333333333333333,
             "#9c179e"
            ],
            [
             0.4444444444444444,
             "#bd3786"
            ],
            [
             0.5555555555555556,
             "#d8576b"
            ],
            [
             0.6666666666666666,
             "#ed7953"
            ],
            [
             0.7777777777777778,
             "#fb9f3a"
            ],
            [
             0.8888888888888888,
             "#fdca26"
            ],
            [
             1,
             "#f0f921"
            ]
           ],
           "sequentialminus": [
            [
             0,
             "#0d0887"
            ],
            [
             0.1111111111111111,
             "#46039f"
            ],
            [
             0.2222222222222222,
             "#7201a8"
            ],
            [
             0.3333333333333333,
             "#9c179e"
            ],
            [
             0.4444444444444444,
             "#bd3786"
            ],
            [
             0.5555555555555556,
             "#d8576b"
            ],
            [
             0.6666666666666666,
             "#ed7953"
            ],
            [
             0.7777777777777778,
             "#fb9f3a"
            ],
            [
             0.8888888888888888,
             "#fdca26"
            ],
            [
             1,
             "#f0f921"
            ]
           ]
          },
          "colorway": [
           "#636efa",
           "#EF553B",
           "#00cc96",
           "#ab63fa",
           "#FFA15A",
           "#19d3f3",
           "#FF6692",
           "#B6E880",
           "#FF97FF",
           "#FECB52"
          ],
          "font": {
           "color": "#2a3f5f"
          },
          "geo": {
           "bgcolor": "white",
           "lakecolor": "white",
           "landcolor": "#E5ECF6",
           "showlakes": true,
           "showland": true,
           "subunitcolor": "white"
          },
          "hoverlabel": {
           "align": "left"
          },
          "hovermode": "closest",
          "mapbox": {
           "style": "light"
          },
          "paper_bgcolor": "white",
          "plot_bgcolor": "#E5ECF6",
          "polar": {
           "angularaxis": {
            "gridcolor": "white",
            "linecolor": "white",
            "ticks": ""
           },
           "bgcolor": "#E5ECF6",
           "radialaxis": {
            "gridcolor": "white",
            "linecolor": "white",
            "ticks": ""
           }
          },
          "scene": {
           "xaxis": {
            "backgroundcolor": "#E5ECF6",
            "gridcolor": "white",
            "gridwidth": 2,
            "linecolor": "white",
            "showbackground": true,
            "ticks": "",
            "zerolinecolor": "white"
           },
           "yaxis": {
            "backgroundcolor": "#E5ECF6",
            "gridcolor": "white",
            "gridwidth": 2,
            "linecolor": "white",
            "showbackground": true,
            "ticks": "",
            "zerolinecolor": "white"
           },
           "zaxis": {
            "backgroundcolor": "#E5ECF6",
            "gridcolor": "white",
            "gridwidth": 2,
            "linecolor": "white",
            "showbackground": true,
            "ticks": "",
            "zerolinecolor": "white"
           }
          },
          "shapedefaults": {
           "line": {
            "color": "#2a3f5f"
           }
          },
          "ternary": {
           "aaxis": {
            "gridcolor": "white",
            "linecolor": "white",
            "ticks": ""
           },
           "baxis": {
            "gridcolor": "white",
            "linecolor": "white",
            "ticks": ""
           },
           "bgcolor": "#E5ECF6",
           "caxis": {
            "gridcolor": "white",
            "linecolor": "white",
            "ticks": ""
           }
          },
          "title": {
           "x": 0.05
          },
          "xaxis": {
           "automargin": true,
           "gridcolor": "white",
           "linecolor": "white",
           "ticks": "",
           "title": {
            "standoff": 15
           },
           "zerolinecolor": "white",
           "zerolinewidth": 2
          },
          "yaxis": {
           "automargin": true,
           "gridcolor": "white",
           "linecolor": "white",
           "ticks": "",
           "title": {
            "standoff": 15
           },
           "zerolinecolor": "white",
           "zerolinewidth": 2
          }
         }
        },
        "width": 350,
        "xaxis": {
         "autorange": "reversed",
         "linecolor": "Black",
         "showline": true,
         "title": {
          "text": "Dope"
         },
         "zeroline": true
        },
        "yaxis": {
         "dtick": 0.1,
         "linecolor": "Black",
         "showline": true,
         "tickfont": {
          "size": 10
         },
         "title": {
          "text": "Peptide"
         },
         "zeroline": true
        }
       }
      },
      "text/html": [
       "<div>                            <div id=\"021c59fa-f77f-4993-8193-5913084ec1c1\" class=\"plotly-graph-div\" style=\"height:450px; width:350px;\"></div>            <script type=\"text/javascript\">                require([\"plotly\"], function(Plotly) {                    window.PLOTLYENV=window.PLOTLYENV || {};                                    if (document.getElementById(\"021c59fa-f77f-4993-8193-5913084ec1c1\")) {                    Plotly.newPlot(                        \"021c59fa-f77f-4993-8193-5913084ec1c1\",                        [{\"boxpoints\":false,\"fillcolor\":\"#a6611a\",\"jitter\":0.5,\"line\":{\"color\":\"#59340e\",\"width\":1},\"marker\":{\"color\":\"rgb(0, 0, 0)\",\"size\":2},\"name\":\"DAKRNSKSL\",\"type\":\"box\",\"whiskerwidth\":0.2,\"x\":[0.0]},{\"boxpoints\":false,\"fillcolor\":\"#a6611a\",\"jitter\":0.5,\"line\":{\"color\":\"#59340e\",\"width\":1},\"marker\":{\"color\":\"rgb(0, 0, 0)\",\"size\":2},\"name\":\"EIDVSEVKT\",\"type\":\"box\",\"whiskerwidth\":0.2,\"x\":[0.2764853123122269]},{\"boxpoints\":false,\"fillcolor\":\"#a6611a\",\"jitter\":0.5,\"line\":{\"color\":\"#59340e\",\"width\":1},\"marker\":{\"color\":\"rgb(0, 0, 0)\",\"size\":2},\"name\":\"ATKRYPGVM\",\"type\":\"box\",\"whiskerwidth\":0.2,\"x\":[0.16635706198722874]},{\"boxpoints\":false,\"fillcolor\":\"#a6611a\",\"jitter\":0.5,\"line\":{\"color\":\"#59340e\",\"width\":1},\"marker\":{\"color\":\"rgb(0, 0, 0)\",\"size\":2},\"name\":\"AAEQRRSTI\",\"type\":\"box\",\"whiskerwidth\":0.2,\"x\":[0.1352435388236423]},{\"boxpoints\":false,\"fillcolor\":\"#a6611a\",\"jitter\":0.5,\"line\":{\"color\":\"#59340e\",\"width\":1},\"marker\":{\"color\":\"rgb(0, 0, 0)\",\"size\":2},\"name\":\"ETLNEYKQL\",\"type\":\"box\",\"whiskerwidth\":0.2,\"x\":[0.44877902016915816]},{\"boxpoints\":false,\"fillcolor\":\"#dfc27d\",\"jitter\":0.5,\"line\":{\"color\":\"#756438\",\"width\":1},\"marker\":{\"color\":\"rgb(0, 0, 0)\",\"size\":2},\"name\":\"SLLMWITQC\",\"type\":\"box\",\"whiskerwidth\":0.2,\"x\":[0.6761611550631378,0.6794396988659591,0.6718704990527454,0.6596937720337184,0.6564459775415511,0.6358837962810377,0.6657105374415915,0.6726686285207791,0.7719342565310386]},{\"boxpoints\":false,\"fillcolor\":\"#dfc27d\",\"jitter\":0.5,\"line\":{\"color\":\"#756438\",\"width\":1},\"marker\":{\"color\":\"rgb(0, 0, 0)\",\"size\":2},\"name\":\"EAAGIGILTV\",\"type\":\"box\",\"whiskerwidth\":0.2,\"x\":[0.4931642524024252,0.5131329990194937,0.521197343890777]},{\"boxpoints\":false,\"fillcolor\":\"#dfc27d\",\"jitter\":0.5,\"line\":{\"color\":\"#756438\",\"width\":1},\"marker\":{\"color\":\"rgb(0, 0, 0)\",\"size\":2},\"name\":\"RGPGRAFVTI\",\"type\":\"box\",\"whiskerwidth\":0.2,\"x\":[0.5469892524847089,0.535135979358105,0.4976541026275827,0.5086723651481542,0.45711632153120385,0.5047892051343774]},{\"boxpoints\":false,\"fillcolor\":\"#dfc27d\",\"jitter\":0.5,\"line\":{\"color\":\"#756438\",\"width\":1},\"marker\":{\"color\":\"rgb(0, 0, 0)\",\"size\":2},\"name\":\"RQISQDVKL\",\"type\":\"box\",\"whiskerwidth\":0.2,\"x\":[0.4323043330512843]},{\"boxpoints\":false,\"fillcolor\":\"#80cdc1\",\"jitter\":0.5,\"line\":{\"color\":\"#365b55\",\"width\":1},\"marker\":{\"color\":\"rgb(0, 0, 0)\",\"size\":2},\"name\":\"AAGIGILTV\",\"type\":\"box\",\"whiskerwidth\":0.2,\"x\":[0.4748856357841541,0.5171784721100371,0.47317548717255536,0.507930594387331,0.5118502748433803,0.4970419118063782,0.49299562715045103,0.5067506684931697]},{\"boxpoints\":false,\"fillcolor\":\"#80cdc1\",\"jitter\":0.5,\"line\":{\"color\":\"#365b55\",\"width\":1},\"marker\":{\"color\":\"rgb(0, 0, 0)\",\"size\":2},\"name\":\"VLRDDLLEA\",\"type\":\"box\",\"whiskerwidth\":0.2,\"x\":[0.5432103335357888]},{\"boxpoints\":false,\"fillcolor\":\"#80cdc1\",\"jitter\":0.5,\"line\":{\"color\":\"#365b55\",\"width\":1},\"marker\":{\"color\":\"rgb(0, 0, 0)\",\"size\":2},\"name\":\"ILKEPVHGV\",\"type\":\"box\",\"whiskerwidth\":0.2,\"x\":[0.4817093677053516,0.5195426522470735,0.5296560193646714,0.5483960559906172,0.4888157047279861,0.5356634066836647,0.5288349857180273]},{\"boxpoints\":false,\"fillcolor\":\"#80cdc1\",\"jitter\":0.5,\"line\":{\"color\":\"#365b55\",\"width\":1},\"marker\":{\"color\":\"rgb(0, 0, 0)\",\"size\":2},\"name\":\"CINGVCWTV\",\"type\":\"box\",\"whiskerwidth\":0.2,\"x\":[0.7538020823775836,0.7752322779030719]},{\"boxpoints\":false,\"fillcolor\":\"#018571\",\"jitter\":0.5,\"line\":{\"color\":\"#052f29\",\"width\":1},\"marker\":{\"color\":\"rgb(0, 0, 0)\",\"size\":2},\"name\":\"LLFGYPVYV\",\"type\":\"box\",\"whiskerwidth\":0.2,\"x\":[0.8702606328704089,0.8816174985039018,0.9257426691186161,0.9676015884859431,0.9689471638923379,0.9158078463854613,0.9447376274490169,0.937070498746154,0.9063296644416099,0.9090505726518066,0.9278823161661255,0.9248549969365661,0.9268509067372055,0.9285588010005158,0.8899677849120887,0.8972828745862312,0.8183512877896967,0.8154186511882512,0.8093564381188835,0.8126436386191324,0.8381702555064824,0.8594314650842705,0.909244085908885,0.8948696398304388,0.8954276361187895]},{\"boxpoints\":false,\"fillcolor\":\"#018571\",\"jitter\":0.5,\"line\":{\"color\":\"#052f29\",\"width\":1},\"marker\":{\"color\":\"rgb(0, 0, 0)\",\"size\":2},\"name\":\"ALWGFFPVL\",\"type\":\"box\",\"whiskerwidth\":0.2,\"x\":[0.9716727611469745,0.9673797606143623,0.9777881768359491,0.9726798236143794,0.9275093567852886,0.9222513148373674,1.0,0.9929386597692025,0.9763028318356721,0.9830501864368578]},{\"boxpoints\":false,\"fillcolor\":\"#018571\",\"jitter\":0.5,\"line\":{\"color\":\"#052f29\",\"width\":1},\"marker\":{\"color\":\"rgb(0, 0, 0)\",\"size\":2},\"name\":\"FLPSDFFPSV\",\"type\":\"box\",\"whiskerwidth\":0.2,\"x\":[0.9445446552355278,0.9688559078736225,0.8996414639395124,0.9009327546391219,0.95459021155661]}],                        {\"boxgap\":0.15,\"boxgroupgap\":0.15,\"font\":{\"family\":\"Times New Roman\"},\"height\":450,\"paper_bgcolor\":\"rgba(0, 0, 0, 0)\",\"plot_bgcolor\":\"rgba(0, 0, 0, 0)\",\"showlegend\":false,\"template\":{\"data\":{\"bar\":[{\"error_x\":{\"color\":\"#2a3f5f\"},\"error_y\":{\"color\":\"#2a3f5f\"},\"marker\":{\"line\":{\"color\":\"#E5ECF6\",\"width\":0.5},\"pattern\":{\"fillmode\":\"overlay\",\"size\":10,\"solidity\":0.2}},\"type\":\"bar\"}],\"barpolar\":[{\"marker\":{\"line\":{\"color\":\"#E5ECF6\",\"width\":0.5},\"pattern\":{\"fillmode\":\"overlay\",\"size\":10,\"solidity\":0.2}},\"type\":\"barpolar\"}],\"carpet\":[{\"aaxis\":{\"endlinecolor\":\"#2a3f5f\",\"gridcolor\":\"white\",\"linecolor\":\"white\",\"minorgridcolor\":\"white\",\"startlinecolor\":\"#2a3f5f\"},\"baxis\":{\"endlinecolor\":\"#2a3f5f\",\"gridcolor\":\"white\",\"linecolor\":\"white\",\"minorgridcolor\":\"white\",\"startlinecolor\":\"#2a3f5f\"},\"type\":\"carpet\"}],\"choropleth\":[{\"colorbar\":{\"outlinewidth\":0,\"ticks\":\"\"},\"type\":\"choropleth\"}],\"contour\":[{\"colorbar\":{\"outlinewidth\":0,\"ticks\":\"\"},\"colorscale\":[[0.0,\"#0d0887\"],[0.1111111111111111,\"#46039f\"],[0.2222222222222222,\"#7201a8\"],[0.3333333333333333,\"#9c179e\"],[0.4444444444444444,\"#bd3786\"],[0.5555555555555556,\"#d8576b\"],[0.6666666666666666,\"#ed7953\"],[0.7777777777777778,\"#fb9f3a\"],[0.8888888888888888,\"#fdca26\"],[1.0,\"#f0f921\"]],\"type\":\"contour\"}],\"contourcarpet\":[{\"colorbar\":{\"outlinewidth\":0,\"ticks\":\"\"},\"type\":\"contourcarpet\"}],\"heatmap\":[{\"colorbar\":{\"outlinewidth\":0,\"ticks\":\"\"},\"colorscale\":[[0.0,\"#0d0887\"],[0.1111111111111111,\"#46039f\"],[0.2222222222222222,\"#7201a8\"],[0.3333333333333333,\"#9c179e\"],[0.4444444444444444,\"#bd3786\"],[0.5555555555555556,\"#d8576b\"],[0.6666666666666666,\"#ed7953\"],[0.7777777777777778,\"#fb9f3a\"],[0.8888888888888888,\"#fdca26\"],[1.0,\"#f0f921\"]],\"type\":\"heatmap\"}],\"heatmapgl\":[{\"colorbar\":{\"outlinewidth\":0,\"ticks\":\"\"},\"colorscale\":[[0.0,\"#0d0887\"],[0.1111111111111111,\"#46039f\"],[0.2222222222222222,\"#7201a8\"],[0.3333333333333333,\"#9c179e\"],[0.4444444444444444,\"#bd3786\"],[0.5555555555555556,\"#d8576b\"],[0.6666666666666666,\"#ed7953\"],[0.7777777777777778,\"#fb9f3a\"],[0.8888888888888888,\"#fdca26\"],[1.0,\"#f0f921\"]],\"type\":\"heatmapgl\"}],\"histogram\":[{\"marker\":{\"pattern\":{\"fillmode\":\"overlay\",\"size\":10,\"solidity\":0.2}},\"type\":\"histogram\"}],\"histogram2d\":[{\"colorbar\":{\"outlinewidth\":0,\"ticks\":\"\"},\"colorscale\":[[0.0,\"#0d0887\"],[0.1111111111111111,\"#46039f\"],[0.2222222222222222,\"#7201a8\"],[0.3333333333333333,\"#9c179e\"],[0.4444444444444444,\"#bd3786\"],[0.5555555555555556,\"#d8576b\"],[0.6666666666666666,\"#ed7953\"],[0.7777777777777778,\"#fb9f3a\"],[0.8888888888888888,\"#fdca26\"],[1.0,\"#f0f921\"]],\"type\":\"histogram2d\"}],\"histogram2dcontour\":[{\"colorbar\":{\"outlinewidth\":0,\"ticks\":\"\"},\"colorscale\":[[0.0,\"#0d0887\"],[0.1111111111111111,\"#46039f\"],[0.2222222222222222,\"#7201a8\"],[0.3333333333333333,\"#9c179e\"],[0.4444444444444444,\"#bd3786\"],[0.5555555555555556,\"#d8576b\"],[0.6666666666666666,\"#ed7953\"],[0.7777777777777778,\"#fb9f3a\"],[0.8888888888888888,\"#fdca26\"],[1.0,\"#f0f921\"]],\"type\":\"histogram2dcontour\"}],\"mesh3d\":[{\"colorbar\":{\"outlinewidth\":0,\"ticks\":\"\"},\"type\":\"mesh3d\"}],\"parcoords\":[{\"line\":{\"colorbar\":{\"outlinewidth\":0,\"ticks\":\"\"}},\"type\":\"parcoords\"}],\"pie\":[{\"automargin\":true,\"type\":\"pie\"}],\"scatter\":[{\"marker\":{\"colorbar\":{\"outlinewidth\":0,\"ticks\":\"\"}},\"type\":\"scatter\"}],\"scatter3d\":[{\"line\":{\"colorbar\":{\"outlinewidth\":0,\"ticks\":\"\"}},\"marker\":{\"colorbar\":{\"outlinewidth\":0,\"ticks\":\"\"}},\"type\":\"scatter3d\"}],\"scattercarpet\":[{\"marker\":{\"colorbar\":{\"outlinewidth\":0,\"ticks\":\"\"}},\"type\":\"scattercarpet\"}],\"scattergeo\":[{\"marker\":{\"colorbar\":{\"outlinewidth\":0,\"ticks\":\"\"}},\"type\":\"scattergeo\"}],\"scattergl\":[{\"marker\":{\"colorbar\":{\"outlinewidth\":0,\"ticks\":\"\"}},\"type\":\"scattergl\"}],\"scattermapbox\":[{\"marker\":{\"colorbar\":{\"outlinewidth\":0,\"ticks\":\"\"}},\"type\":\"scattermapbox\"}],\"scatterpolar\":[{\"marker\":{\"colorbar\":{\"outlinewidth\":0,\"ticks\":\"\"}},\"type\":\"scatterpolar\"}],\"scatterpolargl\":[{\"marker\":{\"colorbar\":{\"outlinewidth\":0,\"ticks\":\"\"}},\"type\":\"scatterpolargl\"}],\"scatterternary\":[{\"marker\":{\"colorbar\":{\"outlinewidth\":0,\"ticks\":\"\"}},\"type\":\"scatterternary\"}],\"surface\":[{\"colorbar\":{\"outlinewidth\":0,\"ticks\":\"\"},\"colorscale\":[[0.0,\"#0d0887\"],[0.1111111111111111,\"#46039f\"],[0.2222222222222222,\"#7201a8\"],[0.3333333333333333,\"#9c179e\"],[0.4444444444444444,\"#bd3786\"],[0.5555555555555556,\"#d8576b\"],[0.6666666666666666,\"#ed7953\"],[0.7777777777777778,\"#fb9f3a\"],[0.8888888888888888,\"#fdca26\"],[1.0,\"#f0f921\"]],\"type\":\"surface\"}],\"table\":[{\"cells\":{\"fill\":{\"color\":\"#EBF0F8\"},\"line\":{\"color\":\"white\"}},\"header\":{\"fill\":{\"color\":\"#C8D4E3\"},\"line\":{\"color\":\"white\"}},\"type\":\"table\"}]},\"layout\":{\"annotationdefaults\":{\"arrowcolor\":\"#2a3f5f\",\"arrowhead\":0,\"arrowwidth\":1},\"autotypenumbers\":\"strict\",\"coloraxis\":{\"colorbar\":{\"outlinewidth\":0,\"ticks\":\"\"}},\"colorscale\":{\"diverging\":[[0,\"#8e0152\"],[0.1,\"#c51b7d\"],[0.2,\"#de77ae\"],[0.3,\"#f1b6da\"],[0.4,\"#fde0ef\"],[0.5,\"#f7f7f7\"],[0.6,\"#e6f5d0\"],[0.7,\"#b8e186\"],[0.8,\"#7fbc41\"],[0.9,\"#4d9221\"],[1,\"#276419\"]],\"sequential\":[[0.0,\"#0d0887\"],[0.1111111111111111,\"#46039f\"],[0.2222222222222222,\"#7201a8\"],[0.3333333333333333,\"#9c179e\"],[0.4444444444444444,\"#bd3786\"],[0.5555555555555556,\"#d8576b\"],[0.6666666666666666,\"#ed7953\"],[0.7777777777777778,\"#fb9f3a\"],[0.8888888888888888,\"#fdca26\"],[1.0,\"#f0f921\"]],\"sequentialminus\":[[0.0,\"#0d0887\"],[0.1111111111111111,\"#46039f\"],[0.2222222222222222,\"#7201a8\"],[0.3333333333333333,\"#9c179e\"],[0.4444444444444444,\"#bd3786\"],[0.5555555555555556,\"#d8576b\"],[0.6666666666666666,\"#ed7953\"],[0.7777777777777778,\"#fb9f3a\"],[0.8888888888888888,\"#fdca26\"],[1.0,\"#f0f921\"]]},\"colorway\":[\"#636efa\",\"#EF553B\",\"#00cc96\",\"#ab63fa\",\"#FFA15A\",\"#19d3f3\",\"#FF6692\",\"#B6E880\",\"#FF97FF\",\"#FECB52\"],\"font\":{\"color\":\"#2a3f5f\"},\"geo\":{\"bgcolor\":\"white\",\"lakecolor\":\"white\",\"landcolor\":\"#E5ECF6\",\"showlakes\":true,\"showland\":true,\"subunitcolor\":\"white\"},\"hoverlabel\":{\"align\":\"left\"},\"hovermode\":\"closest\",\"mapbox\":{\"style\":\"light\"},\"paper_bgcolor\":\"white\",\"plot_bgcolor\":\"#E5ECF6\",\"polar\":{\"angularaxis\":{\"gridcolor\":\"white\",\"linecolor\":\"white\",\"ticks\":\"\"},\"bgcolor\":\"#E5ECF6\",\"radialaxis\":{\"gridcolor\":\"white\",\"linecolor\":\"white\",\"ticks\":\"\"}},\"scene\":{\"xaxis\":{\"backgroundcolor\":\"#E5ECF6\",\"gridcolor\":\"white\",\"gridwidth\":2,\"linecolor\":\"white\",\"showbackground\":true,\"ticks\":\"\",\"zerolinecolor\":\"white\"},\"yaxis\":{\"backgroundcolor\":\"#E5ECF6\",\"gridcolor\":\"white\",\"gridwidth\":2,\"linecolor\":\"white\",\"showbackground\":true,\"ticks\":\"\",\"zerolinecolor\":\"white\"},\"zaxis\":{\"backgroundcolor\":\"#E5ECF6\",\"gridcolor\":\"white\",\"gridwidth\":2,\"linecolor\":\"white\",\"showbackground\":true,\"ticks\":\"\",\"zerolinecolor\":\"white\"}},\"shapedefaults\":{\"line\":{\"color\":\"#2a3f5f\"}},\"ternary\":{\"aaxis\":{\"gridcolor\":\"white\",\"linecolor\":\"white\",\"ticks\":\"\"},\"baxis\":{\"gridcolor\":\"white\",\"linecolor\":\"white\",\"ticks\":\"\"},\"bgcolor\":\"#E5ECF6\",\"caxis\":{\"gridcolor\":\"white\",\"linecolor\":\"white\",\"ticks\":\"\"}},\"title\":{\"x\":0.05},\"xaxis\":{\"automargin\":true,\"gridcolor\":\"white\",\"linecolor\":\"white\",\"ticks\":\"\",\"title\":{\"standoff\":15},\"zerolinecolor\":\"white\",\"zerolinewidth\":2},\"yaxis\":{\"automargin\":true,\"gridcolor\":\"white\",\"linecolor\":\"white\",\"ticks\":\"\",\"title\":{\"standoff\":15},\"zerolinecolor\":\"white\",\"zerolinewidth\":2}}},\"width\":350,\"xaxis\":{\"autorange\":\"reversed\",\"linecolor\":\"Black\",\"showline\":true,\"title\":{\"text\":\"Dope\"},\"zeroline\":true},\"yaxis\":{\"dtick\":0.1,\"linecolor\":\"Black\",\"showline\":true,\"tickfont\":{\"size\":10},\"title\":{\"text\":\"Peptide\"},\"zeroline\":true}},                        {\"responsive\": true}                    ).then(function(){\n",
       "                            \n",
       "var gd = document.getElementById('021c59fa-f77f-4993-8193-5913084ec1c1');\n",
       "var x = new MutationObserver(function (mutations, observer) {{\n",
       "        var display = window.getComputedStyle(gd).display;\n",
       "        if (!display || display === 'none') {{\n",
       "            console.log([gd, 'removed!']);\n",
       "            Plotly.purge(gd);\n",
       "            observer.disconnect();\n",
       "        }}\n",
       "}});\n",
       "\n",
       "// Listen for the removal of the full notebook cells\n",
       "var notebookContainer = gd.closest('#notebook-container');\n",
       "if (notebookContainer) {{\n",
       "    x.observe(notebookContainer, {childList: true});\n",
       "}}\n",
       "\n",
       "// Listen for the clearing of the current output cell\n",
       "var outputEl = gd.closest('.output');\n",
       "if (outputEl) {{\n",
       "    x.observe(outputEl, {childList: true});\n",
       "}}\n",
       "\n",
       "                        })                };                });            </script>        </div>"
      ]
     },
     "metadata": {},
     "output_type": "display_data"
    },
    {
     "data": {
      "application/vnd.plotly.v1+json": {
       "config": {
        "linkText": "Export to plot.ly",
        "plotlyServerURL": "https://plot.ly",
        "showLink": false
       },
       "data": [
        {
         "boxpoints": false,
         "fillcolor": "#a6611a",
         "jitter": 0.5,
         "line": {
          "color": "#59340e",
          "width": 1
         },
         "marker": {
          "color": "rgb(0, 0, 0)",
          "size": 2
         },
         "name": "DAKRNSKSL",
         "type": "box",
         "whiskerwidth": 0.2,
         "x": [
          0.0058515111703860475
         ]
        },
        {
         "boxpoints": false,
         "fillcolor": "#a6611a",
         "jitter": 0.5,
         "line": {
          "color": "#59340e",
          "width": 1
         },
         "marker": {
          "color": "rgb(0, 0, 0)",
          "size": 2
         },
         "name": "EIDVSEVKT",
         "type": "box",
         "whiskerwidth": 0.2,
         "x": [
          0
         ]
        },
        {
         "boxpoints": false,
         "fillcolor": "#a6611a",
         "jitter": 0.5,
         "line": {
          "color": "#59340e",
          "width": 1
         },
         "marker": {
          "color": "rgb(0, 0, 0)",
          "size": 2
         },
         "name": "ATKRYPGVM",
         "type": "box",
         "whiskerwidth": 0.2,
         "x": [
          0.017469404630513274
         ]
        },
        {
         "boxpoints": false,
         "fillcolor": "#a6611a",
         "jitter": 0.5,
         "line": {
          "color": "#59340e",
          "width": 1
         },
         "marker": {
          "color": "rgb(0, 0, 0)",
          "size": 2
         },
         "name": "AAEQRRSTI",
         "type": "box",
         "whiskerwidth": 0.2,
         "x": [
          0.12211908020318757
         ]
        },
        {
         "boxpoints": false,
         "fillcolor": "#a6611a",
         "jitter": 0.5,
         "line": {
          "color": "#59340e",
          "width": 1
         },
         "marker": {
          "color": "rgb(0, 0, 0)",
          "size": 2
         },
         "name": "ETLNEYKQL",
         "type": "box",
         "whiskerwidth": 0.2,
         "x": [
          0.18929076607197587
         ]
        },
        {
         "boxpoints": false,
         "fillcolor": "#dfc27d",
         "jitter": 0.5,
         "line": {
          "color": "#756438",
          "width": 1
         },
         "marker": {
          "color": "rgb(0, 0, 0)",
          "size": 2
         },
         "name": "SLLMWITQC",
         "type": "box",
         "whiskerwidth": 0.2,
         "x": [
          0.9568140607687452,
          0.9529507984939656,
          0.9643962561878159,
          0.9465376939233413,
          0.9554069450895487,
          0.9634038741440025,
          0.989753046593376,
          0.9746001888102152,
          0.9761280489373244
         ]
        },
        {
         "boxpoints": false,
         "fillcolor": "#dfc27d",
         "jitter": 0.5,
         "line": {
          "color": "#756438",
          "width": 1
         },
         "marker": {
          "color": "rgb(0, 0, 0)",
          "size": 2
         },
         "name": "EAAGIGILTV",
         "type": "box",
         "whiskerwidth": 0.2,
         "x": [
          0.783973621165197,
          0.7359753488002386,
          0.7210878757390489
         ]
        },
        {
         "boxpoints": false,
         "fillcolor": "#dfc27d",
         "jitter": 0.5,
         "line": {
          "color": "#756438",
          "width": 1
         },
         "marker": {
          "color": "rgb(0, 0, 0)",
          "size": 2
         },
         "name": "RGPGRAFVTI",
         "type": "box",
         "whiskerwidth": 0.2,
         "x": [
          0.19039235950872171,
          0.16163099467869824,
          0.1545369835203431,
          0.14724404790648501,
          0.13277946044220224,
          0.20397838124695392
         ]
        },
        {
         "boxpoints": false,
         "fillcolor": "#dfc27d",
         "jitter": 0.5,
         "line": {
          "color": "#756438",
          "width": 1
         },
         "marker": {
          "color": "rgb(0, 0, 0)",
          "size": 2
         },
         "name": "RQISQDVKL",
         "type": "box",
         "whiskerwidth": 0.2,
         "x": [
          0.34158776480599495
         ]
        },
        {
         "boxpoints": false,
         "fillcolor": "#80cdc1",
         "jitter": 0.5,
         "line": {
          "color": "#365b55",
          "width": 1
         },
         "marker": {
          "color": "rgb(0, 0, 0)",
          "size": 2
         },
         "name": "AAGIGILTV",
         "type": "box",
         "whiskerwidth": 0.2,
         "x": [
          0.506459921306398,
          0.5237965298614025,
          0.4945631602362832,
          0.510026560044818,
          0.5388175457426682,
          0.5332635085677323,
          0.5327111665029637,
          0.5323848806129677
         ]
        },
        {
         "boxpoints": false,
         "fillcolor": "#80cdc1",
         "jitter": 0.5,
         "line": {
          "color": "#365b55",
          "width": 1
         },
         "marker": {
          "color": "rgb(0, 0, 0)",
          "size": 2
         },
         "name": "VLRDDLLEA",
         "type": "box",
         "whiskerwidth": 0.2,
         "x": [
          0.9122502533538371
         ]
        },
        {
         "boxpoints": false,
         "fillcolor": "#80cdc1",
         "jitter": 0.5,
         "line": {
          "color": "#365b55",
          "width": 1
         },
         "marker": {
          "color": "rgb(0, 0, 0)",
          "size": 2
         },
         "name": "ILKEPVHGV",
         "type": "box",
         "whiskerwidth": 0.2,
         "x": [
          0.9926142398878754,
          0.9947439139073211,
          0.9947132558942624,
          0.9815871458377206,
          0.9911900527981596,
          0.9432605224191801,
          0.947860365237746
         ]
        },
        {
         "boxpoints": false,
         "fillcolor": "#80cdc1",
         "jitter": 0.5,
         "line": {
          "color": "#365b55",
          "width": 1
         },
         "marker": {
          "color": "rgb(0, 0, 0)",
          "size": 2
         },
         "name": "CINGVCWTV",
         "type": "box",
         "whiskerwidth": 0.2,
         "x": [
          0.8220836056876711,
          0.8431401223034846
         ]
        },
        {
         "boxpoints": false,
         "fillcolor": "#018571",
         "jitter": 0.5,
         "line": {
          "color": "#052f29",
          "width": 1
         },
         "marker": {
          "color": "rgb(0, 0, 0)",
          "size": 2
         },
         "name": "LLFGYPVYV",
         "type": "box",
         "whiskerwidth": 0.2,
         "x": [
          0.9783461084734434,
          0.9815651791017062,
          0.9895454308608288,
          0.9526856834297546,
          0.9775998202502855,
          0.9890236223516912,
          0.9501758127111523,
          0.9777114170772516,
          0.9443295702385451,
          0.9409121974419185,
          0.9686283895358185,
          0.9664260116356079,
          0.9622855619261164,
          0.9601125352359722,
          0.9883033872167619,
          0.9901127078169387,
          0.9991014173709712,
          0.9999781992072229,
          0.9963600973223897,
          1,
          0.9882940529096735,
          0.9843048189750119,
          0.9634285789434295,
          0.9472389700434288,
          0.9440524035467379
         ]
        },
        {
         "boxpoints": false,
         "fillcolor": "#018571",
         "jitter": 0.5,
         "line": {
          "color": "#052f29",
          "width": 1
         },
         "marker": {
          "color": "rgb(0, 0, 0)",
          "size": 2
         },
         "name": "ALWGFFPVL",
         "type": "box",
         "whiskerwidth": 0.2,
         "x": [
          0.956209239155236,
          0.9460671826173795,
          0.9502112830780877,
          0.931220261934762,
          0.9412388774471028,
          0.9363193657251214,
          0.9431131855675183,
          0.9533611968622788,
          0.9634300724325635,
          0.9607500684100994
         ]
        },
        {
         "boxpoints": false,
         "fillcolor": "#018571",
         "jitter": 0.5,
         "line": {
          "color": "#052f29",
          "width": 1
         },
         "marker": {
          "color": "rgb(0, 0, 0)",
          "size": 2
         },
         "name": "FLPSDFFPSV",
         "type": "box",
         "whiskerwidth": 0.2,
         "x": [
          0.9529019282106324,
          0.9365803944371179,
          0.9308847661951056,
          0.9424744907907312,
          0.9418966556961593
         ]
        }
       ],
       "layout": {
        "boxgap": 0.15,
        "boxgroupgap": 0.15,
        "font": {
         "family": "Times New Roman"
        },
        "height": 450,
        "paper_bgcolor": "rgba(0, 0, 0, 0)",
        "plot_bgcolor": "rgba(0, 0, 0, 0)",
        "showlegend": false,
        "template": {
         "data": {
          "bar": [
           {
            "error_x": {
             "color": "#2a3f5f"
            },
            "error_y": {
             "color": "#2a3f5f"
            },
            "marker": {
             "line": {
              "color": "#E5ECF6",
              "width": 0.5
             },
             "pattern": {
              "fillmode": "overlay",
              "size": 10,
              "solidity": 0.2
             }
            },
            "type": "bar"
           }
          ],
          "barpolar": [
           {
            "marker": {
             "line": {
              "color": "#E5ECF6",
              "width": 0.5
             },
             "pattern": {
              "fillmode": "overlay",
              "size": 10,
              "solidity": 0.2
             }
            },
            "type": "barpolar"
           }
          ],
          "carpet": [
           {
            "aaxis": {
             "endlinecolor": "#2a3f5f",
             "gridcolor": "white",
             "linecolor": "white",
             "minorgridcolor": "white",
             "startlinecolor": "#2a3f5f"
            },
            "baxis": {
             "endlinecolor": "#2a3f5f",
             "gridcolor": "white",
             "linecolor": "white",
             "minorgridcolor": "white",
             "startlinecolor": "#2a3f5f"
            },
            "type": "carpet"
           }
          ],
          "choropleth": [
           {
            "colorbar": {
             "outlinewidth": 0,
             "ticks": ""
            },
            "type": "choropleth"
           }
          ],
          "contour": [
           {
            "colorbar": {
             "outlinewidth": 0,
             "ticks": ""
            },
            "colorscale": [
             [
              0,
              "#0d0887"
             ],
             [
              0.1111111111111111,
              "#46039f"
             ],
             [
              0.2222222222222222,
              "#7201a8"
             ],
             [
              0.3333333333333333,
              "#9c179e"
             ],
             [
              0.4444444444444444,
              "#bd3786"
             ],
             [
              0.5555555555555556,
              "#d8576b"
             ],
             [
              0.6666666666666666,
              "#ed7953"
             ],
             [
              0.7777777777777778,
              "#fb9f3a"
             ],
             [
              0.8888888888888888,
              "#fdca26"
             ],
             [
              1,
              "#f0f921"
             ]
            ],
            "type": "contour"
           }
          ],
          "contourcarpet": [
           {
            "colorbar": {
             "outlinewidth": 0,
             "ticks": ""
            },
            "type": "contourcarpet"
           }
          ],
          "heatmap": [
           {
            "colorbar": {
             "outlinewidth": 0,
             "ticks": ""
            },
            "colorscale": [
             [
              0,
              "#0d0887"
             ],
             [
              0.1111111111111111,
              "#46039f"
             ],
             [
              0.2222222222222222,
              "#7201a8"
             ],
             [
              0.3333333333333333,
              "#9c179e"
             ],
             [
              0.4444444444444444,
              "#bd3786"
             ],
             [
              0.5555555555555556,
              "#d8576b"
             ],
             [
              0.6666666666666666,
              "#ed7953"
             ],
             [
              0.7777777777777778,
              "#fb9f3a"
             ],
             [
              0.8888888888888888,
              "#fdca26"
             ],
             [
              1,
              "#f0f921"
             ]
            ],
            "type": "heatmap"
           }
          ],
          "heatmapgl": [
           {
            "colorbar": {
             "outlinewidth": 0,
             "ticks": ""
            },
            "colorscale": [
             [
              0,
              "#0d0887"
             ],
             [
              0.1111111111111111,
              "#46039f"
             ],
             [
              0.2222222222222222,
              "#7201a8"
             ],
             [
              0.3333333333333333,
              "#9c179e"
             ],
             [
              0.4444444444444444,
              "#bd3786"
             ],
             [
              0.5555555555555556,
              "#d8576b"
             ],
             [
              0.6666666666666666,
              "#ed7953"
             ],
             [
              0.7777777777777778,
              "#fb9f3a"
             ],
             [
              0.8888888888888888,
              "#fdca26"
             ],
             [
              1,
              "#f0f921"
             ]
            ],
            "type": "heatmapgl"
           }
          ],
          "histogram": [
           {
            "marker": {
             "pattern": {
              "fillmode": "overlay",
              "size": 10,
              "solidity": 0.2
             }
            },
            "type": "histogram"
           }
          ],
          "histogram2d": [
           {
            "colorbar": {
             "outlinewidth": 0,
             "ticks": ""
            },
            "colorscale": [
             [
              0,
              "#0d0887"
             ],
             [
              0.1111111111111111,
              "#46039f"
             ],
             [
              0.2222222222222222,
              "#7201a8"
             ],
             [
              0.3333333333333333,
              "#9c179e"
             ],
             [
              0.4444444444444444,
              "#bd3786"
             ],
             [
              0.5555555555555556,
              "#d8576b"
             ],
             [
              0.6666666666666666,
              "#ed7953"
             ],
             [
              0.7777777777777778,
              "#fb9f3a"
             ],
             [
              0.8888888888888888,
              "#fdca26"
             ],
             [
              1,
              "#f0f921"
             ]
            ],
            "type": "histogram2d"
           }
          ],
          "histogram2dcontour": [
           {
            "colorbar": {
             "outlinewidth": 0,
             "ticks": ""
            },
            "colorscale": [
             [
              0,
              "#0d0887"
             ],
             [
              0.1111111111111111,
              "#46039f"
             ],
             [
              0.2222222222222222,
              "#7201a8"
             ],
             [
              0.3333333333333333,
              "#9c179e"
             ],
             [
              0.4444444444444444,
              "#bd3786"
             ],
             [
              0.5555555555555556,
              "#d8576b"
             ],
             [
              0.6666666666666666,
              "#ed7953"
             ],
             [
              0.7777777777777778,
              "#fb9f3a"
             ],
             [
              0.8888888888888888,
              "#fdca26"
             ],
             [
              1,
              "#f0f921"
             ]
            ],
            "type": "histogram2dcontour"
           }
          ],
          "mesh3d": [
           {
            "colorbar": {
             "outlinewidth": 0,
             "ticks": ""
            },
            "type": "mesh3d"
           }
          ],
          "parcoords": [
           {
            "line": {
             "colorbar": {
              "outlinewidth": 0,
              "ticks": ""
             }
            },
            "type": "parcoords"
           }
          ],
          "pie": [
           {
            "automargin": true,
            "type": "pie"
           }
          ],
          "scatter": [
           {
            "marker": {
             "colorbar": {
              "outlinewidth": 0,
              "ticks": ""
             }
            },
            "type": "scatter"
           }
          ],
          "scatter3d": [
           {
            "line": {
             "colorbar": {
              "outlinewidth": 0,
              "ticks": ""
             }
            },
            "marker": {
             "colorbar": {
              "outlinewidth": 0,
              "ticks": ""
             }
            },
            "type": "scatter3d"
           }
          ],
          "scattercarpet": [
           {
            "marker": {
             "colorbar": {
              "outlinewidth": 0,
              "ticks": ""
             }
            },
            "type": "scattercarpet"
           }
          ],
          "scattergeo": [
           {
            "marker": {
             "colorbar": {
              "outlinewidth": 0,
              "ticks": ""
             }
            },
            "type": "scattergeo"
           }
          ],
          "scattergl": [
           {
            "marker": {
             "colorbar": {
              "outlinewidth": 0,
              "ticks": ""
             }
            },
            "type": "scattergl"
           }
          ],
          "scattermapbox": [
           {
            "marker": {
             "colorbar": {
              "outlinewidth": 0,
              "ticks": ""
             }
            },
            "type": "scattermapbox"
           }
          ],
          "scatterpolar": [
           {
            "marker": {
             "colorbar": {
              "outlinewidth": 0,
              "ticks": ""
             }
            },
            "type": "scatterpolar"
           }
          ],
          "scatterpolargl": [
           {
            "marker": {
             "colorbar": {
              "outlinewidth": 0,
              "ticks": ""
             }
            },
            "type": "scatterpolargl"
           }
          ],
          "scatterternary": [
           {
            "marker": {
             "colorbar": {
              "outlinewidth": 0,
              "ticks": ""
             }
            },
            "type": "scatterternary"
           }
          ],
          "surface": [
           {
            "colorbar": {
             "outlinewidth": 0,
             "ticks": ""
            },
            "colorscale": [
             [
              0,
              "#0d0887"
             ],
             [
              0.1111111111111111,
              "#46039f"
             ],
             [
              0.2222222222222222,
              "#7201a8"
             ],
             [
              0.3333333333333333,
              "#9c179e"
             ],
             [
              0.4444444444444444,
              "#bd3786"
             ],
             [
              0.5555555555555556,
              "#d8576b"
             ],
             [
              0.6666666666666666,
              "#ed7953"
             ],
             [
              0.7777777777777778,
              "#fb9f3a"
             ],
             [
              0.8888888888888888,
              "#fdca26"
             ],
             [
              1,
              "#f0f921"
             ]
            ],
            "type": "surface"
           }
          ],
          "table": [
           {
            "cells": {
             "fill": {
              "color": "#EBF0F8"
             },
             "line": {
              "color": "white"
             }
            },
            "header": {
             "fill": {
              "color": "#C8D4E3"
             },
             "line": {
              "color": "white"
             }
            },
            "type": "table"
           }
          ]
         },
         "layout": {
          "annotationdefaults": {
           "arrowcolor": "#2a3f5f",
           "arrowhead": 0,
           "arrowwidth": 1
          },
          "autotypenumbers": "strict",
          "coloraxis": {
           "colorbar": {
            "outlinewidth": 0,
            "ticks": ""
           }
          },
          "colorscale": {
           "diverging": [
            [
             0,
             "#8e0152"
            ],
            [
             0.1,
             "#c51b7d"
            ],
            [
             0.2,
             "#de77ae"
            ],
            [
             0.3,
             "#f1b6da"
            ],
            [
             0.4,
             "#fde0ef"
            ],
            [
             0.5,
             "#f7f7f7"
            ],
            [
             0.6,
             "#e6f5d0"
            ],
            [
             0.7,
             "#b8e186"
            ],
            [
             0.8,
             "#7fbc41"
            ],
            [
             0.9,
             "#4d9221"
            ],
            [
             1,
             "#276419"
            ]
           ],
           "sequential": [
            [
             0,
             "#0d0887"
            ],
            [
             0.1111111111111111,
             "#46039f"
            ],
            [
             0.2222222222222222,
             "#7201a8"
            ],
            [
             0.3333333333333333,
             "#9c179e"
            ],
            [
             0.4444444444444444,
             "#bd3786"
            ],
            [
             0.5555555555555556,
             "#d8576b"
            ],
            [
             0.6666666666666666,
             "#ed7953"
            ],
            [
             0.7777777777777778,
             "#fb9f3a"
            ],
            [
             0.8888888888888888,
             "#fdca26"
            ],
            [
             1,
             "#f0f921"
            ]
           ],
           "sequentialminus": [
            [
             0,
             "#0d0887"
            ],
            [
             0.1111111111111111,
             "#46039f"
            ],
            [
             0.2222222222222222,
             "#7201a8"
            ],
            [
             0.3333333333333333,
             "#9c179e"
            ],
            [
             0.4444444444444444,
             "#bd3786"
            ],
            [
             0.5555555555555556,
             "#d8576b"
            ],
            [
             0.6666666666666666,
             "#ed7953"
            ],
            [
             0.7777777777777778,
             "#fb9f3a"
            ],
            [
             0.8888888888888888,
             "#fdca26"
            ],
            [
             1,
             "#f0f921"
            ]
           ]
          },
          "colorway": [
           "#636efa",
           "#EF553B",
           "#00cc96",
           "#ab63fa",
           "#FFA15A",
           "#19d3f3",
           "#FF6692",
           "#B6E880",
           "#FF97FF",
           "#FECB52"
          ],
          "font": {
           "color": "#2a3f5f"
          },
          "geo": {
           "bgcolor": "white",
           "lakecolor": "white",
           "landcolor": "#E5ECF6",
           "showlakes": true,
           "showland": true,
           "subunitcolor": "white"
          },
          "hoverlabel": {
           "align": "left"
          },
          "hovermode": "closest",
          "mapbox": {
           "style": "light"
          },
          "paper_bgcolor": "white",
          "plot_bgcolor": "#E5ECF6",
          "polar": {
           "angularaxis": {
            "gridcolor": "white",
            "linecolor": "white",
            "ticks": ""
           },
           "bgcolor": "#E5ECF6",
           "radialaxis": {
            "gridcolor": "white",
            "linecolor": "white",
            "ticks": ""
           }
          },
          "scene": {
           "xaxis": {
            "backgroundcolor": "#E5ECF6",
            "gridcolor": "white",
            "gridwidth": 2,
            "linecolor": "white",
            "showbackground": true,
            "ticks": "",
            "zerolinecolor": "white"
           },
           "yaxis": {
            "backgroundcolor": "#E5ECF6",
            "gridcolor": "white",
            "gridwidth": 2,
            "linecolor": "white",
            "showbackground": true,
            "ticks": "",
            "zerolinecolor": "white"
           },
           "zaxis": {
            "backgroundcolor": "#E5ECF6",
            "gridcolor": "white",
            "gridwidth": 2,
            "linecolor": "white",
            "showbackground": true,
            "ticks": "",
            "zerolinecolor": "white"
           }
          },
          "shapedefaults": {
           "line": {
            "color": "#2a3f5f"
           }
          },
          "ternary": {
           "aaxis": {
            "gridcolor": "white",
            "linecolor": "white",
            "ticks": ""
           },
           "baxis": {
            "gridcolor": "white",
            "linecolor": "white",
            "ticks": ""
           },
           "bgcolor": "#E5ECF6",
           "caxis": {
            "gridcolor": "white",
            "linecolor": "white",
            "ticks": ""
           }
          },
          "title": {
           "x": 0.05
          },
          "xaxis": {
           "automargin": true,
           "gridcolor": "white",
           "linecolor": "white",
           "ticks": "",
           "title": {
            "standoff": 15
           },
           "zerolinecolor": "white",
           "zerolinewidth": 2
          },
          "yaxis": {
           "automargin": true,
           "gridcolor": "white",
           "linecolor": "white",
           "ticks": "",
           "title": {
            "standoff": 15
           },
           "zerolinecolor": "white",
           "zerolinewidth": 2
          }
         }
        },
        "width": 350,
        "xaxis": {
         "autorange": "reversed",
         "linecolor": "Black",
         "showline": true,
         "title": {
          "text": "3pHLA-score"
         },
         "zeroline": true
        },
        "yaxis": {
         "dtick": 0.1,
         "linecolor": "Black",
         "showline": true,
         "tickfont": {
          "size": 10
         },
         "title": {
          "text": "Peptide"
         },
         "zeroline": true
        }
       }
      },
      "text/html": [
       "<div>                            <div id=\"c82a9093-9bb4-412d-90d0-2e76842043df\" class=\"plotly-graph-div\" style=\"height:450px; width:350px;\"></div>            <script type=\"text/javascript\">                require([\"plotly\"], function(Plotly) {                    window.PLOTLYENV=window.PLOTLYENV || {};                                    if (document.getElementById(\"c82a9093-9bb4-412d-90d0-2e76842043df\")) {                    Plotly.newPlot(                        \"c82a9093-9bb4-412d-90d0-2e76842043df\",                        [{\"boxpoints\":false,\"fillcolor\":\"#a6611a\",\"jitter\":0.5,\"line\":{\"color\":\"#59340e\",\"width\":1},\"marker\":{\"color\":\"rgb(0, 0, 0)\",\"size\":2},\"name\":\"DAKRNSKSL\",\"type\":\"box\",\"whiskerwidth\":0.2,\"x\":[0.0058515111703860475]},{\"boxpoints\":false,\"fillcolor\":\"#a6611a\",\"jitter\":0.5,\"line\":{\"color\":\"#59340e\",\"width\":1},\"marker\":{\"color\":\"rgb(0, 0, 0)\",\"size\":2},\"name\":\"EIDVSEVKT\",\"type\":\"box\",\"whiskerwidth\":0.2,\"x\":[0.0]},{\"boxpoints\":false,\"fillcolor\":\"#a6611a\",\"jitter\":0.5,\"line\":{\"color\":\"#59340e\",\"width\":1},\"marker\":{\"color\":\"rgb(0, 0, 0)\",\"size\":2},\"name\":\"ATKRYPGVM\",\"type\":\"box\",\"whiskerwidth\":0.2,\"x\":[0.017469404630513274]},{\"boxpoints\":false,\"fillcolor\":\"#a6611a\",\"jitter\":0.5,\"line\":{\"color\":\"#59340e\",\"width\":1},\"marker\":{\"color\":\"rgb(0, 0, 0)\",\"size\":2},\"name\":\"AAEQRRSTI\",\"type\":\"box\",\"whiskerwidth\":0.2,\"x\":[0.12211908020318757]},{\"boxpoints\":false,\"fillcolor\":\"#a6611a\",\"jitter\":0.5,\"line\":{\"color\":\"#59340e\",\"width\":1},\"marker\":{\"color\":\"rgb(0, 0, 0)\",\"size\":2},\"name\":\"ETLNEYKQL\",\"type\":\"box\",\"whiskerwidth\":0.2,\"x\":[0.18929076607197587]},{\"boxpoints\":false,\"fillcolor\":\"#dfc27d\",\"jitter\":0.5,\"line\":{\"color\":\"#756438\",\"width\":1},\"marker\":{\"color\":\"rgb(0, 0, 0)\",\"size\":2},\"name\":\"SLLMWITQC\",\"type\":\"box\",\"whiskerwidth\":0.2,\"x\":[0.9568140607687452,0.9529507984939656,0.9643962561878159,0.9465376939233413,0.9554069450895487,0.9634038741440025,0.989753046593376,0.9746001888102152,0.9761280489373244]},{\"boxpoints\":false,\"fillcolor\":\"#dfc27d\",\"jitter\":0.5,\"line\":{\"color\":\"#756438\",\"width\":1},\"marker\":{\"color\":\"rgb(0, 0, 0)\",\"size\":2},\"name\":\"EAAGIGILTV\",\"type\":\"box\",\"whiskerwidth\":0.2,\"x\":[0.783973621165197,0.7359753488002386,0.7210878757390489]},{\"boxpoints\":false,\"fillcolor\":\"#dfc27d\",\"jitter\":0.5,\"line\":{\"color\":\"#756438\",\"width\":1},\"marker\":{\"color\":\"rgb(0, 0, 0)\",\"size\":2},\"name\":\"RGPGRAFVTI\",\"type\":\"box\",\"whiskerwidth\":0.2,\"x\":[0.19039235950872171,0.16163099467869824,0.1545369835203431,0.14724404790648501,0.13277946044220224,0.20397838124695392]},{\"boxpoints\":false,\"fillcolor\":\"#dfc27d\",\"jitter\":0.5,\"line\":{\"color\":\"#756438\",\"width\":1},\"marker\":{\"color\":\"rgb(0, 0, 0)\",\"size\":2},\"name\":\"RQISQDVKL\",\"type\":\"box\",\"whiskerwidth\":0.2,\"x\":[0.34158776480599495]},{\"boxpoints\":false,\"fillcolor\":\"#80cdc1\",\"jitter\":0.5,\"line\":{\"color\":\"#365b55\",\"width\":1},\"marker\":{\"color\":\"rgb(0, 0, 0)\",\"size\":2},\"name\":\"AAGIGILTV\",\"type\":\"box\",\"whiskerwidth\":0.2,\"x\":[0.506459921306398,0.5237965298614025,0.4945631602362832,0.510026560044818,0.5388175457426682,0.5332635085677323,0.5327111665029637,0.5323848806129677]},{\"boxpoints\":false,\"fillcolor\":\"#80cdc1\",\"jitter\":0.5,\"line\":{\"color\":\"#365b55\",\"width\":1},\"marker\":{\"color\":\"rgb(0, 0, 0)\",\"size\":2},\"name\":\"VLRDDLLEA\",\"type\":\"box\",\"whiskerwidth\":0.2,\"x\":[0.9122502533538371]},{\"boxpoints\":false,\"fillcolor\":\"#80cdc1\",\"jitter\":0.5,\"line\":{\"color\":\"#365b55\",\"width\":1},\"marker\":{\"color\":\"rgb(0, 0, 0)\",\"size\":2},\"name\":\"ILKEPVHGV\",\"type\":\"box\",\"whiskerwidth\":0.2,\"x\":[0.9926142398878754,0.9947439139073211,0.9947132558942624,0.9815871458377206,0.9911900527981596,0.9432605224191801,0.947860365237746]},{\"boxpoints\":false,\"fillcolor\":\"#80cdc1\",\"jitter\":0.5,\"line\":{\"color\":\"#365b55\",\"width\":1},\"marker\":{\"color\":\"rgb(0, 0, 0)\",\"size\":2},\"name\":\"CINGVCWTV\",\"type\":\"box\",\"whiskerwidth\":0.2,\"x\":[0.8220836056876711,0.8431401223034846]},{\"boxpoints\":false,\"fillcolor\":\"#018571\",\"jitter\":0.5,\"line\":{\"color\":\"#052f29\",\"width\":1},\"marker\":{\"color\":\"rgb(0, 0, 0)\",\"size\":2},\"name\":\"LLFGYPVYV\",\"type\":\"box\",\"whiskerwidth\":0.2,\"x\":[0.9783461084734434,0.9815651791017062,0.9895454308608288,0.9526856834297546,0.9775998202502855,0.9890236223516912,0.9501758127111523,0.9777114170772516,0.9443295702385451,0.9409121974419185,0.9686283895358185,0.9664260116356079,0.9622855619261164,0.9601125352359722,0.9883033872167619,0.9901127078169387,0.9991014173709712,0.9999781992072229,0.9963600973223897,1.0,0.9882940529096735,0.9843048189750119,0.9634285789434295,0.9472389700434288,0.9440524035467379]},{\"boxpoints\":false,\"fillcolor\":\"#018571\",\"jitter\":0.5,\"line\":{\"color\":\"#052f29\",\"width\":1},\"marker\":{\"color\":\"rgb(0, 0, 0)\",\"size\":2},\"name\":\"ALWGFFPVL\",\"type\":\"box\",\"whiskerwidth\":0.2,\"x\":[0.956209239155236,0.9460671826173795,0.9502112830780877,0.931220261934762,0.9412388774471028,0.9363193657251214,0.9431131855675183,0.9533611968622788,0.9634300724325635,0.9607500684100994]},{\"boxpoints\":false,\"fillcolor\":\"#018571\",\"jitter\":0.5,\"line\":{\"color\":\"#052f29\",\"width\":1},\"marker\":{\"color\":\"rgb(0, 0, 0)\",\"size\":2},\"name\":\"FLPSDFFPSV\",\"type\":\"box\",\"whiskerwidth\":0.2,\"x\":[0.9529019282106324,0.9365803944371179,0.9308847661951056,0.9424744907907312,0.9418966556961593]}],                        {\"boxgap\":0.15,\"boxgroupgap\":0.15,\"font\":{\"family\":\"Times New Roman\"},\"height\":450,\"paper_bgcolor\":\"rgba(0, 0, 0, 0)\",\"plot_bgcolor\":\"rgba(0, 0, 0, 0)\",\"showlegend\":false,\"template\":{\"data\":{\"bar\":[{\"error_x\":{\"color\":\"#2a3f5f\"},\"error_y\":{\"color\":\"#2a3f5f\"},\"marker\":{\"line\":{\"color\":\"#E5ECF6\",\"width\":0.5},\"pattern\":{\"fillmode\":\"overlay\",\"size\":10,\"solidity\":0.2}},\"type\":\"bar\"}],\"barpolar\":[{\"marker\":{\"line\":{\"color\":\"#E5ECF6\",\"width\":0.5},\"pattern\":{\"fillmode\":\"overlay\",\"size\":10,\"solidity\":0.2}},\"type\":\"barpolar\"}],\"carpet\":[{\"aaxis\":{\"endlinecolor\":\"#2a3f5f\",\"gridcolor\":\"white\",\"linecolor\":\"white\",\"minorgridcolor\":\"white\",\"startlinecolor\":\"#2a3f5f\"},\"baxis\":{\"endlinecolor\":\"#2a3f5f\",\"gridcolor\":\"white\",\"linecolor\":\"white\",\"minorgridcolor\":\"white\",\"startlinecolor\":\"#2a3f5f\"},\"type\":\"carpet\"}],\"choropleth\":[{\"colorbar\":{\"outlinewidth\":0,\"ticks\":\"\"},\"type\":\"choropleth\"}],\"contour\":[{\"colorbar\":{\"outlinewidth\":0,\"ticks\":\"\"},\"colorscale\":[[0.0,\"#0d0887\"],[0.1111111111111111,\"#46039f\"],[0.2222222222222222,\"#7201a8\"],[0.3333333333333333,\"#9c179e\"],[0.4444444444444444,\"#bd3786\"],[0.5555555555555556,\"#d8576b\"],[0.6666666666666666,\"#ed7953\"],[0.7777777777777778,\"#fb9f3a\"],[0.8888888888888888,\"#fdca26\"],[1.0,\"#f0f921\"]],\"type\":\"contour\"}],\"contourcarpet\":[{\"colorbar\":{\"outlinewidth\":0,\"ticks\":\"\"},\"type\":\"contourcarpet\"}],\"heatmap\":[{\"colorbar\":{\"outlinewidth\":0,\"ticks\":\"\"},\"colorscale\":[[0.0,\"#0d0887\"],[0.1111111111111111,\"#46039f\"],[0.2222222222222222,\"#7201a8\"],[0.3333333333333333,\"#9c179e\"],[0.4444444444444444,\"#bd3786\"],[0.5555555555555556,\"#d8576b\"],[0.6666666666666666,\"#ed7953\"],[0.7777777777777778,\"#fb9f3a\"],[0.8888888888888888,\"#fdca26\"],[1.0,\"#f0f921\"]],\"type\":\"heatmap\"}],\"heatmapgl\":[{\"colorbar\":{\"outlinewidth\":0,\"ticks\":\"\"},\"colorscale\":[[0.0,\"#0d0887\"],[0.1111111111111111,\"#46039f\"],[0.2222222222222222,\"#7201a8\"],[0.3333333333333333,\"#9c179e\"],[0.4444444444444444,\"#bd3786\"],[0.5555555555555556,\"#d8576b\"],[0.6666666666666666,\"#ed7953\"],[0.7777777777777778,\"#fb9f3a\"],[0.8888888888888888,\"#fdca26\"],[1.0,\"#f0f921\"]],\"type\":\"heatmapgl\"}],\"histogram\":[{\"marker\":{\"pattern\":{\"fillmode\":\"overlay\",\"size\":10,\"solidity\":0.2}},\"type\":\"histogram\"}],\"histogram2d\":[{\"colorbar\":{\"outlinewidth\":0,\"ticks\":\"\"},\"colorscale\":[[0.0,\"#0d0887\"],[0.1111111111111111,\"#46039f\"],[0.2222222222222222,\"#7201a8\"],[0.3333333333333333,\"#9c179e\"],[0.4444444444444444,\"#bd3786\"],[0.5555555555555556,\"#d8576b\"],[0.6666666666666666,\"#ed7953\"],[0.7777777777777778,\"#fb9f3a\"],[0.8888888888888888,\"#fdca26\"],[1.0,\"#f0f921\"]],\"type\":\"histogram2d\"}],\"histogram2dcontour\":[{\"colorbar\":{\"outlinewidth\":0,\"ticks\":\"\"},\"colorscale\":[[0.0,\"#0d0887\"],[0.1111111111111111,\"#46039f\"],[0.2222222222222222,\"#7201a8\"],[0.3333333333333333,\"#9c179e\"],[0.4444444444444444,\"#bd3786\"],[0.5555555555555556,\"#d8576b\"],[0.6666666666666666,\"#ed7953\"],[0.7777777777777778,\"#fb9f3a\"],[0.8888888888888888,\"#fdca26\"],[1.0,\"#f0f921\"]],\"type\":\"histogram2dcontour\"}],\"mesh3d\":[{\"colorbar\":{\"outlinewidth\":0,\"ticks\":\"\"},\"type\":\"mesh3d\"}],\"parcoords\":[{\"line\":{\"colorbar\":{\"outlinewidth\":0,\"ticks\":\"\"}},\"type\":\"parcoords\"}],\"pie\":[{\"automargin\":true,\"type\":\"pie\"}],\"scatter\":[{\"marker\":{\"colorbar\":{\"outlinewidth\":0,\"ticks\":\"\"}},\"type\":\"scatter\"}],\"scatter3d\":[{\"line\":{\"colorbar\":{\"outlinewidth\":0,\"ticks\":\"\"}},\"marker\":{\"colorbar\":{\"outlinewidth\":0,\"ticks\":\"\"}},\"type\":\"scatter3d\"}],\"scattercarpet\":[{\"marker\":{\"colorbar\":{\"outlinewidth\":0,\"ticks\":\"\"}},\"type\":\"scattercarpet\"}],\"scattergeo\":[{\"marker\":{\"colorbar\":{\"outlinewidth\":0,\"ticks\":\"\"}},\"type\":\"scattergeo\"}],\"scattergl\":[{\"marker\":{\"colorbar\":{\"outlinewidth\":0,\"ticks\":\"\"}},\"type\":\"scattergl\"}],\"scattermapbox\":[{\"marker\":{\"colorbar\":{\"outlinewidth\":0,\"ticks\":\"\"}},\"type\":\"scattermapbox\"}],\"scatterpolar\":[{\"marker\":{\"colorbar\":{\"outlinewidth\":0,\"ticks\":\"\"}},\"type\":\"scatterpolar\"}],\"scatterpolargl\":[{\"marker\":{\"colorbar\":{\"outlinewidth\":0,\"ticks\":\"\"}},\"type\":\"scatterpolargl\"}],\"scatterternary\":[{\"marker\":{\"colorbar\":{\"outlinewidth\":0,\"ticks\":\"\"}},\"type\":\"scatterternary\"}],\"surface\":[{\"colorbar\":{\"outlinewidth\":0,\"ticks\":\"\"},\"colorscale\":[[0.0,\"#0d0887\"],[0.1111111111111111,\"#46039f\"],[0.2222222222222222,\"#7201a8\"],[0.3333333333333333,\"#9c179e\"],[0.4444444444444444,\"#bd3786\"],[0.5555555555555556,\"#d8576b\"],[0.6666666666666666,\"#ed7953\"],[0.7777777777777778,\"#fb9f3a\"],[0.8888888888888888,\"#fdca26\"],[1.0,\"#f0f921\"]],\"type\":\"surface\"}],\"table\":[{\"cells\":{\"fill\":{\"color\":\"#EBF0F8\"},\"line\":{\"color\":\"white\"}},\"header\":{\"fill\":{\"color\":\"#C8D4E3\"},\"line\":{\"color\":\"white\"}},\"type\":\"table\"}]},\"layout\":{\"annotationdefaults\":{\"arrowcolor\":\"#2a3f5f\",\"arrowhead\":0,\"arrowwidth\":1},\"autotypenumbers\":\"strict\",\"coloraxis\":{\"colorbar\":{\"outlinewidth\":0,\"ticks\":\"\"}},\"colorscale\":{\"diverging\":[[0,\"#8e0152\"],[0.1,\"#c51b7d\"],[0.2,\"#de77ae\"],[0.3,\"#f1b6da\"],[0.4,\"#fde0ef\"],[0.5,\"#f7f7f7\"],[0.6,\"#e6f5d0\"],[0.7,\"#b8e186\"],[0.8,\"#7fbc41\"],[0.9,\"#4d9221\"],[1,\"#276419\"]],\"sequential\":[[0.0,\"#0d0887\"],[0.1111111111111111,\"#46039f\"],[0.2222222222222222,\"#7201a8\"],[0.3333333333333333,\"#9c179e\"],[0.4444444444444444,\"#bd3786\"],[0.5555555555555556,\"#d8576b\"],[0.6666666666666666,\"#ed7953\"],[0.7777777777777778,\"#fb9f3a\"],[0.8888888888888888,\"#fdca26\"],[1.0,\"#f0f921\"]],\"sequentialminus\":[[0.0,\"#0d0887\"],[0.1111111111111111,\"#46039f\"],[0.2222222222222222,\"#7201a8\"],[0.3333333333333333,\"#9c179e\"],[0.4444444444444444,\"#bd3786\"],[0.5555555555555556,\"#d8576b\"],[0.6666666666666666,\"#ed7953\"],[0.7777777777777778,\"#fb9f3a\"],[0.8888888888888888,\"#fdca26\"],[1.0,\"#f0f921\"]]},\"colorway\":[\"#636efa\",\"#EF553B\",\"#00cc96\",\"#ab63fa\",\"#FFA15A\",\"#19d3f3\",\"#FF6692\",\"#B6E880\",\"#FF97FF\",\"#FECB52\"],\"font\":{\"color\":\"#2a3f5f\"},\"geo\":{\"bgcolor\":\"white\",\"lakecolor\":\"white\",\"landcolor\":\"#E5ECF6\",\"showlakes\":true,\"showland\":true,\"subunitcolor\":\"white\"},\"hoverlabel\":{\"align\":\"left\"},\"hovermode\":\"closest\",\"mapbox\":{\"style\":\"light\"},\"paper_bgcolor\":\"white\",\"plot_bgcolor\":\"#E5ECF6\",\"polar\":{\"angularaxis\":{\"gridcolor\":\"white\",\"linecolor\":\"white\",\"ticks\":\"\"},\"bgcolor\":\"#E5ECF6\",\"radialaxis\":{\"gridcolor\":\"white\",\"linecolor\":\"white\",\"ticks\":\"\"}},\"scene\":{\"xaxis\":{\"backgroundcolor\":\"#E5ECF6\",\"gridcolor\":\"white\",\"gridwidth\":2,\"linecolor\":\"white\",\"showbackground\":true,\"ticks\":\"\",\"zerolinecolor\":\"white\"},\"yaxis\":{\"backgroundcolor\":\"#E5ECF6\",\"gridcolor\":\"white\",\"gridwidth\":2,\"linecolor\":\"white\",\"showbackground\":true,\"ticks\":\"\",\"zerolinecolor\":\"white\"},\"zaxis\":{\"backgroundcolor\":\"#E5ECF6\",\"gridcolor\":\"white\",\"gridwidth\":2,\"linecolor\":\"white\",\"showbackground\":true,\"ticks\":\"\",\"zerolinecolor\":\"white\"}},\"shapedefaults\":{\"line\":{\"color\":\"#2a3f5f\"}},\"ternary\":{\"aaxis\":{\"gridcolor\":\"white\",\"linecolor\":\"white\",\"ticks\":\"\"},\"baxis\":{\"gridcolor\":\"white\",\"linecolor\":\"white\",\"ticks\":\"\"},\"bgcolor\":\"#E5ECF6\",\"caxis\":{\"gridcolor\":\"white\",\"linecolor\":\"white\",\"ticks\":\"\"}},\"title\":{\"x\":0.05},\"xaxis\":{\"automargin\":true,\"gridcolor\":\"white\",\"linecolor\":\"white\",\"ticks\":\"\",\"title\":{\"standoff\":15},\"zerolinecolor\":\"white\",\"zerolinewidth\":2},\"yaxis\":{\"automargin\":true,\"gridcolor\":\"white\",\"linecolor\":\"white\",\"ticks\":\"\",\"title\":{\"standoff\":15},\"zerolinecolor\":\"white\",\"zerolinewidth\":2}}},\"width\":350,\"xaxis\":{\"autorange\":\"reversed\",\"linecolor\":\"Black\",\"showline\":true,\"title\":{\"text\":\"3pHLA-score\"},\"zeroline\":true},\"yaxis\":{\"dtick\":0.1,\"linecolor\":\"Black\",\"showline\":true,\"tickfont\":{\"size\":10},\"title\":{\"text\":\"Peptide\"},\"zeroline\":true}},                        {\"responsive\": true}                    ).then(function(){\n",
       "                            \n",
       "var gd = document.getElementById('c82a9093-9bb4-412d-90d0-2e76842043df');\n",
       "var x = new MutationObserver(function (mutations, observer) {{\n",
       "        var display = window.getComputedStyle(gd).display;\n",
       "        if (!display || display === 'none') {{\n",
       "            console.log([gd, 'removed!']);\n",
       "            Plotly.purge(gd);\n",
       "            observer.disconnect();\n",
       "        }}\n",
       "}});\n",
       "\n",
       "// Listen for the removal of the full notebook cells\n",
       "var notebookContainer = gd.closest('#notebook-container');\n",
       "if (notebookContainer) {{\n",
       "    x.observe(notebookContainer, {childList: true});\n",
       "}}\n",
       "\n",
       "// Listen for the clearing of the current output cell\n",
       "var outputEl = gd.closest('.output');\n",
       "if (outputEl) {{\n",
       "    x.observe(outputEl, {childList: true});\n",
       "}}\n",
       "\n",
       "                        })                };                });            </script>        </div>"
      ]
     },
     "metadata": {},
     "output_type": "display_data"
    }
   ],
   "source": [
    "for f in scorings:\n",
    "    fig = make_boxplot(dataset, f)\n",
    "    fig.write_image(\"figures/boxplot-\"+f+\".svg\")\n",
    "    iplot(fig)"
   ]
  }
 ],
 "metadata": {
  "kernelspec": {
   "display_name": "Python 3",
   "language": "python",
   "name": "python3"
  },
  "language_info": {
   "codemirror_mode": {
    "name": "ipython",
    "version": 3
   },
   "file_extension": ".py",
   "mimetype": "text/x-python",
   "name": "python",
   "nbconvert_exporter": "python",
   "pygments_lexer": "ipython3",
   "version": "3.6.7"
  }
 },
 "nbformat": 4,
 "nbformat_minor": 4
}
