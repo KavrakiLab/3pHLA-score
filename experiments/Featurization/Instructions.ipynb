{
 "cells": [
  {
   "cell_type": "markdown",
   "metadata": {},
   "source": [
    "## Rosetta generated energies for the subset of the dataset\n",
    "\n",
    "**complex level energies** are stored in rosettaComplexEnergies.csv\n",
    "- this means one array per allele-peptide pair\n",
    "- the array contains 20 energy terms: attractive, repulsive, electrostatic etc (19 effectively, the last term is summation of first 19)\n",
    "\n",
    "**per-peptide-position** energies are in rosettaPPPEnergies.csv\n",
    "- this means \"9 arrays\" per allele-peptide pair - one for each peptide position\n",
    "- the whole thing is 9x20 dimensional (9x19 effectively, the last term is summation of first 19)\n",
    "\n",
    "Check out the paper draft for reference\n",
    "\n",
    "I would use per-peptide-position in a similar way as sequence is used for clustering :)\n"
   ]
  },
  {
   "cell_type": "code",
   "execution_count": 1,
   "metadata": {},
   "outputs": [],
   "source": [
    "import pandas as pd\n",
    "import numpy as np"
   ]
  },
  {
   "cell_type": "markdown",
   "metadata": {},
   "source": [
    "### Load ppp array from csv"
   ]
  },
  {
   "cell_type": "code",
   "execution_count": 2,
   "metadata": {},
   "outputs": [
    {
     "data": {
      "text/html": [
       "<div>\n",
       "<style scoped>\n",
       "    .dataframe tbody tr th:only-of-type {\n",
       "        vertical-align: middle;\n",
       "    }\n",
       "\n",
       "    .dataframe tbody tr th {\n",
       "        vertical-align: top;\n",
       "    }\n",
       "\n",
       "    .dataframe thead th {\n",
       "        text-align: right;\n",
       "    }\n",
       "</style>\n",
       "<table border=\"1\" class=\"dataframe\">\n",
       "  <thead>\n",
       "    <tr style=\"text-align: right;\">\n",
       "      <th></th>\n",
       "      <th>allele</th>\n",
       "      <th>peptide</th>\n",
       "      <th>binder</th>\n",
       "      <th>ba</th>\n",
       "      <th>energies</th>\n",
       "      <th>total_energy</th>\n",
       "    </tr>\n",
       "  </thead>\n",
       "  <tbody>\n",
       "    <tr>\n",
       "      <th>0</th>\n",
       "      <td>A0101</td>\n",
       "      <td>YLEQLHQLY</td>\n",
       "      <td>1</td>\n",
       "      <td>0.574375</td>\n",
       "      <td>[[-9.37669305, 4.67802037, 8.54111444, 10.3367...</td>\n",
       "      <td>112.623867</td>\n",
       "    </tr>\n",
       "    <tr>\n",
       "      <th>1</th>\n",
       "      <td>A0101</td>\n",
       "      <td>HSERHVLLY</td>\n",
       "      <td>1</td>\n",
       "      <td>0.574375</td>\n",
       "      <td>[[-7.89190954, 0.93707113, 10.06233605, 2.7158...</td>\n",
       "      <td>91.902185</td>\n",
       "    </tr>\n",
       "    <tr>\n",
       "      <th>2</th>\n",
       "      <td>A0101</td>\n",
       "      <td>MTDPEMVEV</td>\n",
       "      <td>1</td>\n",
       "      <td>0.574375</td>\n",
       "      <td>[[-8.25236275, 10.56587939, 7.5793572, 1.14710...</td>\n",
       "      <td>146.451590</td>\n",
       "    </tr>\n",
       "    <tr>\n",
       "      <th>3</th>\n",
       "      <td>A0101</td>\n",
       "      <td>LTDFIREEY</td>\n",
       "      <td>1</td>\n",
       "      <td>0.574375</td>\n",
       "      <td>[[-8.43720197, 10.21830335, 7.113905, 36.51672...</td>\n",
       "      <td>138.735082</td>\n",
       "    </tr>\n",
       "    <tr>\n",
       "      <th>4</th>\n",
       "      <td>A0101</td>\n",
       "      <td>LLDQRPAWY</td>\n",
       "      <td>1</td>\n",
       "      <td>0.574375</td>\n",
       "      <td>[[-8.18944861, 12.37002534, 6.69837214, 8.0238...</td>\n",
       "      <td>142.756344</td>\n",
       "    </tr>\n",
       "    <tr>\n",
       "      <th>...</th>\n",
       "      <td>...</td>\n",
       "      <td>...</td>\n",
       "      <td>...</td>\n",
       "      <td>...</td>\n",
       "      <td>...</td>\n",
       "      <td>...</td>\n",
       "    </tr>\n",
       "    <tr>\n",
       "      <th>77576</th>\n",
       "      <td>C1601</td>\n",
       "      <td>QQTTTSFQN</td>\n",
       "      <td>0</td>\n",
       "      <td>0.000000</td>\n",
       "      <td>[[-8.23468271, 4.14167228, 9.40648541, 38.0082...</td>\n",
       "      <td>128.349704</td>\n",
       "    </tr>\n",
       "    <tr>\n",
       "      <th>77577</th>\n",
       "      <td>C1601</td>\n",
       "      <td>QQVEQMEIP</td>\n",
       "      <td>0</td>\n",
       "      <td>0.000000</td>\n",
       "      <td>[[-9.20362039, 22.89414572, 10.40234849, 35.70...</td>\n",
       "      <td>159.872992</td>\n",
       "    </tr>\n",
       "    <tr>\n",
       "      <th>77578</th>\n",
       "      <td>C1601</td>\n",
       "      <td>QQWQVFSAE</td>\n",
       "      <td>0</td>\n",
       "      <td>0.000000</td>\n",
       "      <td>[[-8.46025926, 3.82365938, 10.25920191, 61.414...</td>\n",
       "      <td>97.152888</td>\n",
       "    </tr>\n",
       "    <tr>\n",
       "      <th>77579</th>\n",
       "      <td>C1601</td>\n",
       "      <td>QRCVVLRFL</td>\n",
       "      <td>0</td>\n",
       "      <td>0.000000</td>\n",
       "      <td>[[-7.11160825, 1.35151526, 9.62650699, 20.2230...</td>\n",
       "      <td>116.714004</td>\n",
       "    </tr>\n",
       "    <tr>\n",
       "      <th>77580</th>\n",
       "      <td>C1601</td>\n",
       "      <td>QRISFEVLA</td>\n",
       "      <td>0</td>\n",
       "      <td>0.000000</td>\n",
       "      <td>[[-8.46216776, 5.91464051, 9.83828238, 45.0747...</td>\n",
       "      <td>112.405199</td>\n",
       "    </tr>\n",
       "  </tbody>\n",
       "</table>\n",
       "<p>77581 rows × 6 columns</p>\n",
       "</div>"
      ],
      "text/plain": [
       "      allele    peptide  binder        ba  \\\n",
       "0      A0101  YLEQLHQLY       1  0.574375   \n",
       "1      A0101  HSERHVLLY       1  0.574375   \n",
       "2      A0101  MTDPEMVEV       1  0.574375   \n",
       "3      A0101  LTDFIREEY       1  0.574375   \n",
       "4      A0101  LLDQRPAWY       1  0.574375   \n",
       "...      ...        ...     ...       ...   \n",
       "77576  C1601  QQTTTSFQN       0  0.000000   \n",
       "77577  C1601  QQVEQMEIP       0  0.000000   \n",
       "77578  C1601  QQWQVFSAE       0  0.000000   \n",
       "77579  C1601  QRCVVLRFL       0  0.000000   \n",
       "77580  C1601  QRISFEVLA       0  0.000000   \n",
       "\n",
       "                                                energies  total_energy  \n",
       "0      [[-9.37669305, 4.67802037, 8.54111444, 10.3367...    112.623867  \n",
       "1      [[-7.89190954, 0.93707113, 10.06233605, 2.7158...     91.902185  \n",
       "2      [[-8.25236275, 10.56587939, 7.5793572, 1.14710...    146.451590  \n",
       "3      [[-8.43720197, 10.21830335, 7.113905, 36.51672...    138.735082  \n",
       "4      [[-8.18944861, 12.37002534, 6.69837214, 8.0238...    142.756344  \n",
       "...                                                  ...           ...  \n",
       "77576  [[-8.23468271, 4.14167228, 9.40648541, 38.0082...    128.349704  \n",
       "77577  [[-9.20362039, 22.89414572, 10.40234849, 35.70...    159.872992  \n",
       "77578  [[-8.46025926, 3.82365938, 10.25920191, 61.414...     97.152888  \n",
       "77579  [[-7.11160825, 1.35151526, 9.62650699, 20.2230...    116.714004  \n",
       "77580  [[-8.46216776, 5.91464051, 9.83828238, 45.0747...    112.405199  \n",
       "\n",
       "[77581 rows x 6 columns]"
      ]
     },
     "execution_count": 2,
     "metadata": {},
     "output_type": "execute_result"
    }
   ],
   "source": [
    "## 1 - load the energies\n",
    "\n",
    "##convert string to array\n",
    "\n",
    "\n",
    "def pppene_to_array(tmp):\n",
    "    tmp = tmp.replace(\"(\", \"\")\n",
    "    tmp = tmp.replace(\")\", \"\")\n",
    "    tmp = tmp.strip(\"[]\")\n",
    "    tmp = tmp.replace(\" \", \"\")\n",
    "    tmp = tmp.replace(\"\\n\", \",\")\n",
    "    return np.array(np.fromstring(tmp, dtype=float, sep=\", \").reshape(9,20))\n",
    "\n",
    "ppp_ene = pd.read_csv(\"/rdf_mount/rosetta_energies/rosettaPPPEnergies.csv\")\n",
    "ppp_ene = ppp_ene[[\"allele\", \"peptide\", \"binder\", \"ba\", \"energies\", \"total_energy\"]]\n",
    "ppp_ene[\"energies\"] = ppp_ene[\"energies\"].apply(pppene_to_array)\n",
    "ppp_ene"
   ]
  },
  {
   "cell_type": "markdown",
   "metadata": {},
   "source": [
    "### Example of the energy array\n",
    "\n",
    " the 19 terms per each position have thir names and are ordered in a way (i think the same as listed in supplementary table in the draft)"
   ]
  },
  {
   "cell_type": "code",
   "execution_count": 3,
   "metadata": {},
   "outputs": [],
   "source": [
    "#now ppp_ene contains all the data \n",
    "\n",
    "#one example ppp energy array\n",
    "tmp = ppp_ene[\"energies\"].iloc[0]"
   ]
  },
  {
   "cell_type": "code",
   "execution_count": 4,
   "metadata": {},
   "outputs": [
    {
     "data": {
      "text/plain": [
       "(9, 20)"
      ]
     },
     "execution_count": 4,
     "metadata": {},
     "output_type": "execute_result"
    }
   ],
   "source": [
    "tmp.shape"
   ]
  },
  {
   "cell_type": "code",
   "execution_count": 5,
   "metadata": {},
   "outputs": [
    {
     "data": {
      "text/plain": [
       "array([[-9.37669305e+00,  4.67802037e+00,  8.54111444e+00,\n",
       "         1.03367888e+01,  2.16286690e-01,  9.84807020e-01,\n",
       "        -2.07856539e+00,  0.00000000e+00,  0.00000000e+00,\n",
       "         0.00000000e+00, -3.15956700e-01, -3.10243000e-03,\n",
       "         0.00000000e+00,  9.19347541e+00,  1.58142217e+01,\n",
       "         0.00000000e+00,  0.00000000e+00,  5.82230000e-01,\n",
       "         0.00000000e+00,  1.59220611e+01],\n",
       "       [-9.13721601e+00,  8.13204776e+00,  2.09544442e+00,\n",
       "         4.95836834e+01,  7.58083300e-02,  3.12654320e-01,\n",
       "        -1.34635036e-01,  0.00000000e+00,  0.00000000e+00,\n",
       "         0.00000000e+00,  0.00000000e+00,  0.00000000e+00,\n",
       "         0.00000000e+00, -5.27629900e-02,  1.03926847e+01,\n",
       "        -1.50306530e-01,  0.00000000e+00,  1.66147000e+00,\n",
       "         4.43163200e-01,  6.95708430e+00],\n",
       "       [-8.34647124e+00,  1.72245477e+00,  7.18347239e+00,\n",
       "         2.48287356e+00,  3.06020080e-01,  1.81860420e-01,\n",
       "        -1.21559940e+00,  0.00000000e+00,  0.00000000e+00,\n",
       "         0.00000000e+00,  0.00000000e+00,  0.00000000e+00,\n",
       "         0.00000000e+00,  2.83576190e-01,  2.83248872e+01,\n",
       "         3.39835540e-01,  0.00000000e+00, -2.72453000e+00,\n",
       "         1.01336257e+00,  1.69452827e+01],\n",
       "       [-5.90509784e+00,  8.17149220e-01,  4.39418349e+00,\n",
       "         1.99206444e+01,  8.87312520e-01, -6.92067200e-02,\n",
       "        -3.21371129e-01,  0.00000000e+00,  0.00000000e+00,\n",
       "         0.00000000e+00,  0.00000000e+00,  0.00000000e+00,\n",
       "         0.00000000e+00,  3.44851730e-01,  1.26960147e+01,\n",
       "        -2.80823100e-02,  0.00000000e+00, -1.45095000e+00,\n",
       "         2.17381882e+00,  8.07042571e+00],\n",
       "       [-6.85279750e+00,  2.27981495e+00,  2.73580292e+00,\n",
       "         3.25549365e+01,  6.33882300e-02, -9.39422720e-01,\n",
       "        -2.45446719e-03,  0.00000000e+00,  0.00000000e+00,\n",
       "         0.00000000e+00,  0.00000000e+00,  0.00000000e+00,\n",
       "         0.00000000e+00, -3.36559300e-02,  2.69536576e+01,\n",
       "        -8.93897800e-02,  0.00000000e+00,  1.66147000e+00,\n",
       "         1.90828667e+00,  1.77418524e+01],\n",
       "       [-1.92067188e+00,  1.05768110e-01,  1.67062988e+00,\n",
       "         2.36348715e+00,  6.95758770e-01, -1.80694470e-01,\n",
       "        -5.44964118e-01,  0.00000000e+00,  0.00000000e+00,\n",
       "         0.00000000e+00,  0.00000000e+00,  0.00000000e+00,\n",
       "         0.00000000e+00, -7.94457300e-02,  9.20614028e+00,\n",
       "        -4.49509160e-01,  0.00000000e+00, -3.00650000e-01,\n",
       "         1.00043190e+00,  6.08240684e+00],\n",
       "       [-6.95902109e+00,  3.25910045e+00,  4.51403945e+00,\n",
       "         4.70179137e+01,  7.55163620e-01, -3.74016300e-02,\n",
       "        -5.10928871e-01,  0.00000000e+00,  0.00000000e+00,\n",
       "         0.00000000e+00,  0.00000000e+00, -3.42897660e-01,\n",
       "         0.00000000e+00, -9.10837300e-02,  1.31574510e+01,\n",
       "         9.57231500e-02,  0.00000000e+00, -1.45095000e+00,\n",
       "         4.90235230e-01,  7.44742058e+00],\n",
       "       [-5.98233062e+00,  1.30449720e+00,  2.64332708e+00,\n",
       "         5.66562271e+01,  1.76731200e-02,  3.22197700e-02,\n",
       "        -4.70923735e-01,  0.00000000e+00,  0.00000000e+00,\n",
       "         0.00000000e+00, -8.24880500e-02,  0.00000000e+00,\n",
       "         0.00000000e+00,  9.74832200e-02,  4.99937260e+01,\n",
       "         1.23669950e+00,  0.00000000e+00,  1.66147000e+00,\n",
       "         1.74855597e+00,  3.53831735e+01],\n",
       "       [-1.07087266e+01,  5.61956611e+00,  6.35343802e+00,\n",
       "         3.86032663e+00,  2.42303360e-01, -9.92076500e-02,\n",
       "        -4.88084478e+00,  0.00000000e+00,  0.00000000e+00,\n",
       "         0.00000000e+00, -1.26327007e+00, -7.08260010e-01,\n",
       "         0.00000000e+00,  0.00000000e+00,  6.52442283e+00,\n",
       "         0.00000000e+00,  0.00000000e+00,  5.82230000e-01,\n",
       "         1.95408543e+00, -1.92584033e+00]])"
      ]
     },
     "execution_count": 5,
     "metadata": {},
     "output_type": "execute_result"
    }
   ],
   "source": [
    "tmp"
   ]
  },
  {
   "cell_type": "markdown",
   "metadata": {},
   "source": [
    "## Load complex energy - that's for the full complex"
   ]
  },
  {
   "cell_type": "code",
   "execution_count": 6,
   "metadata": {},
   "outputs": [
    {
     "data": {
      "text/html": [
       "<div>\n",
       "<style scoped>\n",
       "    .dataframe tbody tr th:only-of-type {\n",
       "        vertical-align: middle;\n",
       "    }\n",
       "\n",
       "    .dataframe tbody tr th {\n",
       "        vertical-align: top;\n",
       "    }\n",
       "\n",
       "    .dataframe thead th {\n",
       "        text-align: right;\n",
       "    }\n",
       "</style>\n",
       "<table border=\"1\" class=\"dataframe\">\n",
       "  <thead>\n",
       "    <tr style=\"text-align: right;\">\n",
       "      <th></th>\n",
       "      <th>allele</th>\n",
       "      <th>peptide</th>\n",
       "      <th>binder</th>\n",
       "      <th>ba</th>\n",
       "      <th>energies</th>\n",
       "      <th>total_energy</th>\n",
       "    </tr>\n",
       "  </thead>\n",
       "  <tbody>\n",
       "    <tr>\n",
       "      <th>0</th>\n",
       "      <td>A0101</td>\n",
       "      <td>YLEQLHQLY</td>\n",
       "      <td>1</td>\n",
       "      <td>0.574375</td>\n",
       "      <td>[-2306.77360984, 811.85340549, 1461.80507136, ...</td>\n",
       "      <td>44.784793</td>\n",
       "    </tr>\n",
       "    <tr>\n",
       "      <th>1</th>\n",
       "      <td>A0101</td>\n",
       "      <td>HSERHVLLY</td>\n",
       "      <td>1</td>\n",
       "      <td>0.574375</td>\n",
       "      <td>[-2293.38661156, 760.61067588, 1470.48909157, ...</td>\n",
       "      <td>-15.285789</td>\n",
       "    </tr>\n",
       "    <tr>\n",
       "      <th>2</th>\n",
       "      <td>A0101</td>\n",
       "      <td>MTDPEMVEV</td>\n",
       "      <td>1</td>\n",
       "      <td>0.574375</td>\n",
       "      <td>[-2276.11339533, 793.72608921, 1465.61096698, ...</td>\n",
       "      <td>96.468759</td>\n",
       "    </tr>\n",
       "    <tr>\n",
       "      <th>3</th>\n",
       "      <td>A0101</td>\n",
       "      <td>LTDFIREEY</td>\n",
       "      <td>1</td>\n",
       "      <td>0.574375</td>\n",
       "      <td>[-2295.34585307, 757.61420988, 1473.41382942, ...</td>\n",
       "      <td>59.739557</td>\n",
       "    </tr>\n",
       "    <tr>\n",
       "      <th>4</th>\n",
       "      <td>A0101</td>\n",
       "      <td>LLDQRPAWY</td>\n",
       "      <td>1</td>\n",
       "      <td>0.574375</td>\n",
       "      <td>[-2293.03299876, 860.34732958, 1461.86885467, ...</td>\n",
       "      <td>103.222148</td>\n",
       "    </tr>\n",
       "    <tr>\n",
       "      <th>...</th>\n",
       "      <td>...</td>\n",
       "      <td>...</td>\n",
       "      <td>...</td>\n",
       "      <td>...</td>\n",
       "      <td>...</td>\n",
       "      <td>...</td>\n",
       "    </tr>\n",
       "    <tr>\n",
       "      <th>77576</th>\n",
       "      <td>C1601</td>\n",
       "      <td>QQTTTSFQN</td>\n",
       "      <td>0</td>\n",
       "      <td>0.000000</td>\n",
       "      <td>[-2289.00765669, 2426.75217972, 1479.38435418,...</td>\n",
       "      <td>1470.688209</td>\n",
       "    </tr>\n",
       "    <tr>\n",
       "      <th>77577</th>\n",
       "      <td>C1601</td>\n",
       "      <td>QQVEQMEIP</td>\n",
       "      <td>0</td>\n",
       "      <td>0.000000</td>\n",
       "      <td>[-2303.64763419, 2393.02916873, 1484.9113067, ...</td>\n",
       "      <td>1481.597525</td>\n",
       "    </tr>\n",
       "    <tr>\n",
       "      <th>77578</th>\n",
       "      <td>C1601</td>\n",
       "      <td>QQWQVFSAE</td>\n",
       "      <td>0</td>\n",
       "      <td>0.000000</td>\n",
       "      <td>[-2296.25090083, 2349.00146681, 1475.89378426,...</td>\n",
       "      <td>1404.053591</td>\n",
       "    </tr>\n",
       "    <tr>\n",
       "      <th>77579</th>\n",
       "      <td>C1601</td>\n",
       "      <td>QRCVVLRFL</td>\n",
       "      <td>0</td>\n",
       "      <td>0.000000</td>\n",
       "      <td>[-2308.57295453, 2368.37391254, 1478.19777993,...</td>\n",
       "      <td>1426.372734</td>\n",
       "    </tr>\n",
       "    <tr>\n",
       "      <th>77580</th>\n",
       "      <td>C1601</td>\n",
       "      <td>QRISFEVLA</td>\n",
       "      <td>0</td>\n",
       "      <td>0.000000</td>\n",
       "      <td>[-2298.75911277, 2426.57069814, 1467.99753109,...</td>\n",
       "      <td>1430.369487</td>\n",
       "    </tr>\n",
       "  </tbody>\n",
       "</table>\n",
       "<p>77581 rows × 6 columns</p>\n",
       "</div>"
      ],
      "text/plain": [
       "      allele    peptide  binder        ba  \\\n",
       "0      A0101  YLEQLHQLY       1  0.574375   \n",
       "1      A0101  HSERHVLLY       1  0.574375   \n",
       "2      A0101  MTDPEMVEV       1  0.574375   \n",
       "3      A0101  LTDFIREEY       1  0.574375   \n",
       "4      A0101  LLDQRPAWY       1  0.574375   \n",
       "...      ...        ...     ...       ...   \n",
       "77576  C1601  QQTTTSFQN       0  0.000000   \n",
       "77577  C1601  QQVEQMEIP       0  0.000000   \n",
       "77578  C1601  QQWQVFSAE       0  0.000000   \n",
       "77579  C1601  QRCVVLRFL       0  0.000000   \n",
       "77580  C1601  QRISFEVLA       0  0.000000   \n",
       "\n",
       "                                                energies  total_energy  \n",
       "0      [-2306.77360984, 811.85340549, 1461.80507136, ...     44.784793  \n",
       "1      [-2293.38661156, 760.61067588, 1470.48909157, ...    -15.285789  \n",
       "2      [-2276.11339533, 793.72608921, 1465.61096698, ...     96.468759  \n",
       "3      [-2295.34585307, 757.61420988, 1473.41382942, ...     59.739557  \n",
       "4      [-2293.03299876, 860.34732958, 1461.86885467, ...    103.222148  \n",
       "...                                                  ...           ...  \n",
       "77576  [-2289.00765669, 2426.75217972, 1479.38435418,...   1470.688209  \n",
       "77577  [-2303.64763419, 2393.02916873, 1484.9113067, ...   1481.597525  \n",
       "77578  [-2296.25090083, 2349.00146681, 1475.89378426,...   1404.053591  \n",
       "77579  [-2308.57295453, 2368.37391254, 1478.19777993,...   1426.372734  \n",
       "77580  [-2298.75911277, 2426.57069814, 1467.99753109,...   1430.369487  \n",
       "\n",
       "[77581 rows x 6 columns]"
      ]
     },
     "execution_count": 6,
     "metadata": {},
     "output_type": "execute_result"
    }
   ],
   "source": [
    "## 1 - load the energies\n",
    "\n",
    "#from string in csv to array\n",
    "def ene_to_array(ene_str):\n",
    "    ene_str = ene_str.strip(\"[]\")\n",
    "    ene_str = ene_str.strip(\"\\(\\)\")\n",
    "    return np.fromstring(ene_str, dtype=float, count = 20, sep=\", \")\n",
    "\n",
    "complex_ene = pd.read_csv(\"/rdf_mount/rosetta_energies/rosettaComplexEnergies.csv\")\n",
    "complex_ene = complex_ene[[\"allele\", \"peptide\", \"binder\", \"ba\", \"energies\", \"total_energy\"]]\n",
    "complex_ene[\"energies\"] = complex_ene[\"energies\"].apply(ene_to_array)\n",
    "complex_ene"
   ]
  },
  {
   "cell_type": "code",
   "execution_count": 7,
   "metadata": {},
   "outputs": [],
   "source": [
    "#now complex_ene contains all the data \n",
    "\n",
    "#one example complex energy array\n",
    "tmp = complex_ene[\"energies\"].iloc[0]"
   ]
  },
  {
   "cell_type": "code",
   "execution_count": 8,
   "metadata": {},
   "outputs": [
    {
     "data": {
      "text/plain": [
       "(20,)"
      ]
     },
     "execution_count": 8,
     "metadata": {},
     "output_type": "execute_result"
    }
   ],
   "source": [
    "tmp.shape"
   ]
  },
  {
   "cell_type": "code",
   "execution_count": 9,
   "metadata": {},
   "outputs": [
    {
     "data": {
      "text/plain": [
       "array([-2.30677361e+03,  8.11853405e+02,  1.46180507e+03,  3.50531953e+03,\n",
       "        9.22575232e+01, -4.44835947e+01, -5.68797597e+02,  1.61927973e+01,\n",
       "       -8.56658887e+01, -1.49167529e+02, -5.67123772e+01, -3.95078550e+01,\n",
       "       -2.90500378e+00,  2.46602371e+02,  1.64293265e+03, -8.93118320e+01,\n",
       "        0.00000000e+00,  4.58854100e+01,  4.48507127e+01,  4.47847925e+01])"
      ]
     },
     "execution_count": 9,
     "metadata": {},
     "output_type": "execute_result"
    }
   ],
   "source": [
    "tmp"
   ]
  },
  {
   "cell_type": "markdown",
   "metadata": {},
   "source": [
    "## How the terms are calculated?"
   ]
  },
  {
   "cell_type": "markdown",
   "metadata": {},
   "source": [
    "Download pyRosetta - follow instructions here: https://els2.comotion.uw.edu/product/pyrosetta\n",
    "\n",
    "Download wheel file and then do pip install\n",
    "\n",
    "extract_fullc_energies was used to calculate energy for the whole complex\n",
    "\n",
    "extract_ppp_energies was used to calculate per-peptide-position terms\n",
    "\n",
    "if you want, later you can run this for the full dataset"
   ]
  },
  {
   "cell_type": "code",
   "execution_count": 10,
   "metadata": {},
   "outputs": [
    {
     "ename": "ModuleNotFoundError",
     "evalue": "No module named 'pyrosetta'",
     "output_type": "error",
     "traceback": [
      "\u001b[0;31m---------------------------------------------------------------------------\u001b[0m",
      "\u001b[0;31mModuleNotFoundError\u001b[0m                       Traceback (most recent call last)",
      "\u001b[0;32m<ipython-input-10-f9c2792dfaa8>\u001b[0m in \u001b[0;36m<module>\u001b[0;34m\u001b[0m\n\u001b[0;32m----> 1\u001b[0;31m \u001b[0;32mimport\u001b[0m \u001b[0mpyrosetta\u001b[0m\u001b[0;34m\u001b[0m\u001b[0;34m\u001b[0m\u001b[0m\n\u001b[0m",
      "\u001b[0;31mModuleNotFoundError\u001b[0m: No module named 'pyrosetta'"
     ]
    }
   ],
   "source": [
    "import pyrosetta"
   ]
  },
  {
   "cell_type": "code",
   "execution_count": 11,
   "metadata": {},
   "outputs": [],
   "source": [
    "# util functions for extrating the data\n",
    "def init_rosetta():\n",
    "    pyrosetta.init()\n",
    "\n",
    "def extract_fullc_energies(file_name):\n",
    "    scorefxn=pyrosetta.get_fa_scorefxn()\n",
    "    #load rosetta\n",
    "    pose = pyrosetta.pose_from_pdb(file_name)\n",
    "    scorefxn(pose)\n",
    "    #get energies\n",
    "    res_ene = pose.energies().total_energies_array()\n",
    "    return res_ene\n",
    "\n",
    "def extract_ppp_energies(file_name, pep_len):\n",
    "    scorefxn=pyrosetta.get_fa_scorefxn()\n",
    "    #load rosetta\n",
    "    pose = pyrosetta.pose_from_pdb(file_name)\n",
    "    scorefxn(pose)\n",
    "    #get energies\n",
    "    res_ene = pose.energies().residue_total_energies_array()\n",
    "    peptide_ene = res_ene[-pep_len:]\n",
    "    return peptide_ene\n"
   ]
  },
  {
   "cell_type": "code",
   "execution_count": 16,
   "metadata": {},
   "outputs": [],
   "source": [
    "#give a path to a pHLA pdb file\n",
    "fname = \"/rdf_mount/singleconf/all_data/A0101-YLEQLHQLY.pdb\"\n"
   ]
  },
  {
   "cell_type": "code",
   "execution_count": 13,
   "metadata": {},
   "outputs": [
    {
     "ename": "NameError",
     "evalue": "name 'pyrosetta' is not defined",
     "output_type": "error",
     "traceback": [
      "\u001b[0;31m---------------------------------------------------------------------------\u001b[0m",
      "\u001b[0;31mNameError\u001b[0m                                 Traceback (most recent call last)",
      "\u001b[0;32m<ipython-input-13-b35b5960dd89>\u001b[0m in \u001b[0;36m<module>\u001b[0;34m\u001b[0m\n\u001b[0;32m----> 1\u001b[0;31m \u001b[0minit_rosetta\u001b[0m\u001b[0;34m(\u001b[0m\u001b[0;34m)\u001b[0m\u001b[0;34m\u001b[0m\u001b[0;34m\u001b[0m\u001b[0m\n\u001b[0m\u001b[1;32m      2\u001b[0m \u001b[0mppp_energies\u001b[0m \u001b[0;34m=\u001b[0m \u001b[0mextract_ppp_energies\u001b[0m\u001b[0;34m(\u001b[0m\u001b[0mfname\u001b[0m\u001b[0;34m,\u001b[0m \u001b[0;36m9\u001b[0m\u001b[0;34m)\u001b[0m\u001b[0;34m\u001b[0m\u001b[0;34m\u001b[0m\u001b[0m\n\u001b[1;32m      3\u001b[0m \u001b[0mppp_energies\u001b[0m\u001b[0;34m\u001b[0m\u001b[0;34m\u001b[0m\u001b[0m\n",
      "\u001b[0;32m<ipython-input-11-1d65797349fd>\u001b[0m in \u001b[0;36minit_rosetta\u001b[0;34m()\u001b[0m\n\u001b[1;32m      1\u001b[0m \u001b[0;31m# util functions for extrating the data\u001b[0m\u001b[0;34m\u001b[0m\u001b[0;34m\u001b[0m\u001b[0;34m\u001b[0m\u001b[0m\n\u001b[1;32m      2\u001b[0m \u001b[0;32mdef\u001b[0m \u001b[0minit_rosetta\u001b[0m\u001b[0;34m(\u001b[0m\u001b[0;34m)\u001b[0m\u001b[0;34m:\u001b[0m\u001b[0;34m\u001b[0m\u001b[0;34m\u001b[0m\u001b[0m\n\u001b[0;32m----> 3\u001b[0;31m     \u001b[0mpyrosetta\u001b[0m\u001b[0;34m.\u001b[0m\u001b[0minit\u001b[0m\u001b[0;34m(\u001b[0m\u001b[0;34m)\u001b[0m\u001b[0;34m\u001b[0m\u001b[0;34m\u001b[0m\u001b[0m\n\u001b[0m\u001b[1;32m      4\u001b[0m \u001b[0;34m\u001b[0m\u001b[0m\n\u001b[1;32m      5\u001b[0m \u001b[0;32mdef\u001b[0m \u001b[0mextract_fullc_energies\u001b[0m\u001b[0;34m(\u001b[0m\u001b[0mfile_name\u001b[0m\u001b[0;34m)\u001b[0m\u001b[0;34m:\u001b[0m\u001b[0;34m\u001b[0m\u001b[0;34m\u001b[0m\u001b[0m\n",
      "\u001b[0;31mNameError\u001b[0m: name 'pyrosetta' is not defined"
     ]
    }
   ],
   "source": [
    "init_rosetta()\n",
    "ppp_energies = extract_ppp_energies(fname, 9)\n",
    "ppp_energies"
   ]
  },
  {
   "cell_type": "code",
   "execution_count": 14,
   "metadata": {},
   "outputs": [
    {
     "ename": "NameError",
     "evalue": "name 'ppp_energies' is not defined",
     "output_type": "error",
     "traceback": [
      "\u001b[0;31m---------------------------------------------------------------------------\u001b[0m",
      "\u001b[0;31mNameError\u001b[0m                                 Traceback (most recent call last)",
      "\u001b[0;32m<ipython-input-14-c1fc5b1966e7>\u001b[0m in \u001b[0;36m<module>\u001b[0;34m\u001b[0m\n\u001b[0;32m----> 1\u001b[0;31m \u001b[0mpd\u001b[0m\u001b[0;34m.\u001b[0m\u001b[0mDataFrame\u001b[0m\u001b[0;34m(\u001b[0m\u001b[0mppp_energies\u001b[0m\u001b[0;34m)\u001b[0m\u001b[0;34m\u001b[0m\u001b[0;34m\u001b[0m\u001b[0m\n\u001b[0m",
      "\u001b[0;31mNameError\u001b[0m: name 'ppp_energies' is not defined"
     ]
    }
   ],
   "source": [
    "pd.DataFrame(ppp_energies)"
   ]
  },
  {
   "cell_type": "markdown",
   "metadata": {},
   "source": [
    "## Energy array type\n",
    "\n",
    "Each energy array of length 20 (both for total energy and for ppp energy)\n",
    "has these terms and in this order.\n",
    "You can use this here to cast the energies and then pick energy of interest\n",
    "for example only attractive (fa_atr) to cluster"
   ]
  },
  {
   "cell_type": "code",
   "execution_count": 15,
   "metadata": {},
   "outputs": [],
   "source": [
    "refenetype=[('fa_atr', '<f8'), \n",
    "            ('fa_rep', '<f8'), \n",
    "            ('fa_sol', '<f8'), \n",
    "            ('fa_intra_rep', '<f8'), \n",
    "            ('fa_intra_sol_xover4', '<f8'), \n",
    "            ('lk_ball_wtd', '<f8'), \n",
    "            ('fa_elec', '<f8'), \n",
    "            ('pro_close', '<f8'), \n",
    "            ('hbond_sr_bb', '<f8'), \n",
    "            ('hbond_lr_bb', '<f8'),\n",
    "            ('hbond_bb_sc', '<f8'), \n",
    "            ('hbond_sc', '<f8'), \n",
    "            ('dslf_fa13', '<f8'), \n",
    "            ('omega', '<f8'), \n",
    "            ('fa_dun', '<f8'), \n",
    "            ('p_aa_pp', '<f8'), \n",
    "            ('yhh_planarity', '<f8'), \n",
    "            ('ref', '<f8'), \n",
    "            ('rama_prepro', '<f8'), \n",
    "            ('total_score', '<f8')]"
   ]
  },
  {
   "cell_type": "code",
   "execution_count": null,
   "metadata": {},
   "outputs": [],
   "source": []
  }
 ],
 "metadata": {
  "kernelspec": {
   "display_name": "Python 3",
   "language": "python",
   "name": "python3"
  },
  "language_info": {
   "codemirror_mode": {
    "name": "ipython",
    "version": 3
   },
   "file_extension": ".py",
   "mimetype": "text/x-python",
   "name": "python",
   "nbconvert_exporter": "python",
   "pygments_lexer": "ipython3",
   "version": "3.8.5"
  }
 },
 "nbformat": 4,
 "nbformat_minor": 2
}
